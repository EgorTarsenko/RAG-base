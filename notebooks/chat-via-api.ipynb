{
 "cells": [
  {
   "cell_type": "code",
   "execution_count": null,
   "id": "d2fb08d2-5c96-410b-bad6-18d89292109c",
   "metadata": {},
   "outputs": [],
   "source": [
    "import requests\n",
    "import json\n",
    "from typing import Iterator, Optional\n",
    "\n",
    "def chat_stream(message: str, url: str = \"http://fastapi:8080/chat/ask\", cookie_file: str = \"cookies.tmp.txt\") -> Iterator[str]:\n",
    "    \"\"\"\n",
    "    Send a chat message and stream the response\n",
    "    \"\"\"\n",
    "    # Load existing cookies if present\n",
    "    cookies = {}\n",
    "    try:\n",
    "        with open(cookie_file, 'r') as f:\n",
    "            for line in f:\n",
    "                if line.startswith('#'):\n",
    "                    continue\n",
    "                fields = line.strip().split('\\t')\n",
    "                if len(fields) >= 7:\n",
    "                    cookies[fields[5]] = fields[6]\n",
    "    except FileNotFoundError:\n",
    "        pass\n",
    "\n",
    "    headers = {\n",
    "        'Content-Type': 'application/json'\n",
    "    }\n",
    "    \n",
    "    data = {\n",
    "        'message': message\n",
    "    }\n",
    "\n",
    "    response = requests.post(\n",
    "        url,\n",
    "        headers=headers,\n",
    "        json=data,\n",
    "        cookies=cookies,\n",
    "        stream=True\n",
    "    )\n",
    "    \n",
    "    # Save updated cookies\n",
    "    with open(cookie_file, 'w') as f:\n",
    "        for cookie in response.cookies:\n",
    "            f.write(f\"localhost\\tFALSE\\t/\\tFALSE\\t0\\t{cookie.name}\\t{cookie.value}\\n\")\n",
    "    \n",
    "    # Stream the response\n",
    "    for chunk in response.iter_content(chunk_size=None, decode_unicode=True):\n",
    "        if chunk:\n",
    "            yield chunk"
   ]
  },
  {
   "cell_type": "code",
   "execution_count": null,
   "id": "98fd92a0-a43f-4981-a537-17bfb7864f6a",
   "metadata": {},
   "outputs": [],
   "source": [
    "def chat_sync(message: str) -> None:\n",
    "    \"\"\"\n",
    "    Send a chat message and print the response as it arrives\n",
    "    \"\"\"\n",
    "    for chunk in chat_stream(message):\n",
    "        print(chunk, end='', flush=True)"
   ]
  },
  {
   "cell_type": "code",
   "execution_count": null,
   "id": "9afc8f1e-667f-46bf-9737-182cabe9a437",
   "metadata": {},
   "outputs": [],
   "source": [
    "chat_sync(\"Who are you?\")"
   ]
  },
  {
   "cell_type": "code",
   "execution_count": null,
   "id": "640ca11b-2657-416d-8ae2-b87eca013e6e",
   "metadata": {},
   "outputs": [],
   "source": []
  }
 ],
 "metadata": {
  "kernelspec": {
   "display_name": "Python 3 (ipykernel)",
   "language": "python",
   "name": "python3"
  },
  "language_info": {
   "codemirror_mode": {
    "name": "ipython",
    "version": 3
   },
   "file_extension": ".py",
   "mimetype": "text/x-python",
   "name": "python",
   "nbconvert_exporter": "python",
   "pygments_lexer": "ipython3",
   "version": "3.11.6"
  }
 },
 "nbformat": 4,
 "nbformat_minor": 5
}
