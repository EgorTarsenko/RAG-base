{
 "cells": [
  {
   "cell_type": "markdown",
   "id": "0682881f-044f-41ac-a0b4-ae4efc873649",
   "metadata": {},
   "source": [
    "----\n",
    "\n",
    "## Initial Vector DB Setup"
   ]
  },
  {
   "cell_type": "code",
   "execution_count": 158,
   "id": "dc069d34-7dd9-4f72-8e9c-29ba357e42d7",
   "metadata": {},
   "outputs": [],
   "source": [
    "import dotenv\n",
    "import os\n",
    "import pandas as pd\n",
    "import sys\n",
    "\n",
    "from pathlib import Path\n",
    "\n",
    "from app.indexing.metadata import DocumentMetadata"
   ]
  },
  {
   "cell_type": "code",
   "execution_count": 159,
   "id": "c89eb65c",
   "metadata": {},
   "outputs": [],
   "source": [
    "# Load and set environment\n",
    "\n",
    "dotenv.load_dotenv()\n",
    "os.environ['USER_AGENT'] = 'myagent'\n",
    "PROJECT_HOME = Path(os.environ.get('PROJECT_HOME', Path.cwd() / '..')).resolve()\n",
    "sys.path.append(str(PROJECT_HOME))"
   ]
  },
  {
   "cell_type": "code",
   "execution_count": 160,
   "id": "14c0383c",
   "metadata": {},
   "outputs": [],
   "source": [
    "# from app.databases.vector.milvus import Milvus\n",
    "from app.databases.vector import VectorDB\n",
    "\n",
    "vector_db = VectorDB(\n",
    "    # auto_id=True,\n",
    "    # drop_old=True,  # Drop existing values inside the collection\n",
    ")"
   ]
  },
  {
   "cell_type": "markdown",
   "id": "d5cdbf1b-ed76-40b7-937c-f373a6b582e3",
   "metadata": {},
   "source": [
    "---"
   ]
  },
  {
   "cell_type": "markdown",
   "id": "b85f13be-2319-4199-ad6c-d50b13471924",
   "metadata": {},
   "source": [
    "## Ingesting docx documents\n"
   ]
  },
  {
   "cell_type": "code",
   "execution_count": null,
   "id": "ab8ee2c0-328a-402d-a3b5-47682aee66a8",
   "metadata": {},
   "outputs": [],
   "source": [
    "\n",
    "# # Scan files and load them into the vector DB.\n",
    "\n",
    "# from langchain_community.document_loaders.word_document import Docx2txtLoader\n",
    "# from langchain_text_splitters import RecursiveCharacterTextSplitter\n",
    "# from tqdm.notebook import tqdm\n",
    "# from datetime import datetime\n",
    "\n",
    "# # File paths\n",
    "# docs_path = PROJECT_HOME / 'data' / 'docx'\n",
    "# # index_df = pd.read_csv(docs_path.parent / 'drive_files.csv')\n",
    "\n",
    "# # Scan all files that appear in the CSV.\n",
    "# from pathlib import Path\n",
    "# from tqdm import tqdm\n",
    "\n",
    "# # Specify your base directory containing the documents\n",
    "# docs_path = Path(docs_path)\n",
    "\n",
    "# # Get all .docx files in the directory\n",
    "# files = list(docs_path.glob(\"*.docx\"))\n",
    "\n",
    "# for file_path in tqdm(files, desc=\"Processing documents\"):\n",
    "#     try:\n",
    "#         loader = Docx2txtLoader(file_path)\n",
    "#         docs = loader.load()\n",
    "\n",
    "#         # Convert timestamp to formatted string\n",
    "#         timestamp = file_path.stat().st_mtime\n",
    "#         modified_date = datetime.fromtimestamp(timestamp).strftime('%Y-%m-%d %H:%M:%S')\n",
    "\n",
    "\n",
    "#         # Add metadata to all file chunks\n",
    "#         for doc in docs:\n",
    "#             doc.metadata = doc.metadata | {\n",
    "#                 'source_name': file_path.name,\n",
    "#                 'modified_at': modified_date,  # Gets file modification time\n",
    "#                 'source_id': file_path.name,\n",
    "#             }\n",
    "\n",
    "#         text_splitter = RecursiveCharacterTextSplitter(chunk_size=1000, chunk_overlap=200)\n",
    "#         splits = text_splitter.split_documents(docs)\n",
    "#         vector_db.add_documents(documents=splits)\n",
    "\n",
    "#     except Exception as exc:\n",
    "#         print(f\"Error processing {file_path}: {exc}\")  # Optional: for debugging\n",
    "\n",
    "\n",
    "# print('Done!')"
   ]
  },
  {
   "cell_type": "markdown",
   "id": "72ea7566-f00a-400a-9e4e-c6a4a7ab136c",
   "metadata": {},
   "source": [
    "# Ingesting documents\n"
   ]
  },
  {
   "cell_type": "code",
   "execution_count": 126,
   "id": "d3737615-32da-477a-b26b-97f4f8553911",
   "metadata": {},
   "outputs": [],
   "source": [
    "from pathlib import Path\n",
    "from tqdm.notebook import tqdm\n",
    "\n",
    "\n",
    "DOCS_BASE_PATH = PROJECT_HOME / 'data'\n",
    "\n",
    "def get_documents_from_subfolder(subpath):\n",
    "    ''' Returns all the documents from a sub-path of the DOCS_BASE_PATH'''\n",
    "    return list((DOCS_BASE_PATH / subpath).glob(\"*\"))"
   ]
  },
  {
   "cell_type": "code",
   "execution_count": 154,
   "id": "b948ae7d-b302-4505-9a91-5b722105665d",
   "metadata": {},
   "outputs": [],
   "source": [
    "from langchain_community.document_loaders.text import TextLoader\n",
    "from langchain_text_splitters import RecursiveCharacterTextSplitter\n",
    "from tqdm.notebook import tqdm\n",
    "from langchain_community.document_loaders import PyPDFLoader\n",
    "from langchain_community.document_loaders.word_document import Docx2txtLoader\n",
    "\n",
    "def get_splits_from_paths(file_paths, loader):\n",
    "    '''\n",
    "    Returns langchain Documents split using a RecusriveCharacterTextSplitter (for now).\n",
    "    Their metadata is set to our project metadata.\n",
    "\n",
    "    loader needs to be some langchain loader, e.g. TextLoader.\n",
    "    '''\n",
    "    splits = []\n",
    "    for file_path in tqdm(file_paths, desc=\"Processing documents\"):\n",
    "        try:\n",
    "            loader = loader(file_path)\n",
    "            docs = loader.load()\n",
    "    \n",
    "            # Convert timestamp to formatted string\n",
    "            timestamp = file_path.stat().st_mtime\n",
    "            modified_date = datetime.fromtimestamp(timestamp)# .strftime('%Y-%m-%d %H:%M:%S')\n",
    "    \n",
    "            # Add metadata to all file chunks\n",
    "            for doc in docs:\n",
    "                metadata = DocumentMetadata(source_id= file_path.name,\n",
    "                                 source_name= file_path.name,\n",
    "                                 modified_at= modified_date)\n",
    "                doc.metadata = metadata.to_dict()\n",
    "    \n",
    "            text_splitter = RecursiveCharacterTextSplitter(chunk_size=1000, chunk_overlap=200)\n",
    "            splits += text_splitter.split_documents(docs)\n",
    "            # vector_db.add_documents(documents=splits)\n",
    "    \n",
    "        except Exception as exc:\n",
    "            print(f\"Error processing {file_path}: {exc}\")  # Optional: for debugging\n",
    "    return splits\n",
    "    \n",
    "def get_txt_splits_from_paths(file_paths): return get_splits_from_paths(file_paths, TextLoader)\n",
    "def get_pdf_splits_from_paths(file_paths): return get_splits_from_paths(file_paths, PyPDFLoader)\n",
    "def get_docx_splits_from_paths(file_paths): return get_splits_from_paths(file_paths, Docx2txtLoader)\n"
   ]
  },
  {
   "cell_type": "code",
   "execution_count": 150,
   "id": "8288e2f7-b2d9-4633-ad07-b3b56345a061",
   "metadata": {},
   "outputs": [
    {
     "data": {
      "text/plain": [
       "[PosixPath('/home/jovyan/work/data/txt/aesops fables_small.txt')]"
      ]
     },
     "execution_count": 150,
     "metadata": {},
     "output_type": "execute_result"
    }
   ],
   "source": [
    "get_documents_from_subfolder(\"txt\")"
   ]
  },
  {
   "cell_type": "markdown",
   "id": "53124e7a-5f60-4c2b-bf40-440fb94e8d5a",
   "metadata": {},
   "source": [
    "## Ingesting txt documents"
   ]
  },
  {
   "cell_type": "code",
   "execution_count": 151,
   "id": "c89c9ece-0eb6-4d36-aaa8-d56fbdadc862",
   "metadata": {},
   "outputs": [
    {
     "data": {
      "application/vnd.jupyter.widget-view+json": {
       "model_id": "6a4fc4f49c8541baa589c1bde61d6eec",
       "version_major": 2,
       "version_minor": 0
      },
      "text/plain": [
       "Processing documents:   0%|          | 0/1 [00:00<?, ?it/s]"
      ]
     },
     "metadata": {},
     "output_type": "display_data"
    },
    {
     "data": {
      "text/plain": [
       "[Document(metadata={'source_id': 'aesops fables_small.txt', 'source_name': 'aesops fables_small.txt', 'modified_at': '2024-11-05T12:25:50.989352'}, page_content='\\ufeffINTRODUCTION'),\n",
       " Document(metadata={'source_id': 'aesops fables_small.txt', 'source_name': 'aesops fables_small.txt', 'modified_at': '2024-11-05T12:25:50.989352'}, page_content='_Æsop embodies an epigram not uncommon in human history; his fame\\nis all the more deserved because he never deserved it. The firm\\nfoundations of common sense, the shrewd shots at uncommon sense, that\\ncharacterise all the Fables, belong not him but to humanity. In\\nthe earliest human history whatever is authentic is universal: and\\nwhatever is universal is anonymous. In such cases there is always\\nsome central man who had first the trouble of collecting them, and\\nafterwards the fame of creating them. He had the fame; and, on the\\nwhole, he earned the fame. There must have been something great and\\nhuman, something of the human future and the human past, in such a\\nman: even if he only used it to rob the past or deceive the future.\\nThe story of Arthur may have been really connected with the most\\nfighting Christianity of falling Rome or with the most heathen\\ntraditions hidden in the hills of Wales. But the word \"Mappe\" or\\n\"Malory\" will always mean King Arthur; even though we find older and')]"
      ]
     },
     "execution_count": 151,
     "metadata": {},
     "output_type": "execute_result"
    }
   ],
   "source": [
    "txt_splits = get_txt_splits_from_paths(get_documents_from_subfolder('txt'))\n",
    "txt_splits[:2]"
   ]
  },
  {
   "cell_type": "code",
   "execution_count": 130,
   "id": "5f850389-e258-4e04-8ce2-81ab17ff2f75",
   "metadata": {},
   "outputs": [
    {
     "data": {
      "text/plain": [
       "[453719138828027015,\n",
       " 453719138828027016,\n",
       " 453719138828027017,\n",
       " 453719138828027018,\n",
       " 453719138828027019,\n",
       " 453719138828027020,\n",
       " 453719138828027021,\n",
       " 453719138828027022,\n",
       " 453719138828027023,\n",
       " 453719138828027024]"
      ]
     },
     "execution_count": 130,
     "metadata": {},
     "output_type": "execute_result"
    }
   ],
   "source": [
    "vector_db.add_documents(documents=txt_splits)"
   ]
  },
  {
   "cell_type": "markdown",
   "id": "2049c377-7a7d-47d9-81c1-f6ea9dbd52bc",
   "metadata": {},
   "source": [
    "## Ingesting PDF files"
   ]
  },
  {
   "cell_type": "code",
   "execution_count": 164,
   "id": "016718f9-ee9b-4f3e-999f-88ac852784dc",
   "metadata": {},
   "outputs": [
    {
     "data": {
      "application/vnd.jupyter.widget-view+json": {
       "model_id": "340e80007c484812ade03f01fbed8372",
       "version_major": 2,
       "version_minor": 0
      },
      "text/plain": [
       "Processing documents:   0%|          | 0/1 [00:00<?, ?it/s]"
      ]
     },
     "metadata": {},
     "output_type": "display_data"
    },
    {
     "data": {
      "application/vnd.jupyter.widget-view+json": {
       "model_id": "e4214f143c5344bd8e4bbc79cde8c390",
       "version_major": 2,
       "version_minor": 0
      },
      "text/plain": [
       "Processing documents:   0%|          | 0/1 [00:00<?, ?it/s]"
      ]
     },
     "metadata": {},
     "output_type": "display_data"
    },
    {
     "name": "stderr",
     "output_type": "stream",
     "text": [
      "Ignoring wrong pointing object 6 0 (offset 0)\n"
     ]
    }
   ],
   "source": [
    "pdf_splits_alice = get_pdf_splits_from_paths(get_documents_from_subfolder(\"pdf_alice\"))\n",
    "pdf_splits_test =  get_pdf_splits_from_paths(get_documents_from_subfolder(\"pdf\"))"
   ]
  },
  {
   "cell_type": "code",
   "execution_count": 165,
   "id": "7fcf8984-a775-40f5-a9fc-1eabdbae54ac",
   "metadata": {
    "scrolled": true
   },
   "outputs": [
    {
     "data": {
      "text/plain": [
       "[453719138828027240,\n",
       " 453719138828027241,\n",
       " 453719138828027242,\n",
       " 453719138828027243,\n",
       " 453719138828027244,\n",
       " 453719138828027245,\n",
       " 453719138828027246,\n",
       " 453719138828027247,\n",
       " 453719138828027248,\n",
       " 453719138828027249,\n",
       " 453719138828027250,\n",
       " 453719138828027251,\n",
       " 453719138828027252,\n",
       " 453719138828027253,\n",
       " 453719138828027254,\n",
       " 453719138828027255,\n",
       " 453719138828027256,\n",
       " 453719138828027257,\n",
       " 453719138828027258,\n",
       " 453719138828027259,\n",
       " 453719138828027260,\n",
       " 453719138828027261,\n",
       " 453719138828027262,\n",
       " 453719138828027263,\n",
       " 453719138828027264,\n",
       " 453719138828027265,\n",
       " 453719138828027266,\n",
       " 453719138828027267,\n",
       " 453719138828027268,\n",
       " 453719138828027269,\n",
       " 453719138828027270,\n",
       " 453719138828027271,\n",
       " 453719138828027272,\n",
       " 453719138828027273,\n",
       " 453719138828027274,\n",
       " 453719138828027275,\n",
       " 453719138828027276,\n",
       " 453719138828027277,\n",
       " 453719138828027278,\n",
       " 453719138828027279,\n",
       " 453719138828027280,\n",
       " 453719138828027281,\n",
       " 453719138828027282,\n",
       " 453719138828027283,\n",
       " 453719138828027284,\n",
       " 453719138828027285,\n",
       " 453719138828027286,\n",
       " 453719138828027287,\n",
       " 453719138828027288,\n",
       " 453719138828027289,\n",
       " 453719138828027290,\n",
       " 453719138828027291,\n",
       " 453719138828027292,\n",
       " 453719138828027293,\n",
       " 453719138828027294,\n",
       " 453719138828027295,\n",
       " 453719138828027296,\n",
       " 453719138828027297,\n",
       " 453719138828027298,\n",
       " 453719138828027299,\n",
       " 453719138828027300,\n",
       " 453719138828027301,\n",
       " 453719138828027302,\n",
       " 453719138828027303,\n",
       " 453719138828027304,\n",
       " 453719138828027305,\n",
       " 453719138828027306,\n",
       " 453719138828027307,\n",
       " 453719138828027308,\n",
       " 453719138828027309,\n",
       " 453719138828027310,\n",
       " 453719138828027311,\n",
       " 453719138828027312,\n",
       " 453719138828027313,\n",
       " 453719138828027314,\n",
       " 453719138828027315,\n",
       " 453719138828027316,\n",
       " 453719138828027317,\n",
       " 453719138828027318,\n",
       " 453719138828027319,\n",
       " 453719138828027320,\n",
       " 453719138828027321,\n",
       " 453719138828027322,\n",
       " 453719138828027323,\n",
       " 453719138828027324,\n",
       " 453719138828027325,\n",
       " 453719138828027326,\n",
       " 453719138828027327,\n",
       " 453719138828027328,\n",
       " 453719138828027329,\n",
       " 453719138828027330,\n",
       " 453719138828027331,\n",
       " 453719138828027332,\n",
       " 453719138828027333,\n",
       " 453719138828027334,\n",
       " 453719138828027335,\n",
       " 453719138828027336,\n",
       " 453719138828027337,\n",
       " 453719138828027338,\n",
       " 453719138828027339,\n",
       " 453719138828027340,\n",
       " 453719138828027341,\n",
       " 453719138828027342,\n",
       " 453719138828027343,\n",
       " 453719138828027344,\n",
       " 453719138828027345,\n",
       " 453719138828027346,\n",
       " 453719138828027347,\n",
       " 453719138828027348,\n",
       " 453719138828027349,\n",
       " 453719138828027350,\n",
       " 453719138828027351,\n",
       " 453719138828027352,\n",
       " 453719138828027353,\n",
       " 453719138828027354,\n",
       " 453719138828027355,\n",
       " 453719138828027356,\n",
       " 453719138828027357,\n",
       " 453719138828027358,\n",
       " 453719138828027359,\n",
       " 453719138828027360,\n",
       " 453719138828027361,\n",
       " 453719138828027362,\n",
       " 453719138828027363,\n",
       " 453719138828027364,\n",
       " 453719138828027365,\n",
       " 453719138828027366,\n",
       " 453719138828027367,\n",
       " 453719138828027368,\n",
       " 453719138828027369,\n",
       " 453719138828027370,\n",
       " 453719138828027371,\n",
       " 453719138828027372,\n",
       " 453719138828027373,\n",
       " 453719138828027374,\n",
       " 453719138828027375,\n",
       " 453719138828027376,\n",
       " 453719138828027377,\n",
       " 453719138828027378,\n",
       " 453719138828027379,\n",
       " 453719138828027380,\n",
       " 453719138828027381,\n",
       " 453719138828027382,\n",
       " 453719138828027383,\n",
       " 453719138828027384,\n",
       " 453719138828027385,\n",
       " 453719138828027386,\n",
       " 453719138828027387,\n",
       " 453719138828027388,\n",
       " 453719138828027389,\n",
       " 453719138828027390,\n",
       " 453719138828027391,\n",
       " 453719138828027392,\n",
       " 453719138828027393,\n",
       " 453719138828027394,\n",
       " 453719138828027395,\n",
       " 453719138828027396,\n",
       " 453719138828027397,\n",
       " 453719138828027398,\n",
       " 453719138828027399,\n",
       " 453719138828027400,\n",
       " 453719138828027401,\n",
       " 453719138828027402,\n",
       " 453719138828027403,\n",
       " 453719138828027404,\n",
       " 453719138828027405,\n",
       " 453719138828027406,\n",
       " 453719138828027407,\n",
       " 453719138828027408,\n",
       " 453719138828027409,\n",
       " 453719138828027410,\n",
       " 453719138828027411,\n",
       " 453719138828027412,\n",
       " 453719138828027413,\n",
       " 453719138828027414,\n",
       " 453719138828027415,\n",
       " 453719138828027416,\n",
       " 453719138828027417,\n",
       " 453719138828027418,\n",
       " 453719138828027419,\n",
       " 453719138828027420,\n",
       " 453719138828027421,\n",
       " 453719138828027422,\n",
       " 453719138828027423,\n",
       " 453719138828027424,\n",
       " 453719138828027425,\n",
       " 453719138828027426,\n",
       " 453719138828027427,\n",
       " 453719138828027428,\n",
       " 453719138828027429,\n",
       " 453719138828027430,\n",
       " 453719138828027431,\n",
       " 453719138828027432,\n",
       " 453719138828027433,\n",
       " 453719138828027434,\n",
       " 453719138828027435,\n",
       " 453719138828027436,\n",
       " 453719138828027437,\n",
       " 453719138828027438,\n",
       " 453719138828027439,\n",
       " 453719138828027440,\n",
       " 453719138828027441,\n",
       " 453719138828027442,\n",
       " 453719138828027443,\n",
       " 453719138828027444,\n",
       " 453719138828027445,\n",
       " 453719138828027446]"
      ]
     },
     "execution_count": 165,
     "metadata": {},
     "output_type": "execute_result"
    }
   ],
   "source": [
    "# vector_db.add_documents(documents=pdf_splits_test)\n",
    "vector_db.add_documents(documents=pdf_splits_alice)"
   ]
  },
  {
   "cell_type": "markdown",
   "id": "62d6b961-f7d9-456b-851d-68f854e46dba",
   "metadata": {},
   "source": [
    "## Ingesting Docx files"
   ]
  },
  {
   "cell_type": "code",
   "execution_count": 162,
   "id": "a79416b1-4f0f-4ffd-b995-27b0bb3b201a",
   "metadata": {},
   "outputs": [
    {
     "data": {
      "application/vnd.jupyter.widget-view+json": {
       "model_id": "ae5cd49a997241fe97bfbf67f10f99a8",
       "version_major": 2,
       "version_minor": 0
      },
      "text/plain": [
       "Processing documents:   0%|          | 0/1 [00:00<?, ?it/s]"
      ]
     },
     "metadata": {},
     "output_type": "display_data"
    }
   ],
   "source": [
    "docx_splits =  get_docx_splits_from_paths(get_documents_from_subfolder(\"docx\"))"
   ]
  },
  {
   "cell_type": "code",
   "execution_count": 163,
   "id": "1d33bc90-307d-4a01-9e97-6e5bbf56beb0",
   "metadata": {},
   "outputs": [
    {
     "data": {
      "text/plain": [
       "[453719138828027234,\n",
       " 453719138828027235,\n",
       " 453719138828027236,\n",
       " 453719138828027237,\n",
       " 453719138828027238]"
      ]
     },
     "execution_count": 163,
     "metadata": {},
     "output_type": "execute_result"
    }
   ],
   "source": [
    "vector_db.add_documents(documents=docx_splits)"
   ]
  },
  {
   "cell_type": "code",
   "execution_count": 72,
   "id": "b69efd23-3d8f-488d-8615-5526fcde8c3e",
   "metadata": {},
   "outputs": [
    {
     "data": {
      "application/vnd.jupyter.widget-view+json": {
       "model_id": "3efbf012456d42fc9859fb471f5ac190",
       "version_major": 2,
       "version_minor": 0
      },
      "text/plain": [
       "Processing documents:   0%|          | 0/1 [00:00<?, ?it/s]"
      ]
     },
     "metadata": {},
     "output_type": "display_data"
    },
    {
     "name": "stdout",
     "output_type": "stream",
     "text": [
      "Done!\n"
     ]
    }
   ],
   "source": [
    "\n",
    "# # Scan files and load them into the vector DB.\n",
    "\n",
    "# from langchain_community.document_loaders.text import TextLoader\n",
    "# from langchain_text_splitters import RecursiveCharacterTextSplitter\n",
    "# from tqdm.notebook import tqdm\n",
    "# from datetime import datetime\n",
    "\n",
    "\n",
    "# # Get all .docx files in the directory\n",
    "# files = get_documents_from_subfolder(\"txt\")\n",
    "\n",
    "# for file_path in tqdm(files, desc=\"Processing documents\"):\n",
    "#     try:\n",
    "#         loader = TextLoader(file_path)\n",
    "#         docs = loader.load()\n",
    "\n",
    "#         # Convert timestamp to formatted string\n",
    "#         timestamp = file_path.stat().st_mtime\n",
    "#         modified_date = datetime.fromtimestamp(timestamp).strftime('%Y-%m-%d %H:%M:%S')\n",
    "\n",
    "#         # Add metadata to all file chunks\n",
    "#         for doc in docs:\n",
    "#             doc.metadata = doc.metadata | {\n",
    "#                 'source_name': file_path.name,\n",
    "#                 'modified_at': modified_date,  # Gets file modification time\n",
    "#                 'source_id': file_path.name,\n",
    "#             }\n",
    "\n",
    "#         text_splitter = RecursiveCharacterTextSplitter(chunk_size=1000, chunk_overlap=200)\n",
    "#         splits = text_splitter.split_documents(docs)\n",
    "#         vector_db.add_documents(documents=splits)\n",
    "\n",
    "#     except Exception as exc:\n",
    "#         print(f\"Error processing {file_path}: {exc}\")  # Optional: for debugging\n",
    "\n",
    "\n",
    "# print('Done!')"
   ]
  },
  {
   "cell_type": "code",
   "execution_count": 30,
   "id": "152d4908-5500-4176-8d9a-43d9ac1c8ebd",
   "metadata": {},
   "outputs": [],
   "source": [
    "files = get_documents_from_subfolder(\"txt\")\n",
    "\n",
    "loader = TextLoader(files[0])\n",
    "docs = loader.load()"
   ]
  },
  {
   "cell_type": "code",
   "execution_count": 39,
   "id": "500e8f8a-e60b-4502-a91c-60a17b02434c",
   "metadata": {},
   "outputs": [
    {
     "data": {
      "text/plain": [
       "{'source': '/home/jovyan/work/data/txt/aesops fables.txt'}"
      ]
     },
     "execution_count": 39,
     "metadata": {},
     "output_type": "execute_result"
    }
   ],
   "source": [
    "docs[0].metadata"
   ]
  },
  {
   "cell_type": "code",
   "execution_count": null,
   "id": "48577050-4f05-41e0-bfeb-fbc94c02dce8",
   "metadata": {},
   "outputs": [],
   "source": []
  },
  {
   "cell_type": "code",
   "execution_count": null,
   "id": "8c4e8d90-3fe0-4102-b942-259f4b68c9b6",
   "metadata": {},
   "outputs": [],
   "source": []
  },
  {
   "cell_type": "code",
   "execution_count": null,
   "id": "c5fddced-c394-43b9-bf5a-f2445e16ee8a",
   "metadata": {},
   "outputs": [],
   "source": []
  },
  {
   "cell_type": "code",
   "execution_count": null,
   "id": "5420fb3a-52c5-4133-8786-f9e90722e0ba",
   "metadata": {},
   "outputs": [],
   "source": []
  },
  {
   "cell_type": "code",
   "execution_count": null,
   "id": "abc222fa-312a-418a-a728-0021f46a16d8",
   "metadata": {},
   "outputs": [],
   "source": []
  },
  {
   "cell_type": "code",
   "execution_count": null,
   "id": "4a1c4d51-49f2-4a8c-b6bf-6328d0bc7eb4",
   "metadata": {},
   "outputs": [],
   "source": []
  },
  {
   "cell_type": "code",
   "execution_count": null,
   "id": "252122b9-9ce4-49fe-90ee-46a73cde5075",
   "metadata": {},
   "outputs": [],
   "source": []
  },
  {
   "cell_type": "code",
   "execution_count": null,
   "id": "0971a710-1d37-49a0-b586-b7b4ee1bf984",
   "metadata": {},
   "outputs": [],
   "source": []
  },
  {
   "cell_type": "code",
   "execution_count": null,
   "id": "0b8f06fe-3993-46e4-95ce-af01fa67d4d6",
   "metadata": {},
   "outputs": [],
   "source": []
  },
  {
   "cell_type": "code",
   "execution_count": null,
   "id": "563c3d21-eb97-4e65-adf6-347a60c2f44a",
   "metadata": {},
   "outputs": [],
   "source": []
  },
  {
   "cell_type": "markdown",
   "id": "300351a8-1190-4cea-846f-4c28a02d1c8e",
   "metadata": {},
   "source": [
    "## Ingesting PDFs OLD"
   ]
  },
  {
   "cell_type": "code",
   "execution_count": 33,
   "id": "a07de550-77f2-4462-8c42-829401523f50",
   "metadata": {},
   "outputs": [],
   "source": [
    "from langchain_community.document_loaders import PyPDFLoader\n",
    "from langchain_text_splitters import RecursiveCharacterTextSplitter\n",
    "from tqdm.notebook import tqdm\n",
    "from datetime import datetime\n"
   ]
  },
  {
   "cell_type": "code",
   "execution_count": 80,
   "id": "5fff702e-fd47-4165-8ea7-ac93e32c15b9",
   "metadata": {},
   "outputs": [],
   "source": [
    "def get_pdf_splits_from_paths(files):\n",
    "    '''\n",
    "    Returns langchain Documents split using a RecusriveCharacterTextSplitter (for now).\n",
    "    Their metadata is set to our project metadata.\n",
    "    '''\n",
    "    splits = []\n",
    "    for file_path in tqdm(files, desc=\"Processing documents\"):\n",
    "        try:\n",
    "            loader = PyPDFLoader(file_path)\n",
    "            docs = loader.load()\n",
    "    \n",
    "            # Convert timestamp to formatted string\n",
    "            timestamp = file_path.stat().st_mtime\n",
    "            modified_date = datetime.fromtimestamp(timestamp).strftime('%Y-%m-%d %H:%M:%S')\n",
    "    \n",
    "            # Add metadata to all file chunks\n",
    "            # for doc in docs:\n",
    "            for doc in docs[:1]: # Temp - only do 1!\n",
    "                doc.metadata =  {\n",
    "                    'source_name': file_path.name,\n",
    "                    'modified_at': modified_date,  # Gets file modification time\n",
    "                    'source_id': file_path.name,\n",
    "                }\n",
    "    \n",
    "            text_splitter = RecursiveCharacterTextSplitter(chunk_size=1000, chunk_overlap=200)\n",
    "            splits += text_splitter.split_documents(docs)\n",
    "            # vector_db.add_documents(documents=splits)\n",
    "    \n",
    "        except Exception as exc:\n",
    "            print(f\"Error processing {file_path}: {exc}\")  # Optional: for debugging\n",
    "    return splits\n",
    "    \n",
    "        "
   ]
  },
  {
   "cell_type": "code",
   "execution_count": 68,
   "id": "6c156c07-2035-4e8b-a651-bd2b00d1d624",
   "metadata": {},
   "outputs": [
    {
     "data": {
      "application/vnd.jupyter.widget-view+json": {
       "model_id": "aad080b3705f48d5bb7d446c98a27551",
       "version_major": 2,
       "version_minor": 0
      },
      "text/plain": [
       "Processing documents:   0%|          | 0/1 [00:00<?, ?it/s]"
      ]
     },
     "metadata": {},
     "output_type": "display_data"
    }
   ],
   "source": [
    "alice_splits = get_pdf_splits_from_paths(get_documents_from_subfolder('pdf_alice'))"
   ]
  },
  {
   "cell_type": "code",
   "execution_count": 63,
   "id": "abcd3e0b-e793-4a7d-a436-b77019ede47a",
   "metadata": {},
   "outputs": [
    {
     "data": {
      "application/vnd.jupyter.widget-view+json": {
       "model_id": "b2922e6450fe4c5e8e19df58aeaa9a9e",
       "version_major": 2,
       "version_minor": 0
      },
      "text/plain": [
       "Processing documents:   0%|          | 0/1 [00:00<?, ?it/s]"
      ]
     },
     "metadata": {},
     "output_type": "display_data"
    },
    {
     "name": "stderr",
     "output_type": "stream",
     "text": [
      "Ignoring wrong pointing object 6 0 (offset 0)\n"
     ]
    }
   ],
   "source": [
    "test_splits = alice_splits = get_pdf_splits_from_paths(get_documents_from_subfolder('pdf'))"
   ]
  },
  {
   "cell_type": "code",
   "execution_count": 69,
   "id": "4976bfd5-cc13-4cb0-b66e-ca7e794ece77",
   "metadata": {},
   "outputs": [
    {
     "data": {
      "text/plain": [
       "([Document(metadata={'source': '/home/jovyan/work/data/pdf/test.pdf', 'page': 0, 'source_name': 'test.pdf', 'modified_at': '2024-11-05 12:18:35', 'source_id': 'test.pdf'}, page_content='Test text in a pdf.  This is for tes1ng purposes.')],\n",
       " [Document(metadata={'source': '/home/jovyan/work/data/pdf_alice/alice-in-wonderland.pdf', 'page': 0, 'source_name': 'alice-in-wonderland.pdf', 'modified_at': '2024-10-31 14:00:47', 'source_id': 'alice-in-wonderland.pdf'}, page_content='ALICE ’S ADVENTURES\\nIN WONDERLAND\\nby Lewis Carroll\\nwith fourty-two illustrations by John Tenniel\\nThis book is in public domain.\\nNo rigths reserved. Free for copy and distribution.\\nThis PDF book is designed and published by PDF REE BOOKS .ORG'),\n",
       "  Document(metadata={'source': '/home/jovyan/work/data/pdf_alice/alice-in-wonderland.pdf', 'page': 1}, page_content='Contents\\nPoem. All in the golden afternoon . . . . . . . . . . . . . . . . . . . . . . . . . . . . . . . . . . . . . . 3\\nI Down the Rabbit-Hole . . . . . . . . . . . . . . . . . . . . . . . . . . . . . . . . . . . . . . . . . . 4\\nII The Pool of Tears . . . . . . . . . . . . . . . . . . . . . . . . . . . . . . . . . . . . . . . . . . . . . . . 9\\nIII A Caucus-Race and a Long Tale . . . . . . . . . . . . . . . . . . . . . . . . . . . . . . . . . . 14\\nIV The Rabbit Sends in a Little Bill . . . . . . . . . . . . . . . . . . . . . . . . . . . . . . . . . 19\\nV Advice from a Caterpillar . . . . . . . . . . . . . . . . . . . . . . . . . . . . . . . . . . . . . . . . 25\\nVI Pig and Pepper . . . . . . . . . . . . . . . . . . . . . . . . . . . . . . . . . . . . . . . . . . . . . . . . . 32\\nVII A Mad Tea-Party . . . . . . . . . . . . . . . . . . . . . . . . . . . . . . . . . . . . . . . . . . . . . . . 39'),\n",
       "  Document(metadata={'source': '/home/jovyan/work/data/pdf_alice/alice-in-wonderland.pdf', 'page': 1}, page_content='VII A Mad Tea-Party . . . . . . . . . . . . . . . . . . . . . . . . . . . . . . . . . . . . . . . . . . . . . . . 39\\nVIII The Queen’s Croquet-Ground . . . . . . . . . . . . . . . . . . . . . . . . . . . . . . . . . . . . 46\\nIX The Mock Turtle’s Story . . . . . . . . . . . . . . . . . . . . . . . . . . . . . . . . . . . . . . . . . 53\\nX The Lobster Quadrille . . . . . . . . . . . . . . . . . . . . . . . . . . . . . . . . . . . . . . . . . . . 59\\nXI Who Stole the Tarts? . . . . . . . . . . . . . . . . . . . . . . . . . . . . . . . . . . . . . . . . . . . . 65\\nXII Alice’s Evidence . . . . . . . . . . . . . . . . . . . . . . . . . . . . . . . . . . . . . . . . . . . . . . . . 70\\n1'),\n",
       "  Document(metadata={'source': '/home/jovyan/work/data/pdf_alice/alice-in-wonderland.pdf', 'page': 3}, page_content='Poem\\nAll in the golden afternoon\\nFull leisurely we glide;\\nFor both our oars, with little skill,\\nBy little arms are plied,\\nWhile little hands make vain pretence\\nOur wanderings to guide.\\nAh, cruel Three! In such an hour,\\nBeneath such dreamy weather,\\nTo beg a tale of breath too weak\\nTo stir the tiniest feather!\\nYet what can one poor voice avail\\nAgainst three tongues together?\\nImperious Prima ﬂashes forth\\nHer edict ‘to begin it’ –\\nIn gentler tone Secunda hopes\\n‘There will be nonsense in it!’ –\\nWhile Tertia interrupts the tale\\nNot more than once a minute.\\nAnon, to sudden silence won,\\nIn fancy they pursue\\nThe dream-child moving through a land\\nOf wonders wild and new,\\nIn friendly chat with bird or beast –\\nAnd half believe it true.\\nAnd ever, as the story drained\\nThe wells of fancy dry,\\nAnd faintly strove that weary one\\nTo put the subject by,\\n“The rest next time –” “It is next time!”\\nThe happy voices cry.\\nThus grew the tale of Wonderland:\\nThus slowly, one by one,'),\n",
       "  Document(metadata={'source': '/home/jovyan/work/data/pdf_alice/alice-in-wonderland.pdf', 'page': 3}, page_content='And faintly strove that weary one\\nTo put the subject by,\\n“The rest next time –” “It is next time!”\\nThe happy voices cry.\\nThus grew the tale of Wonderland:\\nThus slowly, one by one,\\nIts quaint events were hammered out –\\nAnd now the tale is done,\\nAnd home we steer, a merry crew,\\nBeneath the setting sun.\\nAlice! a childish story take,\\nAnd with gentle hand\\nLay it were Childhood’s dreams are twined\\nIn Memory’s mystic band,\\nLike pilgrim’s wither’d wreath of ﬂowers\\nPluck’d in a far-off land.\\n3'),\n",
       "  Document(metadata={'source': '/home/jovyan/work/data/pdf_alice/alice-in-wonderland.pdf', 'page': 4}, page_content='Chapter I\\nDown the Rabbit-Hole\\nAlice was beginning to get very tired of sitting by her sister on the bank and\\nof having nothing to do; once or twice she had peeped into the book her sister\\nwas reading, but it had no pictures or conversations in it, ‘and what is the use of\\na book,’ thought Alice, ‘without pictures or conversation?’\\nSo she was considering in her own mind\\n(as well as she could, for the hot day made\\nher feel very sleepy and stupid), whether the\\npleasure of making a daisy-chain would be\\nworth the trouble of getting up and picking\\nthe daisies, when suddenly a White Rabbit\\nwith pink eyes ran close by her.\\nThere was nothing so very remarkable\\nin that; nor did Alice think it so very much\\nout of the way to hear the Rabbit say to it-\\nself, ‘Oh dear! Oh dear! I shall be late!’\\n(when she thought it over afterwards, it oc-\\ncurred to her that she ought to have won-\\ndered at this, but at the time it all seemed\\nquite natural); but when the Rabbit actu-'),\n",
       "  Document(metadata={'source': '/home/jovyan/work/data/pdf_alice/alice-in-wonderland.pdf', 'page': 4}, page_content='(when she thought it over afterwards, it oc-\\ncurred to her that she ought to have won-\\ndered at this, but at the time it all seemed\\nquite natural); but when the Rabbit actu-\\nally took a watch out of its waistcoat-pocket\\nand looked at it and then hurried on, Alice\\nstarted to her feet, for it ﬂashed across her\\nmind that she had never before seen a rabbit\\nwith either a waistcoat-pocket or a watch to take out of it, and burning with cu-\\nriosity, she ran across the ﬁeld after it, and fortunately was just in time to see it\\npop down a large rabbit-hole under the hedge.\\nIn another moment down went Alice after it, never once considering how in\\nthe world she was to get out again.\\n4'),\n",
       "  Document(metadata={'source': '/home/jovyan/work/data/pdf_alice/alice-in-wonderland.pdf', 'page': 5}, page_content='CHAPTER I. DOWN THE RABBIT-HOLE 5\\nThe rabbit-hole went straight on like a tunnel for some way, and then dipped\\nsuddenly down, so suddenly that Alice had not a moment to think about stopping\\nherself before she found herself falling down a very deep well.\\nEither the well was very deep, or she fell very slowly, for she had plenty of\\ntime as she went down to look about her and to wonder what was going to happen\\nnext. First, she tried to look down and make out what she was coming to, but it was\\ntoo dark to see anything; then she looked at the sides of the well, and noticed that\\nthey were ﬁlled with cupboards and book-shelves; here and there she saw maps\\nand pictures hung upon pegs. She took down a jar from one of the shelves as she\\npassed; it was labelled ‘O RANGE MARMALADE ’, but to her great disappointment\\nit was empty: she did not like to drop the jar for fear of killing somebody, so\\nmanaged to put it into one of the cupboards as she fell past it.'),\n",
       "  Document(metadata={'source': '/home/jovyan/work/data/pdf_alice/alice-in-wonderland.pdf', 'page': 5}, page_content='it was empty: she did not like to drop the jar for fear of killing somebody, so\\nmanaged to put it into one of the cupboards as she fell past it.\\n‘Well!’ thought Alice to herself, ‘after such a fall as this, I shall think nothing\\nof tumbling down stairs! How brave they’ll all think me at home! Why, I wouldn’t\\nsay anything about it, even if I fell off the top of the house!’ (Which was very\\nlikely true.)\\nDown, down, down. Would the fall never come to an end! ‘I wonder how\\nmany miles I’ve fallen by this time?’ she said aloud. ‘I must be getting somewhere\\nnear the centre of the earth. Let me see: that would be four thousand miles down,\\nI think – ’ (for, you see, Alice had learnt several things of this sort in her lessons in\\nthe schoolroom, and though this was not a very good opportunity for showing off\\nher knowledge, as there was no one to listen to her, still it was good practice to say\\nit over) ‘ – yes, that’s about the right distance – but then I wonder what Latitude or'),\n",
       "  Document(metadata={'source': '/home/jovyan/work/data/pdf_alice/alice-in-wonderland.pdf', 'page': 5}, page_content='her knowledge, as there was no one to listen to her, still it was good practice to say\\nit over) ‘ – yes, that’s about the right distance – but then I wonder what Latitude or\\nLongitude I’ve got to?’ (Alice had no idea what Latitude was or Longitude either,\\nbut thought they were nice grand words to say.)\\nPresently she began again. ‘I wonder if I shall fall right through the earth!\\nHow funny it’ll seem to come out among the people that walk with their heads\\ndownward! The Antipathies, I think – ’ (she was rather glad there was no one\\nlistening, this time, as it didn’t sound at all the right word) ‘ – but I shall have to\\nask them what the name of the country is, you know. Please, Ma’am, is this New\\nZealand or Australia?’ (and she tried to curtsey as she spoke – fancy curtseying\\nas you’re falling through the air! Do you think you could manage it?) ‘And what\\nan ignorant little girl she’ll think me for asking! No, it’ll never do to ask; perhaps\\nI shall see it written up somewhere.’'),\n",
       "  Document(metadata={'source': '/home/jovyan/work/data/pdf_alice/alice-in-wonderland.pdf', 'page': 5}, page_content='an ignorant little girl she’ll think me for asking! No, it’ll never do to ask; perhaps\\nI shall see it written up somewhere.’\\nDown, down, down. There was nothing else to do, so Alice soon began talking\\nagain. ‘Dinah’ll miss me very much to-night, I should think!’ (Dinah was the\\ncat.) ‘I hope they’ll remember her saucer of milk at tea-time. Dinah my dear!\\nI wish you were down here with me! There are no mice in the air, I’m afraid, but\\nyou might catch a bat and that’s very like a mouse, you know. But do cats eat\\nbats, I wonder?’ And here Alice began to get rather sleepy and went on saying\\nto herself, in a dreamy sort of way, ‘Do cats eat bats? Do cats eat bats?’ and'),\n",
       "  Document(metadata={'source': '/home/jovyan/work/data/pdf_alice/alice-in-wonderland.pdf', 'page': 6}, page_content='CHAPTER I. DOWN THE RABBIT-HOLE 6\\nsometimes, ‘Do bats eat cats?’ for, you see, as she couldn’t answer either question,\\nit didn’t much matter which way she put it. She felt that she was dozing off and\\nhad just begun to dream that she was walking hand in hand with Dinah and saying\\nto her very earnestly, ‘Now, Dinah, tell me the truth: did you ever eat a bat?’ when\\nsuddenly, thump! thump! down she came upon a heap of sticks and dry leaves\\nand the fall was over.\\nAlice was not a bit hurt and she jumped up on to her feet in a moment; she\\nlooked up, but it was all dark overhead; before her was another long passage, and\\nthe White Rabbit was still in sight, hurrying down it. There was not a moment\\nto be lost; away went Alice like the wind and was just in time to hear it say, as it\\nturned a corner, ‘Oh my ears and whiskers, how late it’s getting!’ She was close\\nbehind it when she turned the corner, but the Rabbit was no longer to be seen; she'),\n",
       "  Document(metadata={'source': '/home/jovyan/work/data/pdf_alice/alice-in-wonderland.pdf', 'page': 6}, page_content='turned a corner, ‘Oh my ears and whiskers, how late it’s getting!’ She was close\\nbehind it when she turned the corner, but the Rabbit was no longer to be seen; she\\nfound herself in a long, low hall, which was lit up by a row of lamps hanging from\\nthe roof.\\nThere were doors all round the hall, but they were all locked; and when Alice\\nhad been all the way down one side and up the other, trying every door, she walked\\nsadly down the middle, wondering how she\\nwas ever to get out again.\\nSuddenly she came upon a little three-\\nlegged table, all made of solid glass; there\\nwas nothing on it except a tiny golden key\\nand Alice’s ﬁrst thought was that it might\\nbelong to one of the doors of the hall, but,\\nalas! either the locks were too large or the\\nkey was too small, but at any rate it would\\nnot open any of them. However, on the sec-\\nond time round, she came upon a low cur-\\ntain she had not noticed before and behind\\nit was a little door about ﬁfteen inches high;'),\n",
       "  Document(metadata={'source': '/home/jovyan/work/data/pdf_alice/alice-in-wonderland.pdf', 'page': 6}, page_content='not open any of them. However, on the sec-\\nond time round, she came upon a low cur-\\ntain she had not noticed before and behind\\nit was a little door about ﬁfteen inches high;\\nshe tried the little golden key in the lock and to her great delight it ﬁtted!\\nAlice opened the door and found that it led into a small passage, not much\\nlarger than a rat-hole; she knelt down and looked along the passage into the loveli-\\nest garden you ever saw. How she longed to get out of that dark hall, and wan-\\nder about among those beds of bright ﬂowers and those cool fountains, but she\\ncould not even get her head through the doorway; ‘and even if my head would go\\nthrough,’ thought poor Alice, ‘it would be of very little use without my shoulders.\\nOh, how I wish I could shut up like a telescope! I think I could, if I only know\\nhow to begin.’ For, you see, so many out-of-the-way things had happened lately,\\nthat Alice had begun to think that very few things indeed were really impossible.'),\n",
       "  Document(metadata={'source': '/home/jovyan/work/data/pdf_alice/alice-in-wonderland.pdf', 'page': 7}, page_content='CHAPTER I. DOWN THE RABBIT-HOLE 7\\nThere seemed to be no use in wait-\\ning by the little door, so she went back\\nto the table, half hoping she might ﬁnd\\nanother key on it or at any rate a book\\nof rules for shutting people up like tele-\\nscopes; this time she found a little bot-\\ntle on it, (‘which certainly was not here\\nbefore,’ said Alice,) and round the neck\\nof the bottle was a paper label, with the\\nwords ‘D RINK ME’ beautifully printed\\non it in large letters.\\nIt was all very well to say ‘Drink me,’\\nbut the wise little Alice was not going to\\ndo that in a hurry. ‘No, I’ll look ﬁrst,’ she\\nsaid, ‘and see whether it’s marked “poi-\\nson” or not’; for she had read several nice\\nlittle histories about children who had\\ngot burnt, and eaten up by wild beasts\\nand other unpleasant things, all because\\nthey would not remember the simple rules their friends had taught them: such as,\\nthat a red-hot poker will burn you if you hold it too long; and that if you cut your'),\n",
       "  Document(metadata={'source': '/home/jovyan/work/data/pdf_alice/alice-in-wonderland.pdf', 'page': 7}, page_content='they would not remember the simple rules their friends had taught them: such as,\\nthat a red-hot poker will burn you if you hold it too long; and that if you cut your\\nﬁnger very deeply with a knife, it usually bleeds; and she had never forgotten that,\\nif you drink much from a bottle marked ‘poison,’ it is almost certain to disagree\\nwith you, sooner or later.\\nHowever, this bottle was not marked ‘poison,’ so Alice ventured to taste it and\\nﬁnding it very nice, (it had, in fact, a sort of mixed ﬂavour of cherry-tart, custard,\\npine-apple, roast turkey, toffee and hot buttered toast) she very soon ﬁnished it off.\\n* * * * * * * * * *\\n‘What a curious feeling!’ said Alice, ‘I must be shutting up like a telescope.’\\nAnd so it was indeed: she was now only ten inches high and her face bright-\\nened up at the thought that she was now the right size for going through the little\\ndoor into that lovely garden. First, however, she waited for a few minutes to see'),\n",
       "  Document(metadata={'source': '/home/jovyan/work/data/pdf_alice/alice-in-wonderland.pdf', 'page': 7}, page_content='ened up at the thought that she was now the right size for going through the little\\ndoor into that lovely garden. First, however, she waited for a few minutes to see\\nif she was going to shrink any further; she felt a little nervous about this; ‘for\\nit might end, you know,’ said Alice to herself, ‘in my going out altogether, like\\na candle. I wonder what I should be like then?’ And she tried to fancy what the\\nﬂame of a candle is like after the candle is blown out, for she could not remember\\never having seen such a thing.\\nAfter a while, ﬁnding that nothing more happened, she decided on going into\\nthe garden at once; but, alas for poor Alice! when she got to the door, she found\\nshe had forgotten the little golden key, and when she went back to the table for it,'),\n",
       "  Document(metadata={'source': '/home/jovyan/work/data/pdf_alice/alice-in-wonderland.pdf', 'page': 8}, page_content='CHAPTER I. DOWN THE RABBIT-HOLE 8\\nshe found she could not possibly reach it; she could see it quite plainly through\\nthe glass, and she tried her best to climb up one of the legs of the table, but it was\\ntoo slippery; and when she had tired herself out with trying, the poor little thing\\nsat down and cried.\\n‘Come, there’s no use in crying like that!’ said Alice to herself, rather sharply,\\n‘I advise you to leave off this minute!’ She generally gave herself very good\\nadvice, (though she very seldom followed it), and sometimes she scolded herself\\nso severely as to bring tears into her eyes; and once she remembered trying to\\nbox her own ears for having cheated herself in a game of croquet she was playing\\nagainst herself, for this curious child was very fond of pretending to be two people.\\n‘But it’s no use now,’ thought poor Alice, ‘to pretend to be two people! Why,\\nthere’s hardly enough of me left to make one respectable person!’'),\n",
       "  Document(metadata={'source': '/home/jovyan/work/data/pdf_alice/alice-in-wonderland.pdf', 'page': 8}, page_content='‘But it’s no use now,’ thought poor Alice, ‘to pretend to be two people! Why,\\nthere’s hardly enough of me left to make one respectable person!’\\nSoon her eye fell on a little glass box that was lying under the table; she\\nopened it, and found in it a very small cake, on which the words ‘E AT ME’ were\\nbeautifully marked in currants. ‘Well, I’ll eat it,’ said Alice, ‘and if it makes me\\ngrow larger, I can reach the key; and if it makes me grow smaller, I can creep under\\nthe door; so either way I’ll get into the garden, and I don’t care which happens!’\\nShe ate a little bit and said anxiously to herself, ‘Which way? Which way?’,\\nholding her hand on the top of her head to feel which way it was growing, and\\nshe was quite surprised to ﬁnd that she remained the same size; to be sure, this\\ngenerally happens when one eats cake, but Alice had got so much into the way of\\nexpecting nothing but out-of-the-way things to happen, that it seemed quite dull\\nand stupid for life to go on in the common way.'),\n",
       "  Document(metadata={'source': '/home/jovyan/work/data/pdf_alice/alice-in-wonderland.pdf', 'page': 8}, page_content='expecting nothing but out-of-the-way things to happen, that it seemed quite dull\\nand stupid for life to go on in the common way.\\nSo she set to work, and very soon ﬁnished off the cake.\\n* * * * * * * * * *'),\n",
       "  Document(metadata={'source': '/home/jovyan/work/data/pdf_alice/alice-in-wonderland.pdf', 'page': 9}, page_content='Chapter II\\nThe Pool of Tears\\n‘Curiouser and curiouser!’ cried Alice (she was so\\nmuch surprised, that for the moment she quite forgot\\nhow to speak good English); ‘now I’m opening out like\\nthe largest telescope that ever was! Good-bye, feet!’\\n(for when she looked down at her feet, they seemed to\\nbe almost out of sight, they were getting so far off). ‘Oh,\\nmy poor little feet, I wonder who will put on your shoes\\nand stockings for you now, dears? I’m sure I shan’t\\nbe able! I shall be a great deal too far off to trouble\\nmyself about you: you must manage the best way you\\ncan; – but I must be kind to them,’ thought Alice, ‘or\\nperhaps they won’t walk the way I want to go! Let me\\nsee: I’ll give them a new pair of boots every Christmas.’\\nAnd she went on planning to herself how she would\\nmanage it. ‘They must go by the carrier,’ she thought,\\n‘and how funny it’ll seem, sending presents to one’s\\nown feet! And how odd the directions will look!\\nALICE ’S RIGHT FOOT, E SQ.\\nHEARTHRUG ,\\nNEAR THE FENDER ,'),\n",
       "  Document(metadata={'source': '/home/jovyan/work/data/pdf_alice/alice-in-wonderland.pdf', 'page': 9}, page_content='‘and how funny it’ll seem, sending presents to one’s\\nown feet! And how odd the directions will look!\\nALICE ’S RIGHT FOOT, E SQ.\\nHEARTHRUG ,\\nNEAR THE FENDER ,\\n(WITH ALICE ’S LOVE ).\\nOh dear, what nonsense I’m talking!’\\nJust then her head struck against the roof of the hall;\\nin fact she was now more than nine feet high and she at\\nonce took up the little golden key and hurried off to the\\ngarden door.\\n9'),\n",
       "  Document(metadata={'source': '/home/jovyan/work/data/pdf_alice/alice-in-wonderland.pdf', 'page': 10}, page_content='CHAPTER II. THE POOL OF TEARS 10\\nPoor Alice! It was as much as she could do, lying down on one side, to look\\nthrough into the garden with one eye; but to get through was more hopeless than\\never; she sat down and began to cry again.\\n‘You ought to be ashamed of yourself,’ said Alice, ‘a great girl like you,’ (she\\nmight well say this), ‘to go on crying in this way! Stop this moment, I tell you!’\\nBut she went on all the same, shedding gallons of tears, until there was a large\\npool all round her, about four inches deep and reaching half down the hall.\\nAfter a time she heard a little pat-\\ntering of feet in the distance and she\\nhastily dried her eyes to see what\\nwas coming. It was the White Rab-\\nbit returning, splendidly dressed, with\\na pair of white kid gloves in one hand\\nand a large fan in the other; he came\\ntrotting along in a great hurry, mutter-\\ning to himself as he came, ‘Oh! the\\nDuchess, the Duchess! Oh! won’t\\nshe be savage if I’ve kept her wait-\\ning!’ Alice felt so desperate that she'),\n",
       "  Document(metadata={'source': '/home/jovyan/work/data/pdf_alice/alice-in-wonderland.pdf', 'page': 10}, page_content='trotting along in a great hurry, mutter-\\ning to himself as he came, ‘Oh! the\\nDuchess, the Duchess! Oh! won’t\\nshe be savage if I’ve kept her wait-\\ning!’ Alice felt so desperate that she\\nwas ready to ask help of any one; so,\\nwhen the Rabbit came near her, she\\nbegan, in a low, timid voice, ‘If you\\nplease, sir – ’ The Rabbit started vi-\\nolently, dropped the white kid gloves and the fan, and skurried away into the\\ndarkness as hard as he could go.\\nAlice took up the fan and gloves, and, as the hall was very hot, she kept fanning\\nherself all the time she went on talking, ‘Dear, dear! How queer everything is to-\\nday! And yesterday things went on just as usual. I wonder if I’ve been changed\\nin the night? Let me think: was I the same when I got up this morning? I almost\\nthink I can remember feeling a little different. But if I’m not the same, the next\\nquestion is, Who in the world am I? Ah, that’sthe great puzzle!’ And she began'),\n",
       "  Document(metadata={'source': '/home/jovyan/work/data/pdf_alice/alice-in-wonderland.pdf', 'page': 10}, page_content='think I can remember feeling a little different. But if I’m not the same, the next\\nquestion is, Who in the world am I? Ah, that’sthe great puzzle!’ And she began\\nthinking over all the children she knew that were of the same age as herself, to see\\nif she could have been changed for any of them.\\n‘I’m sure I’m not Ada,’ she said, ‘for her hair goes in such long ringlets, and\\nmine doesn’t go in ringlets at all; and I’m sure I can’t be Mabel, for I know all\\nsorts of things, and she, oh! she knows such a very little! Besides, she’sshe, and\\nI’m I, and – oh dear, how puzzling it all is! I’ll try if I know all the things I used\\nto know. Let me see: four times ﬁve is twelve, and four times six is thirteen, and\\nfour times seven is – oh dear! I shall never get to twenty at that rate! However, the\\nMultiplication Table doesn’t signify; let’s try Geography. London is the capital\\nof Paris, and Paris is the capital of Rome, and Rome – no, that’sall wrong, I’m'),\n",
       "  Document(metadata={'source': '/home/jovyan/work/data/pdf_alice/alice-in-wonderland.pdf', 'page': 11}, page_content='CHAPTER II. THE POOL OF TEARS 11\\ncertain! I must have been changed for Mabel! I’ll try and say “How doth the\\nlittle – ” ’ and she crossed her hands on her lap as if she were saying lessons and\\nbegan to repeat it, but her voice sounded hoarse and strange, and the words did\\nnot come the same as they used to do:\\n‘How doth the little crocodile\\nImprove his shining tail,\\nAnd pour the waters of the Nile\\nOn every golden scale!\\nHow cheerfully he seems to grin,\\nHow neatly spread his claws,\\nAnd welcome little ﬁshes in\\nWith gently smiling jaws!’\\n‘I’m sure those are not the right words,’ said poor Alice, and her eyes ﬁlled\\nwith tears again as she went on, ‘I must be Mabel after all, and I shall have to go\\nand live in that poky little house and have next to no toys to play with, and oh! ever\\nso many lessons to learn! No, I’ve made up my mind about it; if I’m Mabel, I’ll\\nstay down here! It’ll be no use their putting their heads down and saying “Come'),\n",
       "  Document(metadata={'source': '/home/jovyan/work/data/pdf_alice/alice-in-wonderland.pdf', 'page': 11}, page_content='so many lessons to learn! No, I’ve made up my mind about it; if I’m Mabel, I’ll\\nstay down here! It’ll be no use their putting their heads down and saying “Come\\nup again, dear!” I shall only look up and say, “Who am I then? Tell me that ﬁrst,\\nand then, if I like being that person, I’ll come up: if not, I’ll stay down here till I’m\\nsomebody else” – but, oh dear!’ cried Alice, with a sudden burst of tears, ‘I do\\nwish they would put their heads down! I am so very tired of being all alone here!’\\nAs she said this she looked down at her hands, and was surprised to see that\\nshe had put on one of the Rabbit’s little white kid gloves while she was talking.\\n‘Howcan I have done that?’ she thought, ‘I must be growing small again.’ She\\ngot up and went to the table to measure herself by it, and found that, as nearly\\nas she could guess, she was now about two feet high and was going on shrinking\\nrapidly; she soon found out that the cause of this was the fan she was holding, and'),\n",
       "  Document(metadata={'source': '/home/jovyan/work/data/pdf_alice/alice-in-wonderland.pdf', 'page': 11}, page_content='as she could guess, she was now about two feet high and was going on shrinking\\nrapidly; she soon found out that the cause of this was the fan she was holding, and\\nshe dropped it hastily, just in time to avoid shrinking away altogether.\\n‘Thatwas a narrow escape!’ said Alice, a good deal frightened at the sudden\\nchange, but very glad to ﬁnd herself still in existence, ‘and now for the garden!’\\nand she ran with all speed back to the little door; but, alas! the little door was\\nshut again, and the little golden key was lying on the glass table as before, ‘and\\nthings are worse than ever,’ thought the poor child, ‘for I never was so small as\\nthis before, never! And I declare it’s too bad, that it is!’\\nAs she said these words her foot slipped and in another moment, splash! she\\nwas up to her chin in salt water. Her ﬁrst idea was that she had somehow fallen into\\nthe sea, ‘and in that case I can go back by railway,’ she said to herself. (Alice had'),\n",
       "  Document(metadata={'source': '/home/jovyan/work/data/pdf_alice/alice-in-wonderland.pdf', 'page': 11}, page_content='was up to her chin in salt water. Her ﬁrst idea was that she had somehow fallen into\\nthe sea, ‘and in that case I can go back by railway,’ she said to herself. (Alice had\\nbeen to the seaside once in her life, and had come to the general conclusion, that\\nwherever you go to on the English coast you ﬁnd a number of bathing machines'),\n",
       "  Document(metadata={'source': '/home/jovyan/work/data/pdf_alice/alice-in-wonderland.pdf', 'page': 12}, page_content='CHAPTER II. THE POOL OF TEARS 12\\nin the sea, some children digging in\\nthe sand with wooden spades, then\\na row of lodging houses and behind\\nthem a railway station.) However, she\\nsoon made out that she was in the pool\\nof tears which she had wept when she\\nwas nine feet high.\\n‘I wish I hadn’t cried so much!’\\nsaid Alice, as she swam about, trying\\nto ﬁnd her way out, ‘I shall be pun-\\nished for it now, I suppose, by being\\ndrowned in my own tears! That will\\nbe a queer thing, to be sure! However,\\neverything is queer to-day.’\\nJust then she heard something splashing about in the pool a little way off, and\\nshe swam nearer to make out what it was; at ﬁrst she thought it must be a walrus\\nor hippopotamus, but then she remembered how small she was now, and she soon\\nmade out that it was only a mouse that had slipped in like herself.\\n‘Would it be of any use, now,’ thought Alice, ‘to speak to this mouse? Every-\\nthing is so out-of-the-way down here, that I should think very likely it can talk; at'),\n",
       "  Document(metadata={'source': '/home/jovyan/work/data/pdf_alice/alice-in-wonderland.pdf', 'page': 12}, page_content='‘Would it be of any use, now,’ thought Alice, ‘to speak to this mouse? Every-\\nthing is so out-of-the-way down here, that I should think very likely it can talk; at\\nany rate, there’s no harm in try-\\ning.’ So she began, ‘O Mouse,\\ndo you know the way out of this\\npool? I am very tired of swim-\\nming about here, O Mouse!’ (Al-\\nice thought this must be the right\\nway of speaking to a mouse; she\\nhad never done such a thing be-\\nfore, but she remembered having\\nseen in her brother’s Latin Gram-\\nmar, ‘A mouse – of a mouse – to a mouse – a mouse – O mouse!’) The Mouse\\nlooked at her rather inquisitively, and seemed to her to wink with one of its little\\neyes, but it said nothing.\\n‘Perhaps it doesn’t understand English,’ thought Alice, ‘I daresay it’s a French\\nmouse, come over with William the Conqueror.’ (For, with all her knowledge of\\nhistory, Alice had no very clear notion how long ago anything had happened.) So\\nshe began again: ‘O `u est ma chatte?’ which was the ﬁrst sentence in her French'),\n",
       "  Document(metadata={'source': '/home/jovyan/work/data/pdf_alice/alice-in-wonderland.pdf', 'page': 12}, page_content='history, Alice had no very clear notion how long ago anything had happened.) So\\nshe began again: ‘O `u est ma chatte?’ which was the ﬁrst sentence in her French\\nlesson-book. The Mouse gave a sudden leap out of the water, and seemed to quiver\\nall over with fright. ‘Oh, I beg your pardon!’ cried Alice hastily, afraid that she\\nhad hurt the poor animal’s feelings. ‘I quite forgot you didn’t like cats.’'),\n",
       "  Document(metadata={'source': '/home/jovyan/work/data/pdf_alice/alice-in-wonderland.pdf', 'page': 13}, page_content='CHAPTER II. THE POOL OF TEARS 13\\n‘Not like cats!’ cried the Mouse, in a shrill, passionate voice, ‘Would you like\\ncats if you were me?’\\n‘Well, perhaps not,’ said Alice in a soothing tone, ‘don’t be angry about it.\\nAnd yet I wish I could show you our cat Dinah: I think you’d take a fancy to cats\\nif you could only see her. She is such a dear quiet thing,’ Alice went on, half to\\nherself, as she swam lazily about in the pool, ‘and she sits purring so nicely by the\\nﬁre, licking her paws and washing her face – and she is such a nice soft thing to\\nnurse – and she’s such a capital one for catching mice – oh, I beg your pardon!’\\ncried Alice again, for this time the Mouse was bristling all over and she felt certain\\nit must be really offended, ‘We won’t talk about her any more if you’d rather not.’\\n‘We indeed!’ cried the Mouse, who was trembling down to the end of his tail,\\n‘As if I would talk on such a subject! Our family always hated cats: nasty, low,'),\n",
       "  Document(metadata={'source': '/home/jovyan/work/data/pdf_alice/alice-in-wonderland.pdf', 'page': 13}, page_content='‘We indeed!’ cried the Mouse, who was trembling down to the end of his tail,\\n‘As if I would talk on such a subject! Our family always hated cats: nasty, low,\\nvulgar things! Don’t let me hear the name again!’\\n‘I won’t indeed!’ said Alice, in a great hurry to change the subject of con-\\nversation, ‘Are you – are you fond – of – of dogs?’ The Mouse did not answer,\\nso Alice went on eagerly, ‘There is such a nice little dog near our house I should\\nlike to show you! A little bright-eyed terrier, you know, with oh, such long curly\\nbrown hair! And it’ll fetch things when you throw them and it’ll sit up and beg for\\nits dinner, and all sorts of things – I can’t remember half of them – and it belongs\\nto a farmer, you know, and he says it’s so useful, it’s worth a hundred pounds! He\\nsays it kills all the rats and – oh dear!’ cried Alice in a sorrowful tone, ‘I’m afraid\\nI’ve offended it again!’ For the Mouse was swimming away from her as hard as it'),\n",
       "  Document(metadata={'source': '/home/jovyan/work/data/pdf_alice/alice-in-wonderland.pdf', 'page': 13}, page_content='says it kills all the rats and – oh dear!’ cried Alice in a sorrowful tone, ‘I’m afraid\\nI’ve offended it again!’ For the Mouse was swimming away from her as hard as it\\ncould go, and making quite a commotion in the pool as it went.\\nSo she called softly after it, ‘Mouse dear! Do come back again, and we won’t\\ntalk about cats or dogs either, if you don’t like them!’ When the Mouse heard this,\\nit turned round and swam slowly back to her; its face was quite pale (with passion,\\nAlice thought) and it said in a low trembling voice, ‘Let us get to the shore, and\\nthen I’ll tell you my history, and you’ll understand why it is I hate cats and dogs.’\\nIt was high time to go, for the pool was getting quite crowded with the birds\\nand animals that had fallen into it: there were a Duck and a Dodo, a Lory and an\\nEaglet, and several other curious creatures. Alice led the way, and the whole party\\nswam to the shore.'),\n",
       "  Document(metadata={'source': '/home/jovyan/work/data/pdf_alice/alice-in-wonderland.pdf', 'page': 14}, page_content='Chapter III\\nA Caucus-Race and a Long Tale\\nThey were indeed a queer-looking party that assembled on the bank – the birds\\nwith draggled feathers, the animals with their fur clinging close to them, and all\\ndripping wet, cross, and uncomfortable.\\nThe ﬁrst question of course was, how to get dry again; they had a consultation\\nabout this and after a few minutes it seemed quite natural to Alice to ﬁnd herself\\ntalking familiarly with them, as if she\\nhad known them all her life. Indeed,\\nshe had quite a long argument with\\nthe Lory, who at last turned sulky, and\\nwould only say, ‘I am older than you\\nand must know better’; and this Al-\\nice would not allow without knowing\\nhow old it was and, as the Lory posi-\\ntively refused to tell its age, there was\\nno more to be said.\\nAt last the Mouse, who seemed to\\nbe a person of authority among them,\\ncalled out, ‘Sit down, all of you, and\\nlisten to me! I’ll soon make you dry\\nenough!’ They all sat down at once,\\nin a large ring, with the Mouse in the'),\n",
       "  Document(metadata={'source': '/home/jovyan/work/data/pdf_alice/alice-in-wonderland.pdf', 'page': 14}, page_content='be a person of authority among them,\\ncalled out, ‘Sit down, all of you, and\\nlisten to me! I’ll soon make you dry\\nenough!’ They all sat down at once,\\nin a large ring, with the Mouse in the\\nmiddle. Alice kept her eyes anxiously ﬁxed on it, for she felt sure she would catch\\na bad cold if she did not get dry very soon.\\n‘Ahem!’ said the Mouse with an important air, ‘are you all ready? This is the\\ndriest thing I know. Silence all round, if you please! “William the Conqueror,\\nwhose cause was favoured by the pope, was soon submitted to by the English,\\nwho wanted leaders, and had been of late much accustomed to usurpation and\\nconquest. Edwin and Morcar, the earls of Mercia and Northumbria – ” ’\\n14'),\n",
       "  Document(metadata={'source': '/home/jovyan/work/data/pdf_alice/alice-in-wonderland.pdf', 'page': 15}, page_content='CHAPTER III. A CAUCUS-RACE AND A LONG TALE 15\\n‘Ugh!’ said the Lory, with a shiver.\\n‘I beg your pardon!’ said the Mouse, frowning, but very politely, ‘Did you\\nspeak?’\\n‘Not I!’ said the Lory hastily.\\n‘I thought you did,’ said the Mouse, ‘ – I proceed. “Edwin and Morcar, the\\nearls of Mercia and Northumbria, declared for him; and even Stigand, the patriotic\\narchbishop of Canterbury, found it advisable – ” ’\\n‘Foundwhat?’ said the Duck.\\n‘Found it,’ the Mouse replied rather crossly, ‘of course you know what “it”\\nmeans.’\\n‘I know what “it” means well enough when I ﬁnd a thing,’ said the Duck, ‘it’s\\ngenerally a frog or a worm. The question is, what did the archbishop ﬁnd?’\\nThe Mouse did not notice this question, but hurriedly went on, ‘ “ – found it\\nadvisable to go with Edgar Atheling to meet William and offer him the crown.\\nWilliam’s conduct at ﬁrst was moderate. But the insolence of his Normans – ”\\nHow are you getting on now, my dear?’ it continued, turning to Alice as it spoke.'),\n",
       "  Document(metadata={'source': '/home/jovyan/work/data/pdf_alice/alice-in-wonderland.pdf', 'page': 15}, page_content='William’s conduct at ﬁrst was moderate. But the insolence of his Normans – ”\\nHow are you getting on now, my dear?’ it continued, turning to Alice as it spoke.\\n‘As wet as ever,’ said Alice in a melancholy tone, ‘it doesn’t seem to dry me\\nat all.’\\n‘In that case,’ said the Dodo solemnly, rising to its feet, ‘I move that the meet-\\ning adjourn, for the immediate adoption of more energetic remedies – ’\\n‘Speak English!’ said the Eaglet, ‘I don’t know the meaning of half those long\\nwords, and, what’s more, I don’t believe you do either!’ And the Eaglet bent down\\nits head to hide a smile; some of the other birds tittered audibly.\\n‘What I was going to say,’ said the Dodo in an offended tone, ‘was, that the\\nbest thing to get us dry would be a Caucus-race.’'),\n",
       "  Document(metadata={'source': '/home/jovyan/work/data/pdf_alice/alice-in-wonderland.pdf', 'page': 16}, page_content='CHAPTER III. A CAUCUS-RACE AND A LONG TALE 16\\n‘Whatis a Caucus-race?’ said Alice; not that she wanted much to know, but\\nthe Dodo had paused as if it thought that somebody ought to speak, and no one\\nelse seemed inclined to say anything.\\n‘Why,’ said the Dodo, ‘the best way to explain it is to do it.’ (And, as you\\nmight like to try the thing yourself, some winter day, I will tell you how the Dodo\\nmanaged it.)\\nFirst it marked out a race-course, in a sort of circle (‘the exact shape doesn’t\\nmatter,’ it said), and then all the party were placed along the course, here and\\nthere. There was no ‘One, two, three, and away,’ but they began running when\\nthey liked, and left off when they liked, so that it was not easy to know when the\\nrace was over. However, when they had been running half an hour or so, and were\\nquite dry again, the Dodo suddenly called out ‘The race is over!’ and they all\\ncrowded round it, panting, and asking, ‘But who has won?’'),\n",
       "  Document(metadata={'source': '/home/jovyan/work/data/pdf_alice/alice-in-wonderland.pdf', 'page': 16}, page_content='quite dry again, the Dodo suddenly called out ‘The race is over!’ and they all\\ncrowded round it, panting, and asking, ‘But who has won?’\\nThis question the Dodo could not answer without a great deal of thought, and\\nit sat for a long time with one ﬁnger pressed upon its forehead (the position in\\nwhich you usually see Shakespeare, in the pictures of him), while the rest waited\\nin silence. At last the Dodo said, ‘ everybody has won, and all must have prizes.’\\n‘But who is to give the prizes?’ quite a chorus of voices asked.\\n‘Why,she, of course,’ said the Dodo, pointing to Alice with one ﬁnger; and\\nthe whole party at once crowded round her, calling out in a confused way, ‘Prizes!\\nPrizes!’\\nAlice had no idea what to do, and in despair she put her hand in her pocket,\\nand pulled out a box of comﬁts, (luckily the salt water had not got into it), and\\nhanded them round as prizes. There was exactly one a-piece all round.\\n‘But she must have a prize herself, you know,’ said the Mouse.'),\n",
       "  Document(metadata={'source': '/home/jovyan/work/data/pdf_alice/alice-in-wonderland.pdf', 'page': 16}, page_content='handed them round as prizes. There was exactly one a-piece all round.\\n‘But she must have a prize herself, you know,’ said the Mouse.\\n‘Of course,’ the Dodo replied very gravely, ‘What else have you got in your\\npocket?’ he went on, turning to Alice.\\n‘Only a thimble,’ said Alice sadly.\\n‘Hand it over here,’ said the Dodo.\\nThen they all crowded round her once more, while the Dodo solemnly pre-\\nsented the thimble, saying, ‘We beg your acceptance of this elegant thimble’; and,\\nwhen it had ﬁnished this short speech, they all cheered.\\nAlice thought the whole thing very absurd, but they all looked so grave that\\nshe did not dare to laugh; and, as she could not think of anything to say, she simply\\nbowed, and took the thimble, looking as solemn as she could.\\nThe next thing was to eat the comﬁts; this caused some noise and confusion,\\nas the large birds complained that they could not taste theirs and the small ones\\nchoked and had to be patted on the back. However, it was over at last and they sat'),\n",
       "  Document(metadata={'source': '/home/jovyan/work/data/pdf_alice/alice-in-wonderland.pdf', 'page': 16}, page_content='as the large birds complained that they could not taste theirs and the small ones\\nchoked and had to be patted on the back. However, it was over at last and they sat\\ndown again in a ring and begged the Mouse to tell them something more.\\n‘You promised to tell me your history, you know,’ said Alice, ‘and why it is you\\nhate – C and D,’ she added in a whisper, half afraid that it would be offended again.'),\n",
       "  Document(metadata={'source': '/home/jovyan/work/data/pdf_alice/alice-in-wonderland.pdf', 'page': 17}, page_content='CHAPTER III. A CAUCUS-RACE AND A LONG TALE 17\\n‘Mine is a long and a sad tale!’ said the Mouse, turning to Alice and sighing.\\n‘It is a long tail, certainly,’ said Alice, looking down with wonder at the\\nMouse’s tail; ‘but why do you call it sad?’ And she kept on puzzling about it while\\nthe Mouse was speaking, so that her idea of the tale was something like this:\\n‘Fury said to\\na mouse, That he\\nmet in thehouse,\\n“Let usboth go to\\nlaw: I willprosecute\\nyou. – Come,\\nI’ll take nodenial; We\\nmust havea trial: Forreally this\\nmorning I’ve\\nnothing\\nto do.”Said themouse to thecur, “Such a trial,\\ndear Sir,\\nWithno jury\\nor judge,\\nwould bewastingourbreath.”“I’ll bejudge, I’ll\\nbe jury,”\\nSaid\\ncunning\\nold Fury:\\n“I’ll\\ntry the\\nwhole\\ncause,\\nand\\ncondemn\\nyou\\nto\\ndeath.” ’\\n‘You are not attending!’ said the Mouse to Alice severely, ‘What are you\\nthinking of?’\\n‘I beg your pardon,’ said Alice very humbly, ‘you had got to the ﬁfth bend,\\nI think?’\\n‘I had not!’ cried the Mouse, sharply and very angrily.'),\n",
       "  Document(metadata={'source': '/home/jovyan/work/data/pdf_alice/alice-in-wonderland.pdf', 'page': 17}, page_content='thinking of?’\\n‘I beg your pardon,’ said Alice very humbly, ‘you had got to the ﬁfth bend,\\nI think?’\\n‘I had not!’ cried the Mouse, sharply and very angrily.\\n‘A knot!’ said Alice, always ready to make herself useful, and looking anx-\\niously about her, ‘Oh, do let me help to undo it!’\\n‘I shall do nothing of the sort,’ said the Mouse, getting up and walking away,\\n‘You insult me by talking such nonsense!’'),\n",
       "  Document(metadata={'source': '/home/jovyan/work/data/pdf_alice/alice-in-wonderland.pdf', 'page': 18}, page_content='CHAPTER III. A CAUCUS-RACE AND A LONG TALE 18\\n‘I didn’t mean it!’ pleaded poor Alice. ‘But you’re so easily offended, you\\nknow!’\\nThe Mouse only growled in reply.\\n‘Please come back and ﬁnish your story!’ Alice called after it, and the others\\nall joined in chorus, ‘Yes, please do!’ but the Mouse only shook its head impa-\\ntiently, and walked a little quicker.\\n‘What a pity it wouldn’t stay!’ sighed the Lory as soon as it was quite out of\\nsight; and an old Crab took the opportunity of saying to her daughter, ‘Ah, my\\ndear! Let this be a lesson to you never to lose your temper!’ – ‘Hold your tongue,\\nMa!’ said the young Crab, a little snappishly, ‘You’re enough to try the patience\\nof an oyster!’\\n‘I wish I had our Dinah here, I know I do!’ said Alice aloud, addressing\\nnobody in particular, ‘She’d soon fetch it back!’\\n‘And who is Dinah, if I might venture to ask the question?’ said the Lory.\\nAlice replied eagerly, for she was always ready to talk about her pet, ‘Dinah’s'),\n",
       "  Document(metadata={'source': '/home/jovyan/work/data/pdf_alice/alice-in-wonderland.pdf', 'page': 18}, page_content='‘And who is Dinah, if I might venture to ask the question?’ said the Lory.\\nAlice replied eagerly, for she was always ready to talk about her pet, ‘Dinah’s\\nour cat. And she’s such a capital one for catching mice you can’t think! And oh,\\nI wish you could see her after the birds! Why, she’ll eat a little bird as soon as\\nlook at it!’\\nThis speech caused a remarkable sensation among the party. Some of the\\nbirds hurried off at once; one old Magpie began wrapping itself up very carefully,\\nremarking, ‘I really must be getting home; the night-air doesn’t suit my throat!’\\nand a Canary called out in a trembling voice to its children, ‘Come away, my\\ndears! It’s high time you were all in bed!’ On various pretexts they all moved off,\\nand Alice was soon left alone.\\n‘I wish I hadn’t mentioned Dinah!’ she said to herself in a melancholy tone,\\n‘Nobody seems to like her, down here, and I’m sure she’s the best cat in the world!\\nOh, my dear Dinah! I wonder if I shall ever see you any more!’ And here poor'),\n",
       "  Document(metadata={'source': '/home/jovyan/work/data/pdf_alice/alice-in-wonderland.pdf', 'page': 18}, page_content='‘Nobody seems to like her, down here, and I’m sure she’s the best cat in the world!\\nOh, my dear Dinah! I wonder if I shall ever see you any more!’ And here poor\\nAlice began to cry again, for she felt very lonely and low-spirited. In a little\\nwhile, however, she again heard a little pattering of footsteps in the distance and\\nshe looked up eagerly, half hoping that the Mouse had changed his mind, and was\\ncoming back to ﬁnish his story.'),\n",
       "  Document(metadata={'source': '/home/jovyan/work/data/pdf_alice/alice-in-wonderland.pdf', 'page': 19}, page_content='Chapter IV\\nThe Rabbit Sends in a Little Bill\\nIt was the White Rabbit, trotting slowly back again, and looking anxiously about\\nas it went, as if it had lost something; and she heard it muttering to itself, ‘The\\nDuchess! The Duchess! Oh my dear paws! Oh my fur and whiskers! She’ll\\nget me executed, as sure as ferrets are ferrets! Where can I have dropped them,\\nI wonder?’ Alice guessed in a moment that it was looking for the fan and the pair\\nof white kid gloves, and she very good-naturedly began hunting about for them,\\nbut they were nowhere to be seen – everything seemed to have changed since her\\nswim in the pool, and the great hall, with the glass table and the little door, had\\nvanished completely.\\nVery soon the Rabbit noticed Alice, as she went hunting about, and called out\\nto her in an angry tone, ‘Why, Mary Ann, what are you doing out here? Run\\nhome this moment, and fetch me a pair of gloves and a fan! Quick, now!’ And'),\n",
       "  Document(metadata={'source': '/home/jovyan/work/data/pdf_alice/alice-in-wonderland.pdf', 'page': 19}, page_content='to her in an angry tone, ‘Why, Mary Ann, what are you doing out here? Run\\nhome this moment, and fetch me a pair of gloves and a fan! Quick, now!’ And\\nAlice was so much frightened that she ran off at once in the direction it pointed\\nto, without trying to explain the mistake it had made.\\n‘He took me for his housemaid,’ she said to herself as she ran. ‘How surprised\\nhe’ll be when he ﬁnds out who I am! But I’d better take him his fan and gloves –\\nthat is, if I can ﬁnd them.’ As she said this, she came upon a neat little house, on\\nthe door of which was a bright brass plate with the name ‘W. R ABBIT ’ engraved\\nupon it. She went in without knocking and hurried upstairs, in great fear lest she\\nshould meet the real Mary Ann, and be turned out of the house before she had\\nfound the fan and gloves.\\n‘How queer it seems,’ Alice said to herself, ‘to be going messages for a rabbit!\\nI suppose Dinah’ll be sending me on messages next!’ And she began fancying the'),\n",
       "  Document(metadata={'source': '/home/jovyan/work/data/pdf_alice/alice-in-wonderland.pdf', 'page': 19}, page_content='found the fan and gloves.\\n‘How queer it seems,’ Alice said to herself, ‘to be going messages for a rabbit!\\nI suppose Dinah’ll be sending me on messages next!’ And she began fancying the\\nsort of thing that would happen: ‘ “Miss Alice! Come here directly, and get ready\\nfor your walk!” – “Coming in a minute, nurse! But I’ve got to see that the mouse\\ndoesn’t get out.” Only I don’t think,’ Alice went on, ‘that they’d let Dinah stop in\\nthe house if it began ordering people about like that!’\\n19'),\n",
       "  Document(metadata={'source': '/home/jovyan/work/data/pdf_alice/alice-in-wonderland.pdf', 'page': 20}, page_content='CHAPTER IV . THE RABBIT SENDS IN A LITTLE BILL 20\\nBy this time she had found her way into a tidy little room with a table in the\\nwindow, and on it (as she had hoped) a fan and two or three pairs of tiny white kid\\ngloves; she took up the fan and a pair of the gloves, and was just going to leave\\nthe room, when her eye fell upon a little bottle that stood near the looking-glass.\\nThere was no label this time with the words ‘D RINK ME,’ but nevertheless she\\nuncorked it and put it to her lips. ‘I know something interesting is sure to happen,’\\nshe said to herself, ‘whenever I eat or drink anything; so I’ll just see what this\\nbottle does. I do hope it’ll make me grow large again, for really I’m quite tired of\\nbeing such a tiny little thing!’\\nIt did so indeed, and much sooner than she had expected; before she had drunk\\nhalf the bottle, she found her head pressing against the ceiling and had to stoop\\nto save her neck from being broken. She hastily put down the bottle, saying to'),\n",
       "  Document(metadata={'source': '/home/jovyan/work/data/pdf_alice/alice-in-wonderland.pdf', 'page': 20}, page_content='half the bottle, she found her head pressing against the ceiling and had to stoop\\nto save her neck from being broken. She hastily put down the bottle, saying to\\nherself ‘That’s quite enough – I hope I shan’t grow any more – As it is, I can’t get\\nout at the door – I do wish I hadn’t drunk quite so much!’\\nAlas! it was too late to wish that! She went on growing and growing and very\\nsoon had to kneel down on the ﬂoor; in another minute there was not even room\\nfor this and she tried the effect of\\nlying down with one elbow against\\nthe door, and the other arm curled\\nround her head. Still she went on\\ngrowing, and, as a last resource,\\nshe put one arm out of the win-\\ndow, and one foot up the chimney,\\nand said to herself ‘Now I can do\\nno more, whatever happens. What\\nwill become of me?’\\nLuckily for Alice, the little\\nmagic bottle had now had its full effect, and she grew no larger; still it was very\\nuncomfortable, and, as there seemed to be no sort of chance of her ever getting'),\n",
       "  Document(metadata={'source': '/home/jovyan/work/data/pdf_alice/alice-in-wonderland.pdf', 'page': 20}, page_content='Luckily for Alice, the little\\nmagic bottle had now had its full effect, and she grew no larger; still it was very\\nuncomfortable, and, as there seemed to be no sort of chance of her ever getting\\nout of the room again, no wonder she felt unhappy.\\n‘It was much pleasanter at home,’ thought poor Alice, ‘when one wasn’t al-\\nways growing larger and smaller, and being ordered about by mice and rabbits.\\nI almost wish I hadn’t gone down that rabbit-hole – and yet – and yet – it’s rather\\ncurious, you know, this sort of life! I do wonder what can have happened to me!\\nWhen I used to read fairy-tales, I fancied that kind of thing never happened, and\\nnow here I am in the middle of one! There ought to be a book written about me,\\nthat there ought! And when I grow up, I’ll write one – but I’m grown up now,’ she\\nadded in a sorrowful tone, ‘at least there’s no room to grow up any more here.’\\n‘But then,’ thought Alice, ‘shall I never get any older than I am now? That’ll'),\n",
       "  Document(metadata={'source': '/home/jovyan/work/data/pdf_alice/alice-in-wonderland.pdf', 'page': 20}, page_content='added in a sorrowful tone, ‘at least there’s no room to grow up any more here.’\\n‘But then,’ thought Alice, ‘shall I never get any older than I am now? That’ll\\nbe a comfort, one way – never to be an old woman – but then – always to have\\nlessons to learn! Oh, I shouldn’t like that!’'),\n",
       "  Document(metadata={'source': '/home/jovyan/work/data/pdf_alice/alice-in-wonderland.pdf', 'page': 21}, page_content='CHAPTER IV . THE RABBIT SENDS IN A LITTLE BILL 21\\n‘Oh, you foolish Alice!’ she answered herself, ‘How can you learn lessons in\\nhere? Why, there’s hardly room for you, and no room at all for any lesson-books!’\\nAnd so she went on, taking ﬁrst one side and then the other, and making quite\\na conversation of it altogether; but after a few minutes she heard a voice outside\\nand stopped to listen.\\n‘Mary Ann! Mary Ann!’ said the voice, ‘Fetch me my gloves this moment!’\\nThen came a little pattering of feet on the stairs. Alice knew it was the Rabbit\\ncoming to look for her, and she trembled till she shook the house, quite forgetting\\nthat she was now about a thousand times as large as the Rabbit and had no reason\\nto be afraid of it.\\nPresently the Rabbit came up to the door and tried to open it; but, as the door\\nopened inwards and Alice’s elbow was pressed hard against it, that attempt proved\\na failure. Alice heard it say to itself, ‘Then I’ll go round and get in at the window.’'),\n",
       "  Document(metadata={'source': '/home/jovyan/work/data/pdf_alice/alice-in-wonderland.pdf', 'page': 21}, page_content='opened inwards and Alice’s elbow was pressed hard against it, that attempt proved\\na failure. Alice heard it say to itself, ‘Then I’ll go round and get in at the window.’\\n‘That you won’t’ thought Alice\\nand, after waiting till she fancied she\\nheard the Rabbit just under the win-\\ndow, she suddenly spread out her\\nhand, and made a snatch in the air.\\nShe did not get hold of anything, but\\nshe heard a little shriek and a fall and\\na crash of broken glass, from which\\nshe concluded that it was just possible\\nit had fallen into a cucumber-frame or\\nsomething of the sort.\\nNext came an angry voice – the\\nRabbit’s – ‘Pat! Pat! Where are you?’\\nAnd then a voice she had never heard\\nbefore, ‘Sure then I’m here! Digging\\nfor apples, yer honour!’\\n‘Digging for apples, indeed!’ said\\nthe Rabbit angrily, ‘Here! Come and\\nhelp me out of this!’ (Sounds of more\\nbroken glass.)\\n‘Now tell me, Pat, what’s that in the window?’\\n‘Sure, it’s an arm, yer honour!’ (He pronounced it ‘arrum.’)'),\n",
       "  Document(metadata={'source': '/home/jovyan/work/data/pdf_alice/alice-in-wonderland.pdf', 'page': 21}, page_content='the Rabbit angrily, ‘Here! Come and\\nhelp me out of this!’ (Sounds of more\\nbroken glass.)\\n‘Now tell me, Pat, what’s that in the window?’\\n‘Sure, it’s an arm, yer honour!’ (He pronounced it ‘arrum.’)\\n‘An arm, you goose! Who ever saw one that size? Why, it ﬁlls the whole\\nwindow!’\\n‘Sure, it does, yer honour; but it’s an arm for all that.’\\n‘Well, it’s got no business there, at any rate; go and take it away!’\\nThere was a long silence after this and Alice could only hear whispers now and\\nthen; such as, ‘Sure, I don’t like it, yer honour, at all, at all!’ – ‘Do as I tell you,'),\n",
       "  Document(metadata={'source': '/home/jovyan/work/data/pdf_alice/alice-in-wonderland.pdf', 'page': 22}, page_content='CHAPTER IV . THE RABBIT SENDS IN A LITTLE BILL 22\\nyou coward!’ and at last she spread out her hand again and made another snatch\\nin the air. This time there were two little shrieks and more sounds of broken glass.\\n‘What a number of cucumber-frames there must be!’ thought Alice, ‘I wonder\\nwhat they’ll do next! As for pulling me out of the window, I only wish they\\ncould! I’m sure I don’t want to stay in here any longer!’\\nShe waited for some time without hearing anything more; at last came a rum-\\nbling of little cartwheels and the sound of a good many voices all talking together;\\nshe made out the words: ‘Where’s the other ladder? – Why, I hadn’t to bring but\\none; Bill’s got the other – Bill! fetch it here, lad! – Here, put ’em up at this corner –\\nNo, tie ’em together ﬁrst – they don’t reach half high enough yet – Oh! they’ll do\\nwell enough; don’t be particular – Here, Bill! catch hold of this rope – Will the\\nroof bear? – Mind that loose slate – Oh, it’s coming down! Heads below!’ (a loud'),\n",
       "  Document(metadata={'source': '/home/jovyan/work/data/pdf_alice/alice-in-wonderland.pdf', 'page': 22}, page_content='well enough; don’t be particular – Here, Bill! catch hold of this rope – Will the\\nroof bear? – Mind that loose slate – Oh, it’s coming down! Heads below!’ (a loud\\ncrash) ‘Now, who did that? – It was Bill, I fancy – Who’s to go down the chim-\\nney? – Nay, I shan’t! you do it! – That I won’t, then! – Bill’s to go down – Here,\\nBill! the master says you’re to go down the chimney!’\\n‘Oh! So Bill’s got to come down the chimney, has\\nhe?’ said Alice to herself, ‘Shy, they seem to put every-\\nthing upon Bill! I wouldn’t be in Bill’s place for a good\\ndeal: this ﬁreplace is narrow, to be sure; but I think I can\\nkick a little!’\\nShe drew her foot as far down the chimney as she\\ncould and waited till she heard a little animal (she\\ncouldn’t guess of what sort it was) scratching and\\nscrambling about in the chimney close above her; then,\\nsaying to herself, ‘This is Bill,’ she gave one sharp kick\\nand waited to see what would happen next.\\nThe ﬁrst thing she heard was a general chorus of'),\n",
       "  Document(metadata={'source': '/home/jovyan/work/data/pdf_alice/alice-in-wonderland.pdf', 'page': 22}, page_content='saying to herself, ‘This is Bill,’ she gave one sharp kick\\nand waited to see what would happen next.\\nThe ﬁrst thing she heard was a general chorus of\\n‘There goes Bill!’ then the Rabbit’s voice along –\\n‘Catch him, you by the hedge!’; then silence, and then\\nanother confusion of voices – ‘Hold up his head – Bran-\\ndy now – Don’t choke him – How was it, old fellow?\\nWhat happened to you? Tell us all about it!’\\nLast came a little feeble, squeaking voice, (‘That’s\\nBill,’ thought Alice,) ‘Well, I hardly know – No more,\\nthank ye; I’m better now – but I’m a deal too ﬂustered\\nto tell you – all I know is, something comes at me like\\na Jack-in-the-box, and up I goes like a sky-rocket!’\\n‘So you did, old fellow!’ said the others.\\n‘We must burn the house down!’ said the Rabbit’s voice; and Alice called out\\nas loud as she could, ‘If you do I’ll set Dinah at you!’'),\n",
       "  Document(metadata={'source': '/home/jovyan/work/data/pdf_alice/alice-in-wonderland.pdf', 'page': 23}, page_content='CHAPTER IV . THE RABBIT SENDS IN A LITTLE BILL 23\\nThere was a dead silence instantly and Alice thought to herself, ‘I wonder\\nwhat they will do next! If they had any sense, they’d take the roof off.’ After\\na minute or two they began moving about again, and Alice heard the Rabbit say,\\n‘A barrowful will do, to begin with.’\\n‘A barrowful of what?’ thought Alice; but she had not long to doubt, for the\\nnext moment a shower of little pebbles came rattling in at the window and some\\nof them hit her in the face. ‘I’ll put a stop to this,’ she said to herself and shouted\\nout, ‘You’d better not do that again!’ which produced another dead silence.\\nAlice noticed with some surprise that the pebbles were all turning into little\\ncakes as they lay on the ﬂoor, and a bright idea came into her head. ‘If I eat one\\nof these cakes,’ she thought, ‘it’s sure to make some change in my size; and as it\\ncan’t possibly make me larger, it must make me smaller, I suppose.’'),\n",
       "  Document(metadata={'source': '/home/jovyan/work/data/pdf_alice/alice-in-wonderland.pdf', 'page': 23}, page_content='of these cakes,’ she thought, ‘it’s sure to make some change in my size; and as it\\ncan’t possibly make me larger, it must make me smaller, I suppose.’\\nSo she swallowed one of the cakes and was delighted to ﬁnd that she began\\nshrinking directly. As soon as she was small enough to get through the door, she\\nran out of the house, and found quite a crowd of little animals and birds waiting\\noutside. The poor little Lizard, Bill, was in the middle, being held up by two\\nguinea-pigs, who were giving it something out of a bottle. They all made a rush\\nat Alice the moment she appeared; but she ran off as hard as she could, and soon\\nfound herself safe in a thick wood.\\n‘The ﬁrst thing I’ve got to do,’ said Alice to herself, as she wandered about in\\nthe wood, ‘is to grow to my right size again; and the second thing is to ﬁnd my\\nway into that lovely garden. I think that will be the best plan.’\\nIt sounded an excellent plan, no doubt, and very neatly and simply arranged;'),\n",
       "  Document(metadata={'source': '/home/jovyan/work/data/pdf_alice/alice-in-wonderland.pdf', 'page': 23}, page_content='way into that lovely garden. I think that will be the best plan.’\\nIt sounded an excellent plan, no doubt, and very neatly and simply arranged;\\nthe only difﬁculty was, that she had not the smallest idea how to set about it; and\\nwhile she was peering about anx-\\niously among the trees, a little sharp\\nbark just over her head made her look\\nup in a great hurry.\\nAn enormous puppy was looking\\ndown at her with large round eyes,\\nand feebly stretching out one paw, try-\\ning to touch her. ‘Poor little thing!’\\nsaid Alice in a coaxing tone and she\\ntried hard to whistle to it; but she was\\nterribly frightened all the time at the\\nthought that it might be hungry, in\\nwhich case it would be very likely to\\neat her up in spite of all her coaxing.\\nHardly knowing what she did she\\npicked up a little bit of stick and held\\nit out to the puppy; whereupon the'),\n",
       "  Document(metadata={'source': '/home/jovyan/work/data/pdf_alice/alice-in-wonderland.pdf', 'page': 24}, page_content='CHAPTER IV . THE RABBIT SENDS IN A LITTLE BILL 24\\npuppy jumped into the air off all its feet at once with a yelp of delight, and rushed\\nat the stick and made believe to worry it; then Alice dodged behind a great thistle,\\nto keep herself from being run over; and the moment she appeared on the other\\nside, the puppy made another rush at the stick, and tumbled head over heels in\\nits hurry to get hold of it; then Alice, thinking it was very like having a game\\nof play with a cart-horse, and expecting every moment to be trampled under its\\nfeet, ran round the thistle again; then the puppy began a series of short charges at\\nthe stick, running a very little way forwards each time and a long way back and\\nbarking hoarsely all the while, till at last it sat down a good way off, panting, with\\nits tongue hanging out of its mouth and its great eyes half shut.\\nThis seemed to Alice a good opportunity for making her escape; so she set off'),\n",
       "  Document(metadata={'source': '/home/jovyan/work/data/pdf_alice/alice-in-wonderland.pdf', 'page': 24}, page_content='its tongue hanging out of its mouth and its great eyes half shut.\\nThis seemed to Alice a good opportunity for making her escape; so she set off\\nat once and ran till she was quite tired and out of breath and till the puppy’s bark\\nsounded quite faint in the distance.\\n‘And yet what a dear little puppy it was!’ said Alice, as she leant against\\na buttercup to rest herself, and fanned herself with one of the leaves, ‘I should\\nhave liked teaching it tricks very much, if – if I’d only been the right size to do it!\\nOh dear! I’d nearly forgotten that I’ve got to grow up again! Let me see – how\\nis it to be managed? I suppose I ought to eat or drink something or other; but the\\ngreat question is, what?’\\nThe great question certainly was, what? Alice looked all round her at the\\nﬂowers and the blades of grass, but she did not see anything that looked like the\\nright thing to eat or drink under the circumstances. There was a large mushroom'),\n",
       "  Document(metadata={'source': '/home/jovyan/work/data/pdf_alice/alice-in-wonderland.pdf', 'page': 24}, page_content='ﬂowers and the blades of grass, but she did not see anything that looked like the\\nright thing to eat or drink under the circumstances. There was a large mushroom\\ngrowing near her, about the same height as herself; and when she had looked\\nunder it, and on both sides of it, and behind it, it occurred to her that she might as\\nwell look and see what was on the top of it.\\nShe stretched herself up on tiptoe, and peeped over the edge of the mushroom,\\nand her eyes immediately met those of a large caterpillar, that was sitting on the\\ntop with its arms folded, quietly smoking a long hookah, and taking not the small-\\nest notice of her or of anything else.'),\n",
       "  Document(metadata={'source': '/home/jovyan/work/data/pdf_alice/alice-in-wonderland.pdf', 'page': 25}, page_content='Chapter V\\nAdvice from a Caterpillar\\nThe Caterpillar and Alice looked at each other for some time in silence; at last\\nthe Caterpillar took the hookah out of its mouth and addressed her in a languid,\\nsleepy voice.\\n‘Who are you?’ said the Caterpillar.\\nThis was not an encouraging\\nopening for a conversation. Alice\\nreplied, rather shyly, ‘I – I hardly\\nknow, sir, just at present – at least\\nI know who I was when I got up this\\nmorning, but I think I must have been\\nchanged several times since then.’\\n‘What do you mean by that?’ said\\nthe Caterpillar sternly, ‘Explain your-\\nself!’\\n‘I can’t explainmyself, I’m afraid,\\nsir’ said Alice, ‘because I’m not my-\\nself, you see.’\\n‘I don’t see,’ said the Caterpillar.\\n‘I’m afraid I can’t put it more\\nclearly,’ Alice replied very politely,\\n‘for I can’t understand it myself to be-\\ngin with; and being so many different sizes in a day is very confusing.’\\n‘It isn’t,’ said the Caterpillar.\\n‘Well, perhaps you haven’t found it so yet,’ said Alice, ‘but when you have'),\n",
       "  Document(metadata={'source': '/home/jovyan/work/data/pdf_alice/alice-in-wonderland.pdf', 'page': 25}, page_content='gin with; and being so many different sizes in a day is very confusing.’\\n‘It isn’t,’ said the Caterpillar.\\n‘Well, perhaps you haven’t found it so yet,’ said Alice, ‘but when you have\\nto turn into a chrysalis – you will some day, you know – and then after that into\\na butterﬂy, I should think you’ll feel it a little queer, won’t you?’\\n‘Not a bit,’ said the Caterpillar.\\n‘Well, perhaps your feelings may be different,’ said Alice, ‘all I know is, it\\n25'),\n",
       "  Document(metadata={'source': '/home/jovyan/work/data/pdf_alice/alice-in-wonderland.pdf', 'page': 26}, page_content='CHAPTER V . ADVICE FROM A CATERPILLAR 26\\nwould feel very queer to me.’\\n‘You!’ said the Caterpillar contemptuously, ‘Who are you?’\\nWhich brought them back again to the beginning of the conversation. Alice\\nfelt a little irritated at the Caterpillar’s making such very short remarks and she\\ndrew herself up and said, very gravely, ‘I think, you ought to tell me who you are,\\nﬁrst.’\\n‘Why?’ said the Caterpillar.\\nHere was another puzzling question; and as Alice could not think of any good\\nreason, and as the Caterpillar seemed to be in a very unpleasant state of mind, she\\nturned away.\\n‘Come back!’ the Caterpillar called after her, ‘I’ve something important to\\nsay!’\\nThis sounded promising, certainly; Alice turned and came back again.\\n‘Keep your temper,’ said the Caterpillar.\\n‘Is that all?’ said Alice, swallowing down her anger as well as she could.\\n‘No,’ said the Caterpillar.\\nAlice thought she might as well wait, as she had nothing else to do, and per-'),\n",
       "  Document(metadata={'source': '/home/jovyan/work/data/pdf_alice/alice-in-wonderland.pdf', 'page': 26}, page_content='‘Is that all?’ said Alice, swallowing down her anger as well as she could.\\n‘No,’ said the Caterpillar.\\nAlice thought she might as well wait, as she had nothing else to do, and per-\\nhaps after all it might tell her something worth hearing. For some minutes it puffed\\naway without speaking, but at last it unfolded its arms, took the hookah out of its\\nmouth again and said, ‘So you think you’re changed, do you?’\\n‘I’m afraid I am, sir,’ said Alice, ‘I can’t remember things as I used – and\\nI don’t keep the same size for ten minutes together!’\\n‘Can’t rememberwhat things?’ said the Caterpillar.\\n‘Well, I’ve tried to say “HOW DOTH THE LITTLE BUSY BEE,” but it all came\\ndifferent!’ Alice replied in a very melancholy voice.\\n‘Repeat “YOU ARE OLD, F ATHER WILLIAM ,” ’ said the Caterpillar.\\nAlice folded her hands, and began:\\n‘You are old, Father William,’ the young man said,\\n‘And your hair has become very white;\\nAnd yet you incessantly stand on your head –\\nDo you think, at your age, it is right?’'),\n",
       "  Document(metadata={'source': '/home/jovyan/work/data/pdf_alice/alice-in-wonderland.pdf', 'page': 27}, page_content='CHAPTER V . ADVICE FROM A CATERPILLAR 27\\n‘In my youth,’ Father William replied to his son,\\n‘I feared it might injure the brain;\\nBut, now that I’m perfectly sure I have none,\\nWhy, I do it again and again.’\\n‘You are old,’ said the youth, ‘as I mentioned before,\\nAnd have grown most uncommonly fat;\\nYet you turned a back-somersault in at the door –\\nPray, what is the reason of that?’\\n‘In my youth,’ said the sage, as he shook his grey locks,\\n‘I kept all my limbs very supple\\nBy the use of this ointment – one shilling the box –\\nAllow me to sell you a couple?’\\n‘You are old,’ said the youth, ‘and your jaws are too weak\\nFor anything tougher than suet;\\nYet you ﬁnished the goose, with the bones and the beak –\\nPray how did you manage to do it?’\\n‘In my youth,’ said his father, ‘I took to the law,\\nAnd argued each case with my wife;\\nAnd the muscular strength, which it gave to my jaw,\\nHas lasted the rest of my life.’'),\n",
       "  Document(metadata={'source': '/home/jovyan/work/data/pdf_alice/alice-in-wonderland.pdf', 'page': 28}, page_content='CHAPTER V . ADVICE FROM A CATERPILLAR 28\\n‘You are old,’ said the youth, ‘one would hardly suppose\\nThat your eye was as steady as ever;\\nYet you balanced an eel on the end of your nose –\\nWhat made you so awfully clever?’\\n‘I have answered three questions, and that is enough,’\\nSaid his father; ‘don’t give yourself airs!\\nDo you think I can listen all day to such stuff?\\nBe off, or I’ll kick you down stairs!’\\n‘That is not said right,’ said the Caterpillar.\\n‘Notquite right, I’m afraid,’ said Alice, timidly, ‘some of the words have got\\naltered.’\\n‘It is wrong from beginning to end,’ said the Caterpillar decidedly, and there\\nwas silence for some minutes.\\nThe Caterpillar was the ﬁrst to speak.\\n‘What size do you want to be?’ it asked.\\n‘Oh, I’m not particular as to size,’ Alice hastily replied, ‘only one doesn’t like\\nchanging so often, you know.’\\n‘Idon’tknow,’ said the Caterpillar.\\nAlice said nothing: she had never been so much contradicted in her life before'),\n",
       "  Document(metadata={'source': '/home/jovyan/work/data/pdf_alice/alice-in-wonderland.pdf', 'page': 28}, page_content='changing so often, you know.’\\n‘Idon’tknow,’ said the Caterpillar.\\nAlice said nothing: she had never been so much contradicted in her life before\\nand she felt that she was losing her temper.\\n‘Are you content now?’ said the Caterpillar.\\n‘Well, I should like to be a little larger, sir, if you wouldn’t mind,’ said Alice,\\n‘three inches is such a wretched height to be.’\\n‘It is a very good height indeed!’ said the Caterpillar angrily, rearing itself\\nupright as it spoke (it was exactly three inches high).\\n‘But I’m not used to it!’ pleaded poor Alice in a piteous tone. And she thought\\nof herself, ‘I wish the creatures wouldn’t be so easily offended!’\\n‘You’ll get used to it in time,’ said the Caterpillar; and it put the hookah into\\nits mouth and began smoking again.'),\n",
       "  Document(metadata={'source': '/home/jovyan/work/data/pdf_alice/alice-in-wonderland.pdf', 'page': 29}, page_content='CHAPTER V . ADVICE FROM A CATERPILLAR 29\\nThis time Alice waited patiently until it chose to speak again. In a minute or\\ntwo the Caterpillar took the hookah out of its mouth and yawned once or twice\\nand shook itself. Then it got down off the mushroom, and crawled away in the\\ngrass, merely remarking as it went, ‘One side will make you grow taller and the\\nother side will make you grow shorter.’\\n‘One side of what? The other side of what?’ thought Alice to herself.\\n‘Of the mushroom,’ said the Caterpillar, just as if she had asked it aloud; and\\nin another moment it was out of sight.\\nAlice remained looking thoughtfully at the mushroom for a minute, trying to\\nmake out which were the two sides of it; and as it was perfectly round, she found\\nthis a very difﬁcult question. However, at last she stretched her arms round it as\\nfar as they would go and broke off a bit of the edge with each hand.\\n‘And now which is which?’ she said to herself and nibbled a little of the right-'),\n",
       "  Document(metadata={'source': '/home/jovyan/work/data/pdf_alice/alice-in-wonderland.pdf', 'page': 29}, page_content='far as they would go and broke off a bit of the edge with each hand.\\n‘And now which is which?’ she said to herself and nibbled a little of the right-\\nhand bit to try the effect; the next moment she felt a violent blow underneath her\\nchin: it had struck her foot!\\nShe was a good deal frightened by this very sudden change, but she felt that\\nthere was no time to be lost, as she was shrinking rapidly; so she set to work at\\nonce to eat some of the other bit. Her chin was pressed so closely against her foot,\\nthat there was hardly room to open her mouth; but she did it at last and managed\\nto swallow a morsel of the lefthand bit.\\n* * * * * * * * * *\\n‘Come, my head’s free at last!’ said Alice in a tone of delight, which changed\\ninto alarm in another moment, when she found that her shoulders were nowhere\\nto be found: all she could see, when she looked down, was an immense length\\nof neck, which seemed to rise like a stalk out of a sea of green leaves that lay far\\nbelow her.'),\n",
       "  Document(metadata={'source': '/home/jovyan/work/data/pdf_alice/alice-in-wonderland.pdf', 'page': 29}, page_content='to be found: all she could see, when she looked down, was an immense length\\nof neck, which seemed to rise like a stalk out of a sea of green leaves that lay far\\nbelow her.\\n‘Whatcan all that green stuff be?’ said Alice, ‘and where have my shoulders\\ngot to? And oh, my poor hands, how is it I can’t see you?’ She was moving them\\nabout as she spoke, but no result seemed to follow, except a little shaking among\\nthe distant green leaves.\\nAs there seemed to be no chance of getting her hands up to her head, she\\ntried to get her head down to them, and was delighted to ﬁnd that her neck\\nwould bend about easily in any direction like a serpent. She had just succeeded\\nin curving it down into a graceful zigzag and was going to dive in among the\\nleaves, which she found to be nothing but the tops of the trees under which\\nshe had been wandering, when a sharp hiss made her draw back in a hurry:\\na large pigeon had ﬂown into her face, and was beating her violently with its\\nwings.'),\n",
       "  Document(metadata={'source': '/home/jovyan/work/data/pdf_alice/alice-in-wonderland.pdf', 'page': 29}, page_content='she had been wandering, when a sharp hiss made her draw back in a hurry:\\na large pigeon had ﬂown into her face, and was beating her violently with its\\nwings.\\n‘Serpent!’ screamed the Pigeon.\\n‘I’mnot a serpent!’ said Alice indignantly, ‘let me alone!’'),\n",
       "  Document(metadata={'source': '/home/jovyan/work/data/pdf_alice/alice-in-wonderland.pdf', 'page': 30}, page_content='CHAPTER V . ADVICE FROM A CATERPILLAR 30\\n‘Serpent, I say again!’ repeated the Pigeon, but in a more subdued tone, and\\nadded with a kind of sob, ‘I’ve tried every way, and nothing seems to suit them!’\\n‘I haven’t the least idea what you’re talking about,’ said Alice.\\n‘I’ve tried the roots of trees, and I’ve tried banks, and I’ve tried hedges,’ the\\nPigeon went on, without attending to her, ‘but those serpents! There’s no pleasing\\nthem!’\\nAlice was more and more puzzled, but she thought there was no use in saying\\nanything more till the Pigeon had ﬁnished.\\n‘As if it wasn’t trouble enough hatching the eggs,’ said the Pigeon, ‘but I must\\nbe on the look-out for serpents night and day! Why, I haven’t had a wink of sleep\\nthese three weeks!’\\n‘I’m very sorry you’ve been annoyed,’ said Alice, who was beginning to see\\nits meaning.\\n‘And just as I’d taken the highest tree in the wood,’ continued the Pigeon,\\nraising its voice to a shriek, ‘and just as I was thinking I should be free of them at'),\n",
       "  Document(metadata={'source': '/home/jovyan/work/data/pdf_alice/alice-in-wonderland.pdf', 'page': 30}, page_content='its meaning.\\n‘And just as I’d taken the highest tree in the wood,’ continued the Pigeon,\\nraising its voice to a shriek, ‘and just as I was thinking I should be free of them at\\nlast, they must needs come wriggling down from the sky! Ugh, Serpent!’\\n‘But I’mnot a serpent, I tell you!’ said Alice, ‘I’m a – I’m a – ’\\n‘Well! What are you?’ said the Pigeon, ‘I can see you’re trying to invent\\nsomething!’\\n‘I – I’m a little girl,’ said Alice, rather doubtfully, as she remembered the\\nnumber of changes she had gone through that day.\\n‘A likely story indeed!’ said the Pigeon in a tone of the deepest contempt,\\n‘I’ve seen a good many little girls in my time, but never one with such a neck as\\nthat! No, no! You’re a serpent; and there’s no use denying it. I suppose you’ll be\\ntelling me next that you never tasted an egg!’\\n‘Ihave tasted eggs, certainly,’ said Alice, who was a very truthful child, ‘but\\nlittle girls eat eggs quite as much as serpents do, you know.’'),\n",
       "  Document(metadata={'source': '/home/jovyan/work/data/pdf_alice/alice-in-wonderland.pdf', 'page': 30}, page_content='telling me next that you never tasted an egg!’\\n‘Ihave tasted eggs, certainly,’ said Alice, who was a very truthful child, ‘but\\nlittle girls eat eggs quite as much as serpents do, you know.’\\n‘I don’t believe it,’ said the Pigeon, ‘but if they do, why then they’re a kind of\\nserpent, that’s all I can say.’\\nThis was such a new idea to Alice, that she was quite silent for a minute or\\ntwo, which gave the Pigeon the opportunity of adding, ‘You’re looking for eggs,\\nI know that well enough; and what does it matter to me whether you’re a little girl\\nor a serpent?’\\n‘It matters a good deal to me,’ said Alice hastily, ‘but I’m not looking for eggs,\\nas it happens; and if I was, I shouldn’t want yours: I don’t like them raw.’\\n‘Well, be off, then!’ said the Pigeon in a sulky tone, as it settled down again\\ninto its nest. Alice crouched down among the trees as well as she could, for her\\nneck kept getting entangled among the branches, and every now and then she had'),\n",
       "  Document(metadata={'source': '/home/jovyan/work/data/pdf_alice/alice-in-wonderland.pdf', 'page': 30}, page_content='into its nest. Alice crouched down among the trees as well as she could, for her\\nneck kept getting entangled among the branches, and every now and then she had\\nto stop and untwist it. After a while she remembered that she still held the pieces\\nof mushroom in her hands and she set to work very carefully, nibbling ﬁrst at one'),\n",
       "  Document(metadata={'source': '/home/jovyan/work/data/pdf_alice/alice-in-wonderland.pdf', 'page': 31}, page_content='CHAPTER V . ADVICE FROM A CATERPILLAR 31\\nand then at the other, and growing sometimes taller and sometimes shorter until\\nshe had succeeded in bringing herself down to her usual height.\\nIt was so long since she had been anything near the right size that it felt quite\\nstrange at ﬁrst; but she got used to it in a few minutes and began talking to herself,\\nas usual, ‘Come, there’s half my plan done now! How puzzling all these changes\\nare! I’m never sure what I’m going to be, from one minute to another! However,\\nI’ve got back to my right size; the next thing is, to get into that beautiful garden –\\nhow is that to be done, I wonder?’ As she said this, she came suddenly upon an\\nopen place with a little house in it about four feet high. ‘Whoever lives there,’\\nthought Alice, ‘it’ll never do to come upon them this size; why, I should frighten\\nthem out of their wits!’ So she began nibbling at the righthand bit again and\\ndid not venture to go near the house till she had brought herself down to nine'),\n",
       "  Document(metadata={'source': '/home/jovyan/work/data/pdf_alice/alice-in-wonderland.pdf', 'page': 31}, page_content='them out of their wits!’ So she began nibbling at the righthand bit again and\\ndid not venture to go near the house till she had brought herself down to nine\\ninches high.'),\n",
       "  Document(metadata={'source': '/home/jovyan/work/data/pdf_alice/alice-in-wonderland.pdf', 'page': 32}, page_content='Chapter VI\\nPig and Pepper\\nFor a minute or two she stood looking at the house, and wondering what to do\\nnext, when suddenly a footman in livery came running out of the wood – (she\\nconsidered him to be a footman because he was in livery; otherwise, judging by\\nhis face only, she would have called\\nhim a ﬁsh) – and rapped loudly at\\nthe door with his knuckles. It was\\nopened by another footman in livery,\\nwith a round face and large eyes like\\na frog; and both footmen, Alice no-\\nticed, had powdered hair that curled\\nall over their heads. She felt very curi-\\nous to know what it was all about and\\ncrept a little way out of the wood to\\nlisten.\\nThe Fish-Footman began by pro-\\nducing from under his arm a great let-\\nter, nearly as large as himself, and this\\nhe handed over to the other, saying, in\\na solemn tone, ‘For the Duchess. An\\ninvitation from the Queen to play cro-\\nquet.’ The Frog-Footman repeated, in the same solemn tone, only changing the'),\n",
       "  Document(metadata={'source': '/home/jovyan/work/data/pdf_alice/alice-in-wonderland.pdf', 'page': 32}, page_content='he handed over to the other, saying, in\\na solemn tone, ‘For the Duchess. An\\ninvitation from the Queen to play cro-\\nquet.’ The Frog-Footman repeated, in the same solemn tone, only changing the\\norder of the words a little, ‘From the Queen. An invitation for the Duchess to play\\ncroquet.’\\nThen they both bowed low, and their curls got entangled together.\\nAlice laughed so much at this, that she had to run back into the wood for fear of\\ntheir hearing her; and when she next peeped out the Fish-Footman was gone, and\\nthe other was sitting on the ground near the door, staring stupidly up into the sky.\\nAlice went timidly up to the door and knocked.\\n32'),\n",
       "  Document(metadata={'source': '/home/jovyan/work/data/pdf_alice/alice-in-wonderland.pdf', 'page': 33}, page_content='CHAPTER VI. PIG AND PEPPER 33\\n‘There’s no sort of use in knocking,’ said the Footman, ‘and that for two rea-\\nsons. First, because I’m on the same side of the door as you are; secondly, because\\nthey’re making such a noise inside, no one could possibly hear you.’ And cer-\\ntainly there was a most extraordinary noise going on within – a constant howling\\nand sneezing, and every now and then a great crash, as if a dish or kettle had been\\nbroken to pieces.\\n‘Please, then,’ said Alice, ‘how am I to get in?’\\n‘There might be some sense in your knocking,’ the Footman went on without\\nattending to her, ‘if we had the door between us. For instance, if you were inside,\\nyou might knock, and I could let you out, you know.’ He was looking up into the\\nsky all the time he was speaking, and this Alice thought decidedly uncivil. ‘But\\nperhaps he can’t help it,’ she said to herself, ‘his eyes are so very nearly at the top\\nof his head. But at any rate he might answer questions. – How am I to get in?’ she'),\n",
       "  Document(metadata={'source': '/home/jovyan/work/data/pdf_alice/alice-in-wonderland.pdf', 'page': 33}, page_content='perhaps he can’t help it,’ she said to herself, ‘his eyes are so very nearly at the top\\nof his head. But at any rate he might answer questions. – How am I to get in?’ she\\nrepeated, aloud.\\n‘I shall sit here,’ the Footman remarked, ‘till tomorrow – ’\\nAt this moment the door of the house opened and a large plate came skimming\\nout, straight at the Footman’s head; it just grazed his nose and broke to pieces\\nagainst one of the trees behind him.\\n‘ – or next day, maybe,’ the Footman continued in the same tone, exactly as if\\nnothing had happened.\\n‘How am I to get in?’ asked Alice again, in a louder tone.\\n‘Are you to get in at all?’ said the Footman, ‘That’s the ﬁrst question, you\\nknow.’\\nIt was, no doubt; only Alice did not like to be told so. ‘It’s really dreadful,’\\nshe muttered to herself, ‘the way all the creatures argue. It’s enough to drive one\\ncrazy!’\\nThe Footman seemed to think this a good opportunity for repeating his remark,'),\n",
       "  Document(metadata={'source': '/home/jovyan/work/data/pdf_alice/alice-in-wonderland.pdf', 'page': 33}, page_content='she muttered to herself, ‘the way all the creatures argue. It’s enough to drive one\\ncrazy!’\\nThe Footman seemed to think this a good opportunity for repeating his remark,\\nwith variations. ‘I shall sit here,’ he said, ‘on and off, for days and days.’\\n‘But what am I to do?’ said Alice.\\n‘Anything you like,’ said the Footman and began whistling.\\n‘Oh, there’s no use in talking to him,’ said Alice desperately, ‘he’s perfectly\\nidiotic!’ And she opened the door and went in.\\nThe door led right into a large kitchen, which was full of smoke from one end\\nto the other; the Duchess was sitting on a three-legged stool in the middle, nursing\\na baby; the cook was leaning over the ﬁre, stirring a large cauldron which seemed\\nto be full of soup.\\n‘There’s certainly too much pepper in that soup!’ Alice said to herself, as well\\nas she could for sneezing.\\nThere was certainly too much of it in the air. Even the Duchess sneezed oc-\\ncasionally; and as for the baby, it was sneezing and howling alternately without'),\n",
       "  Document(metadata={'source': '/home/jovyan/work/data/pdf_alice/alice-in-wonderland.pdf', 'page': 34}, page_content='CHAPTER VI. PIG AND PEPPER 34\\na moment’s pause. The only things in the kitchen that did not sneeze, were the\\ncook, and a large cat which was sitting on the hearth and grinning from ear to ear.\\n‘Please would you tell me,’ said\\nAlice, a little timidly, for she was not\\nquite sure whether it was good man-\\nners for her to speak ﬁrst, ‘why your\\ncat grins like that?’\\n‘It’s a Cheshire cat,’ said the\\nDuchess, ‘and that’s why. Pig!’\\nShe said the last word with such\\nsudden violence that Alice quite\\njumped; but she saw in another mo-\\nment that it was addressed to the baby,\\nand not to her, so she took courage,\\nand went on again:\\n‘I didn’t know that Cheshire cats always grinned; in fact, I didn’t know that\\ncats could grin.’\\n‘They all can,’ said the Duchess, ‘and most of ’em do.’\\n‘I don’t know of any that do,’ Alice said very politely, feeling quite pleased to\\nhave got into a conversation.\\n‘You don’t know much,’ said the Duchess, ‘and that’s a fact.’'),\n",
       "  Document(metadata={'source': '/home/jovyan/work/data/pdf_alice/alice-in-wonderland.pdf', 'page': 34}, page_content='‘I don’t know of any that do,’ Alice said very politely, feeling quite pleased to\\nhave got into a conversation.\\n‘You don’t know much,’ said the Duchess, ‘and that’s a fact.’\\nAlice did not at all like the tone of this remark and thought it would be as\\nwell to introduce some other subject of conversation. While she was trying to ﬁx\\non one, the cook took the cauldron of soup off the ﬁre, and at once set to work\\nthrowing everything within her reach at the Duchess and the baby – the ﬁre-irons\\ncame ﬁrst; then followed a shower of saucepans, plates and dishes. The Duchess\\ntook no notice of them even when they hit her; and the baby was howling so much\\nalready, that it was quite impossible to say whether the blows hurt it or not.\\n‘Oh,please mind what you’re doing!’ cried Alice, jumping up and down in an\\nagony of terror, ‘Oh, there goes his precious nose,’ as an unusually large saucepan\\nﬂew close by it and very nearly carried it off.'),\n",
       "  Document(metadata={'source': '/home/jovyan/work/data/pdf_alice/alice-in-wonderland.pdf', 'page': 34}, page_content='agony of terror, ‘Oh, there goes his precious nose,’ as an unusually large saucepan\\nﬂew close by it and very nearly carried it off.\\n‘If everybody minded their own business,’ the Duchess said in a hoarse growl,\\n‘the world would go round a deal faster than it does.’\\n‘Which would not be an advantage,’ said Alice, who felt very glad to get an\\nopportunity of showing off a little of her knowledge, ‘Just think of what work it\\nwould make with the day and night! You see the earth takes twenty-four hours to\\nturn round on its axis – ’\\n‘Talking of axes,’ said the Duchess, ‘chop off her head!’\\nAlice glanced rather anxiously at the cook, to see if she meant to take the hint;\\nbut the cook was busily stirring the soup, and seemed not to be listening, so she\\nwent on again, ‘Twenty-four hours, I think; or is it twelve? I – ’'),\n",
       "  Document(metadata={'source': '/home/jovyan/work/data/pdf_alice/alice-in-wonderland.pdf', 'page': 35}, page_content='CHAPTER VI. PIG AND PEPPER 35\\n‘Oh, don’t bother me,’ said the Duchess, ‘I never could abide ﬁgures!’ And\\nwith that she began nursing her child again, singing a sort of lullaby to it as she\\ndid so, and giving it a violent shake at the end of every line:\\n‘Speak roughly to your little boy,\\nAnd beat him when he sneezes;\\nHe only does it to annoy,\\nBecause he knows it teases.’\\nChorus\\n(in which the cook and the baby joined)\\n‘Wow! wow! wow!’\\nWhile the Duchess sang the second verse of the song, she kept tossing the\\nbaby violently up and down and the poor little thing howled so, that Alice could\\nhardly hear the words:\\n‘I speak severely to my boy,\\nI beat him when he sneezes;\\nFor he can thoroughly enjoy\\nThe pepper when he pleases!’\\nChorus\\n‘Wow! wow! wow!’\\n‘Here! you may nurse it a bit, if you like!’ the Duchess said to Alice, ﬂinging\\nthe baby at her as she spoke, ‘I must go and get ready to play croquet with the\\nQueen,’ and she hurried out of the room. The cook threw a frying-pan after her as'),\n",
       "  Document(metadata={'source': '/home/jovyan/work/data/pdf_alice/alice-in-wonderland.pdf', 'page': 35}, page_content='the baby at her as she spoke, ‘I must go and get ready to play croquet with the\\nQueen,’ and she hurried out of the room. The cook threw a frying-pan after her as\\nshe went out, but it just missed her.\\nAlice caught the baby with some difﬁculty, as it was a queer-shaped little\\ncreature, and held out its arms and legs in all directions, ‘just like a star-ﬁsh,’\\nthought Alice. The poor little thing was snorting like a steam-engine when she\\ncaught it and kept doubling itself up and straightening itself out again, so that\\naltogether, for the ﬁrst minute or two, it was as much as she could do to hold it.\\nAs soon as she had made out the proper way of nursing it, (which was to twist\\nit up into a sort of knot and then keep tight hold of its right ear and left foot, so\\nas to prevent its undoing itself) she carried it out into the open air. ‘ If I don’t take\\nthis child away with me,’ thought Alice, ‘they’re sure to kill it in a day or two;'),\n",
       "  Document(metadata={'source': '/home/jovyan/work/data/pdf_alice/alice-in-wonderland.pdf', 'page': 35}, page_content='as to prevent its undoing itself) she carried it out into the open air. ‘ If I don’t take\\nthis child away with me,’ thought Alice, ‘they’re sure to kill it in a day or two;\\nwouldn’t it be murder to leave it behind?’ She said the last words out loud and the\\nlittle thing grunted in reply (it had left off sneezing by this time). ‘Don’t grunt,’\\nsaid Alice, ‘that’s not at all a proper way of expressing yourself.’\\nThe baby grunted again and Alice looked very anxiously into its face to see\\nwhat was the matter with it. There could be no doubt that it had a very turn-up\\nnose, much more like a snout than a real nose; also its eyes were getting extremely'),\n",
       "  Document(metadata={'source': '/home/jovyan/work/data/pdf_alice/alice-in-wonderland.pdf', 'page': 36}, page_content='CHAPTER VI. PIG AND PEPPER 36\\nsmall for a baby; altogether Alice did not like the look of the thing at all. ‘But\\nperhaps it was only sobbing,’ she thought and looked into its eyes again to see if\\nthere were any tears.\\nNo, there were no tears. ‘If you’re going to turn into a pig, my dear,’ said\\nAlice, seriously, ‘I’ll have nothing more to do with you. Mind now!’ The poor\\nlittle thing sobbed again (or grunted, it was impossible to say which), and they\\nwent on for some while in silence.\\nAlice was just beginning to think to herself, ‘Now, what am I to do with this\\ncreature when I get it home?’ when it grunted again, so violently, that she looked\\ndown into its face in some alarm. This time there could be no mistake about it: it\\nwas neither more nor less than a pig,\\nand she felt that it would be quite ab-\\nsurd for her to carry it further.\\nSo she set the little creature down,\\nand felt quite relieved to see it trot\\naway quietly into the wood. ‘If it\\nhad grown up,’ she said to herself, ‘it'),\n",
       "  Document(metadata={'source': '/home/jovyan/work/data/pdf_alice/alice-in-wonderland.pdf', 'page': 36}, page_content='surd for her to carry it further.\\nSo she set the little creature down,\\nand felt quite relieved to see it trot\\naway quietly into the wood. ‘If it\\nhad grown up,’ she said to herself, ‘it\\nwould have made a dreadfully ugly\\nchild; but it makes rather a hand-\\nsome pig, I think.’ And she began\\nthinking over other children she knew,\\nwho might do very well as pigs, and\\nwas just saying to herself, ‘if one\\nonly knew the right way to change\\nthem – ’ when she was a little startled\\nby seeing the Cheshire Cat sitting on\\na bough of a tree a few yards off.\\nThe Cat only grinned when it saw\\nAlice. It looked good-natured, she\\nthought; still it had very long claws\\nand a great many teeth, so she felt that\\nit ought to be treated with respect.\\n‘Cheshire Puss,’ she began, rather timidly, as she did not at all know whether\\nit would like the name; however, it only grinned a little wider. ‘Come, it’s pleased\\nso far,’ thought Alice, and she went on, ‘would you tell me, please, which way\\nI ought to go from here?’'),\n",
       "  Document(metadata={'source': '/home/jovyan/work/data/pdf_alice/alice-in-wonderland.pdf', 'page': 36}, page_content='it would like the name; however, it only grinned a little wider. ‘Come, it’s pleased\\nso far,’ thought Alice, and she went on, ‘would you tell me, please, which way\\nI ought to go from here?’\\n‘That depends a good deal on where you want to get to,’ said the Cat.\\n‘I don’t much care where – ’ said Alice.\\n‘Then it doesn’t matter which way you go,’ said the Cat.\\n‘ – so long as I get somewhere,’ Alice added as an explanation.\\n‘Oh, you’re sure to do that,’ said the Cat, ‘if you only walk long enough.’'),\n",
       "  Document(metadata={'source': '/home/jovyan/work/data/pdf_alice/alice-in-wonderland.pdf', 'page': 37}, page_content='CHAPTER VI. PIG AND PEPPER 37\\nAlice felt that this could not be\\ndenied, so she tried another question,\\n‘What sort of people live about here?’\\n‘In that direction,’ the Cat said,\\nwaving its right paw round, ‘lives\\na Hatter; and in that direction,’ wav-\\ning the other paw, ‘lives a March\\nHare. Visit either you like: they’re\\nboth mad.’\\n‘But I don’t want to go among mad people,’ Alice re-\\nmarked.\\n‘Oh, you can’t help that,’ said the Cat, ‘we’re all mad\\nhere. I’m mad. You’re mad.’\\n‘How do you know I’m mad?’ said Alice.\\n‘You must be,’ said the Cat, ‘or you wouldn’t have come\\nhere.’\\nAlice didn’t think that proved it at all; however, she went\\non, ‘And how do you know that you’re mad?’\\n‘To begin with,’ said the Cat, ‘a dog’s not mad. You\\ngrant that?’\\n‘I suppose so,’ said Alice.\\n‘Well, then,’ the Cat went on, ‘you see, a dog growls when it’s angry, and wags\\nits tail when it’s pleased. Now I growl when I’m pleased, and wag my tail when\\nI’m angry. Therefore I’m mad.’'),\n",
       "  Document(metadata={'source': '/home/jovyan/work/data/pdf_alice/alice-in-wonderland.pdf', 'page': 37}, page_content='‘Well, then,’ the Cat went on, ‘you see, a dog growls when it’s angry, and wags\\nits tail when it’s pleased. Now I growl when I’m pleased, and wag my tail when\\nI’m angry. Therefore I’m mad.’\\n‘I call it purring, not growling,’ said Alice.\\n‘Call it what you like,’ said the Cat, ‘Do you play croquet with the Queen\\nto-day?’\\n‘I should like it very much,’ said Alice, ‘but I haven’t been invited yet.’\\n‘You’ll see me there,’ said the Cat and vanished.\\nAlice was not much surprised at this, she was getting so used to queer things\\nhappening. While she was looking at the place where it had been, it suddenly\\nappeared again.\\n‘By-the-bye, what became of the baby?’ said the Cat, ‘I’d nearly forgotten to\\nask.’\\n‘It turned into a pig,’ Alice quietly said, just as if it had come back in a natural\\nway.\\n‘I thought it would,’ said the Cat and vanished again.\\nAlice waited a little, half expecting to see it again, but it did not appear, and'),\n",
       "  Document(metadata={'source': '/home/jovyan/work/data/pdf_alice/alice-in-wonderland.pdf', 'page': 37}, page_content='way.\\n‘I thought it would,’ said the Cat and vanished again.\\nAlice waited a little, half expecting to see it again, but it did not appear, and\\nafter a minute or two she walked on in the direction in which the March Hare was\\nsaid to live. ‘I’ve seen hatters before,’ she said to herself, ‘the March Hare will be\\nmuch the most interesting, and perhaps as this is May it won’t be raving mad – at'),\n",
       "  Document(metadata={'source': '/home/jovyan/work/data/pdf_alice/alice-in-wonderland.pdf', 'page': 38}, page_content='CHAPTER VI. PIG AND PEPPER 38\\nleast not so mad as it was in March.’ As she said this, she looked up, and there\\nwas the Cat again, sitting on a branch of a tree.\\n‘Did you say pig or ﬁg?’ said the Cat.\\n‘I said pig,’ replied Alice, ‘and I wish you wouldn’t keep appearing and van-\\nishing so suddenly: you make one quite giddy.’\\n‘All right,’ said the Cat; and this\\ntime it vanished quite slowly, begin-\\nning with the end of the tail, and\\nending with the grin which remained\\nsome time after the rest of it had gone.\\n‘Well! I’ve often seen a cat with-\\nout a grin,’ thought Alice, ‘but a grin\\nwithout a cat! It’s the most curious\\nthing I ever saw in my life!’\\nShe had not gone much farther before she came in sight of the house of the\\nMarch Hare: she thought it must be the right house, because the chimneys were\\nshaped like ears and the roof was thatched with fur. It was so large a house, that\\nshe did not like to go nearer till she had nibbled some more of the lefthand bit'),\n",
       "  Document(metadata={'source': '/home/jovyan/work/data/pdf_alice/alice-in-wonderland.pdf', 'page': 38}, page_content='shaped like ears and the roof was thatched with fur. It was so large a house, that\\nshe did not like to go nearer till she had nibbled some more of the lefthand bit\\nof mushroom and raised herself to about two feet high; even then she walked up\\ntowards it rather timidly, saying to herself ‘Suppose it should be raving mad after\\nall! I almost wish I’d gone to see the Hatter instead!’'),\n",
       "  Document(metadata={'source': '/home/jovyan/work/data/pdf_alice/alice-in-wonderland.pdf', 'page': 39}, page_content='Chapter VII\\nA Mad Tea-Party\\nThere was a table set out under a tree\\nin front of the house, and the March\\nHare and the Hatter were having tea\\nat it; a Dormouse was sitting between\\nthem, fast asleep, and the other two\\nwere using it as a cushion, resting\\ntheir elbows on it, and talking over\\nits head. ‘Very uncomfortable for the\\nDormouse,’ thought Alice, ‘only, as\\nit’s asleep, I suppose it doesn’t mind.’\\nThe table was a large one, but the\\nthree were all crowded together at one\\ncorner of it; ‘No room! No room!’\\nthey cried out when they saw Alice coming. ‘There’s plenty of room!’ said Alice\\nindignantly, and she sat down in a large arm-chair at one end of the table.\\n‘Have some wine,’ the March Hare said in an encouraging tone.\\nAlice looked all round the table, but there was nothing on it but tea. ‘I don’t\\nsee any wine,’ she remarked.\\n‘There isn’t any,’ said the March Hare.\\n‘Then it wasn’t very civil of you to offer it,’ said Alice angrily.'),\n",
       "  Document(metadata={'source': '/home/jovyan/work/data/pdf_alice/alice-in-wonderland.pdf', 'page': 39}, page_content='see any wine,’ she remarked.\\n‘There isn’t any,’ said the March Hare.\\n‘Then it wasn’t very civil of you to offer it,’ said Alice angrily.\\n‘It wasn’t very civil of you to sit down without being invited,’ said the March\\nHare.\\n‘I didn’t know it was your table,’ said Alice, ‘it’s laid for a great many more\\nthan three.’\\n‘Your hair wants cutting,’ said the Hatter. He had been looking at Alice for\\nsome time with great curiosity, and this was his ﬁrst speech.\\n‘You should learn not to make personal remarks,’ Alice said with some sever-\\nity, ‘it’s very rude.’\\n39'),\n",
       "  Document(metadata={'source': '/home/jovyan/work/data/pdf_alice/alice-in-wonderland.pdf', 'page': 40}, page_content='CHAPTER VII. A MAD TEA-PARTY 40\\nThe Hatter opened his eyes very wide on hearing this; but all he said was,\\n‘Why is a raven like a writing-desk?’\\n‘Come, we shall have some fun now!’ thought Alice. ‘I’m glad they’ve begun\\nasking riddles. – I believe I can guess that,’ she added aloud.\\n‘Do you mean that you think you can ﬁnd out the answer to it?’ said the March\\nHare.\\n‘Exactly so,’ said Alice.\\n‘Then you should say what you mean,’ the March Hare went on.\\n‘I do,’ Alice hastily replied, ‘at least – at least I mean what I say – that’s the\\nsame thing, you know.’\\n‘Not the same thing a bit!’ said the Hatter, ‘You might just as well say that\\n“I see what I eat” is the same thing as “I eat what I see”!’\\n‘You might just as well say,’ added the March Hare, ‘that “I like what I get” is\\nthe same thing as “I get what I like”!’\\n‘You might just as well say,’ added the Dormouse, who seemed to be talking\\nin his sleep, ‘that “I breathe when I sleep” is the same thing as “I sleep when\\nI breathe”!’'),\n",
       "  Document(metadata={'source': '/home/jovyan/work/data/pdf_alice/alice-in-wonderland.pdf', 'page': 40}, page_content='‘You might just as well say,’ added the Dormouse, who seemed to be talking\\nin his sleep, ‘that “I breathe when I sleep” is the same thing as “I sleep when\\nI breathe”!’\\n‘It is the same thing with you,’ said the Hatter, and here the conversation\\ndropped and the party sat silent for a minute, while Alice thought over all she\\ncould remember about ravens and writing-desks, which wasn’t much.\\nThe Hatter was the ﬁrst to break the silence. ‘What day of the month is it?’ he\\nsaid, turning to Alice; he had taken his watch out of his pocket and was looking at\\nit uneasily, shaking it every now and then and holding it to his ear.\\nAlice considered a little, and then said ‘The fourth.’\\n‘Two days wrong!’ sighed the Hatter. ‘I told you butter wouldn’t suit the\\nworks!’ he added looking angrily at the March Hare.\\n‘It was the best butter,’ the March Hare meekly replied.\\n‘Yes, but some crumbs must have got in as well,’ the Hatter grumbled, ‘you\\nshouldn’t have put it in with the bread-knife.’'),\n",
       "  Document(metadata={'source': '/home/jovyan/work/data/pdf_alice/alice-in-wonderland.pdf', 'page': 40}, page_content='‘It was the best butter,’ the March Hare meekly replied.\\n‘Yes, but some crumbs must have got in as well,’ the Hatter grumbled, ‘you\\nshouldn’t have put it in with the bread-knife.’\\nThe March Hare took the watch and looked at it gloomily; then he dipped it\\ninto his cup of tea, and looked at it again; but he could think of nothing better to\\nsay than his ﬁrst remark, ‘It was the best butter, you know.’\\nAlice had been looking over his shoulder with some curiosity. ‘What a funny\\nwatch!’ she remarked, ‘It tells the day of the month, and doesn’t tell what o’clock\\nit is!’\\n‘Why should it?’ muttered the Hatter, ‘Does your watch tell you what year\\nit is?’\\n‘Of course not,’ Alice replied very readily, ‘but that’s because it stays the same\\nyear for such a long time together.’\\n‘Which is just the case with mine,’ said the Hatter.'),\n",
       "  Document(metadata={'source': '/home/jovyan/work/data/pdf_alice/alice-in-wonderland.pdf', 'page': 41}, page_content='CHAPTER VII. A MAD TEA-PARTY 41\\nAlice felt dreadfully puzzled. The Hatter’s remark seemed to have no sort of\\nmeaning in it and yet it was certainly English. ‘I don’t quite understand you,’ she\\nsaid, as politely as she could.\\n‘The Dormouse is asleep again,’ said the Hatter, and he poured a little hot tea\\nupon its nose.\\nThe Dormouse shook its head impatiently, and said, without opening its eyes,\\n‘Of course, of course; just what I was going to remark myself.’\\n‘Have you guessed the riddle yet?’ the Hatter said, turning to Alice again.\\n‘No, I give it up,’ Alice replied, ‘what’s the answer?’\\n‘I haven’t the slightest idea,’ said the Hatter.\\n‘Nor I,’ said the March Hare.\\nAlice sighed wearily. ‘I think you might do something better with the time,’\\nshe said, ‘than waste it in asking riddles that have no answers.’\\n‘If you knew Time as well as I do,’ said the Hatter, ‘you wouldn’t talk about\\nwasting it. It’s him.’\\n‘I don’t know what you mean,’ said Alice.'),\n",
       "  Document(metadata={'source': '/home/jovyan/work/data/pdf_alice/alice-in-wonderland.pdf', 'page': 41}, page_content='‘If you knew Time as well as I do,’ said the Hatter, ‘you wouldn’t talk about\\nwasting it. It’s him.’\\n‘I don’t know what you mean,’ said Alice.\\n‘Of course you don’t!’ the Hatter said, tossing his head contemptuously,\\n‘I dare say you never even spoke to Time!’\\n‘Perhaps not,’ Alice cautiously replied, ‘but I know I have to beat time when\\nI learn music.’\\n‘Ah! that accounts for it,’ said\\nthe Hatter, ‘He won’t stand beating.\\nNow, if you only kept on good terms\\nwith him, he’d do almost anything\\nyou liked with the clock. For instance,\\nsuppose it were nine o’clock in the\\nmorning, just time to begin lessons;\\nyou’d only have to whisper a hint to\\nTime, and round goes the clock in\\na twinkling! Half-past one, time for\\ndinner!’\\n(‘I only wish it was,’ the March\\nHare said to itself in a whisper.)\\n‘That would be grand, certainly,’\\nsaid Alice thoughtfully, ‘but then –\\nI shouldn’t be hungry for it, you\\nknow.’\\n‘Not at ﬁrst, perhaps,’ said the'),\n",
       "  Document(metadata={'source': '/home/jovyan/work/data/pdf_alice/alice-in-wonderland.pdf', 'page': 41}, page_content='Hare said to itself in a whisper.)\\n‘That would be grand, certainly,’\\nsaid Alice thoughtfully, ‘but then –\\nI shouldn’t be hungry for it, you\\nknow.’\\n‘Not at ﬁrst, perhaps,’ said the\\nHatter, ‘but you could keep it to half-past one as long as you liked.’\\n‘Is that the way you manage?’ Alice asked.'),\n",
       "  Document(metadata={'source': '/home/jovyan/work/data/pdf_alice/alice-in-wonderland.pdf', 'page': 42}, page_content='CHAPTER VII. A MAD TEA-PARTY 42\\nThe Hatter shook his head mournfully. ‘Not I!’ he replied, ‘We quarrelled last\\nMarch – just before he went mad, you know – ’ (pointing with his tea spoon at\\nthe March Hare,) ‘ – it was at the great concert given by the Queen of Hearts, and\\nI had to sing\\n“Twinkle, twinkle, little bat!\\nHow I wonder what you’re at!”\\nYou know the song, perhaps?’\\n‘I’ve heard something like it,’ said Alice.\\n‘It goes on, you know,’ the Hatter continued, ‘in this way:\\n“Up above the world you ﬂy,\\nLike a tea-tray in the sky.\\nTwinkle, twinkle – ” ’\\nHere the Dormouse shook itself and began singing in its sleep ‘Twinkle, twin-\\nkle, twinkle, twinkle – ’ and went on so long that they had to pinch it to make it\\nstop.\\n‘Well, I’d hardly ﬁnished the ﬁrst verse,’ said the Hatter, ‘when the Queen\\njumped up and bawled out, “He’s murdering the time! Off with his head!” ’\\n‘How dreadfully savage!’ exclaimed Alice.\\n‘And ever since that,’ the Hatter went on in a mournful tone, ‘he won’t do'),\n",
       "  Document(metadata={'source': '/home/jovyan/work/data/pdf_alice/alice-in-wonderland.pdf', 'page': 42}, page_content='jumped up and bawled out, “He’s murdering the time! Off with his head!” ’\\n‘How dreadfully savage!’ exclaimed Alice.\\n‘And ever since that,’ the Hatter went on in a mournful tone, ‘he won’t do\\na thing I ask! It’s always six o’clock now.’ A bright idea came into Alice’s head.\\n‘Is that the reason so many tea-things are put out here?’ she asked.\\n‘Yes, that’s it,’ said the Hatter with a sigh, ‘it’s always tea-time and we’ve no\\ntime to wash the things between whiles.’\\n‘Then you keep moving round, I suppose?’ said Alice.\\n‘Exactly so,’ said the Hatter, ‘as the things get used up.’\\n‘But what happens when you come to the beginning again?’ Alice ventured\\nto ask.\\n‘Suppose we change the subject,’ the March Hare interrupted, yawning, ‘I’m\\ngetting tired of this. I vote the young lady tells us a story.’\\n‘I’m afraid I don’t know one,’ said Alice, rather alarmed at the proposal.\\n‘Then the Dormouse shall!’ they both cried, ‘Wake up, Dormouse!’ And they\\npinched it on both sides at once.'),\n",
       "  Document(metadata={'source': '/home/jovyan/work/data/pdf_alice/alice-in-wonderland.pdf', 'page': 42}, page_content='‘I’m afraid I don’t know one,’ said Alice, rather alarmed at the proposal.\\n‘Then the Dormouse shall!’ they both cried, ‘Wake up, Dormouse!’ And they\\npinched it on both sides at once.\\nThe Dormouse slowly opened his eyes. ‘I wasn’t asleep,’ he said in a hoarse,\\nfeeble voice, ‘I heard every word you fellows were saying.’\\n‘Tell us a story!’ said the March Hare.\\n‘Yes, please do!’ pleaded Alice.\\n‘And be quick about it,’ added the Hatter, ‘or you’ll be asleep again before\\nit’s done.’'),\n",
       "  Document(metadata={'source': '/home/jovyan/work/data/pdf_alice/alice-in-wonderland.pdf', 'page': 43}, page_content='CHAPTER VII. A MAD TEA-PARTY 43\\n‘Once upon a time there were three little sisters,’ the Dormouse began in\\na great hurry, ‘and their names were Elsie, Lacie and Tillie; and they lived at\\nthe bottom of a well – ’\\n‘What did they live on?’ said Alice, who always took a great interest in ques-\\ntions of eating and drinking.\\n‘They lived on treacle,’ said the Dormouse, after thinking a minute or two.\\n‘They couldn’t have done that, you know,’ Alice gently remarked, ‘they’d have\\nbeen ill.’\\n‘So they were,’ said the Dormouse, ‘very ill.’\\nAlice tried to fancy to herself what such an extraordinary ways of living would\\nbe like, but it puzzled her too much, so she went on, ‘But why did they live at the\\nbottom of a well?’\\n‘Take some more tea,’ the March Hare said to Alice, very earnestly.\\n‘I’ve had nothing yet,’ Alice replied in an offended tone, ‘so I can’t take more.’\\n‘You mean you can’t take less,’ said the Hatter, ‘it’s very easy to take more\\nthan nothing.’\\n‘Nobody asked your opinion,’ said Alice.'),\n",
       "  Document(metadata={'source': '/home/jovyan/work/data/pdf_alice/alice-in-wonderland.pdf', 'page': 43}, page_content='‘You mean you can’t take less,’ said the Hatter, ‘it’s very easy to take more\\nthan nothing.’\\n‘Nobody asked your opinion,’ said Alice.\\n‘Who’s making personal remarks now?’ the Hatter asked triumphantly.\\nAlice did not quite know what to say to this; so she helped herself to some tea\\nand bread-and-butter, and then turned to the Dormouse, and repeated her question,\\n‘Why did they live at the bottom of a well?’\\nThe Dormouse again took a minute or two to think about it and then said, ‘It\\nwas a treacle-well.’\\n‘There’s no such thing!’ Alice was beginning very angrily, but the Hatter and\\nthe March Hare went ‘Sh! sh!’ and the Dormouse sulkily remarked, ‘If you can’t\\nbe civil, you’d better ﬁnish the story for yourself.’\\n‘No, please go on!’ Alice said very humbly, ‘I won’t interrupt again. I dare\\nsay there may be one.’\\n‘One, indeed!’ said the Dormouse indignantly. However, he consented to go\\non, ‘And so these three little sisters – they were learning to draw, you know – ’'),\n",
       "  Document(metadata={'source': '/home/jovyan/work/data/pdf_alice/alice-in-wonderland.pdf', 'page': 43}, page_content='say there may be one.’\\n‘One, indeed!’ said the Dormouse indignantly. However, he consented to go\\non, ‘And so these three little sisters – they were learning to draw, you know – ’\\n‘What did they draw?’ said Alice, quite forgetting her promise.\\n‘Treacle,’ said the Dormouse without considering at all this time.\\n‘I want a clean cup,’ interrupted the Hatter, ‘let’s all move one place on.’\\nHe moved on as he spoke, and the Dormouse followed him; the March Hare\\nmoved into the Dormouse’s place and Alice rather unwillingly took the place of\\nthe March Hare. The Hatter was the only one who got any advantage from the\\nchange; and Alice was a good deal worse off than before as the March Hare had\\njust upset the milk-jug into his plate.\\nAlice did not wish to offend the Dormouse again, so she began very cautiously,\\n‘But I don’t understand. Where did they draw the treacle from?’'),\n",
       "  Document(metadata={'source': '/home/jovyan/work/data/pdf_alice/alice-in-wonderland.pdf', 'page': 44}, page_content='CHAPTER VII. A MAD TEA-PARTY 44\\n‘You can draw water out of a water-well,’ said the Hatter, ‘so I should think\\nyou could draw treacle out of a treacle-well – eh, stupid?’\\n‘But they were in the well,’ Alice said to the Dormouse, not choosing to notice\\nthis last remark.\\n‘Of course they were’, said the Dormouse, ‘ – well in.’\\nThis answer so confused poor Alice, that she let the Dormouse go on for some\\ntime without interrupting it.\\n‘They were learning to draw,’ the Dormouse went on, yawning and rubbing\\nits eyes, for it was getting very sleepy, ‘and they drew all manner of things –\\neverything that begins with an M – ’\\n‘Why with an M?’ said Alice.\\n‘Why not?’ said the March Hare.\\nAlice was silent.\\nThe Dormouse had closed its eyes by this time and was going off into a doze;\\nbut, on being pinched by the Hatter, it woke up again with a little shriek, and went\\non, ‘ – that begins with an M, such as mouse-traps, and the moon, and memory,'),\n",
       "  Document(metadata={'source': '/home/jovyan/work/data/pdf_alice/alice-in-wonderland.pdf', 'page': 44}, page_content='but, on being pinched by the Hatter, it woke up again with a little shriek, and went\\non, ‘ – that begins with an M, such as mouse-traps, and the moon, and memory,\\nand muchness – you know you say things are “much of a muchness” – did you\\never see such a thing as a drawing of a muchness?’\\n‘Really, now you ask me,’ said\\nAlice, very much confused, ‘I don’t\\nthink – ’\\n‘Then you shouldn’t talk,’ said the\\nHatter.\\nThis piece of rudeness was more\\nthan Alice could bear; she got up\\nin great disgust, and walked off; the\\nDormouse fell asleep instantly and\\nneither of the others took the least no-\\ntice of her going, though she looked\\nback once or twice, half hoping that\\nthey would call after her; the last time\\nshe saw them, they were trying to put\\nthe Dormouse into the teapot.\\n‘At any rate I’ll never gothere again!’ said Alice as she picked her way through\\nthe wood, ‘It’s the stupidest tea-party I ever was at in all my life!’'),\n",
       "  Document(metadata={'source': '/home/jovyan/work/data/pdf_alice/alice-in-wonderland.pdf', 'page': 44}, page_content='the Dormouse into the teapot.\\n‘At any rate I’ll never gothere again!’ said Alice as she picked her way through\\nthe wood, ‘It’s the stupidest tea-party I ever was at in all my life!’\\nJust as she said this, she noticed that one of the trees had a door leading right\\ninto it. ‘That’s very curious!’ she thought, ‘But everything’s curious today. I think\\nI may as well go in at once.’ And in she went.\\nOnce more she found herself in the long hall, and close to the little glass table.\\n‘Now, I’ll manage better this time,’ she said to herself and began by taking the\\nlittle golden key, and unlocking the door that led into the garden. Then she went'),\n",
       "  Document(metadata={'source': '/home/jovyan/work/data/pdf_alice/alice-in-wonderland.pdf', 'page': 45}, page_content='CHAPTER VII. A MAD TEA-PARTY 45\\nto work nibbling at the mushroom (she had kept a piece of it in her pocket) till\\nshe was about a foot high; then she walked down the little passage; and then – she\\nfound herself at last in the beautiful garden, among the bright ﬂower-beds and the\\ncool fountains.'),\n",
       "  Document(metadata={'source': '/home/jovyan/work/data/pdf_alice/alice-in-wonderland.pdf', 'page': 46}, page_content='Chapter VIII\\nThe Queen’s Croquet-Ground\\nA large rose-tree stood near the en-\\ntrance of the garden; the roses grow-\\ning on it were white, but there were\\nthree gardeners at it, busily painting\\nthem red. Alice thought this a very\\ncurious thing, and she went nearer\\nto watch them, and just as she came\\nup to them she heard one of them\\nsay, ‘Look out now, Five! Don’t go\\nsplashing paint over me like that!’\\n‘I couldn’t help it,’ said Five, in\\na sulky tone, ‘Seven jogged my el-\\nbow.’\\nOn which Seven looked up and\\nsaid, ‘That’s right, Five! Always lay\\nthe blame on others!’\\n‘You’dbetter not talk!’ said Five,\\n‘I heard the Queen say only yesterday\\nyou deserved to be beheaded!’\\n‘What for?’ said the one who had\\nspoken ﬁrst.\\n‘That’s none ofyour business, Two!’ said Seven.\\n‘Yes, itis his business!’ said Five, ‘and I’ll tell him – it was for bringing the\\ncook tulip-roots instead of onions.’\\nSeven ﬂung down his brush, and had just begun, ‘Well, of all the unjust'),\n",
       "  Document(metadata={'source': '/home/jovyan/work/data/pdf_alice/alice-in-wonderland.pdf', 'page': 46}, page_content='‘Yes, itis his business!’ said Five, ‘and I’ll tell him – it was for bringing the\\ncook tulip-roots instead of onions.’\\nSeven ﬂung down his brush, and had just begun, ‘Well, of all the unjust\\nthings – ’ when his eye chanced to fall upon Alice, as she stood watching them\\nand he checked himself suddenly; the others looked round also, and all of them\\nbowed low.\\n46'),\n",
       "  Document(metadata={'source': '/home/jovyan/work/data/pdf_alice/alice-in-wonderland.pdf', 'page': 47}, page_content='CHAPTER VIII. THE QUEEN’S CROQUET-GROUND 47\\n‘Would you tell me,’ said Alice, a little timidly, ‘why you are painting those\\nroses?’\\nFive and Seven said nothing, but looked at Two. Two began in a low voice,\\n‘Why the fact is, you see, Miss, this here ought to have been a red rose-tree, and\\nwe put a white one in by mistake; and if the Queen was to ﬁnd it out, we should all\\nhave our heads cut off, you know. So you see, Miss, we’re doing our best, afore\\nshe comes, to – ’ At this moment Five, who had been anxiously looking across\\nthe garden, called out ‘The Queen! The Queen!’ and the three gardeners instantly\\nthrew themselves ﬂat upon their faces. There was a sound of many footsteps and\\nAlice looked round eager to see the Queen.\\nFirst came ten soldiers carrying clubs; these were all shaped like the three\\ngardeners, oblong and ﬂat, with their hands and feet at the corners; next the ten\\ncourtiers; these were ornamented all over with diamonds and walked two and two,'),\n",
       "  Document(metadata={'source': '/home/jovyan/work/data/pdf_alice/alice-in-wonderland.pdf', 'page': 47}, page_content='gardeners, oblong and ﬂat, with their hands and feet at the corners; next the ten\\ncourtiers; these were ornamented all over with diamonds and walked two and two,\\nas the soldiers did. After these came the royal children; there were ten of them\\nand the little dears came jumping merrily along hand in hand in couples; they\\nwere all ornamented with hearts. Next came the guests, mostly Kings and Queens,\\nand among them Alice recognised the White Rabbit; it was talking in a hurried\\nnervous manner, smiling at everything that was said, and went by without noticing\\nher. Then followed the Knave of Hearts, carrying the King’s crown on a crimson\\nvelvet cushion; and, last of all this grand procession, came the King and Queen of\\nHearts.\\nAlice was rather doubtful whether she ought not to lie down on her face like\\nthe three gardeners, but she could not remember ever having heard of such a rule\\nat processions; ‘and besides, what would be the use of a procession,’ thought she,'),\n",
       "  Document(metadata={'source': '/home/jovyan/work/data/pdf_alice/alice-in-wonderland.pdf', 'page': 47}, page_content='the three gardeners, but she could not remember ever having heard of such a rule\\nat processions; ‘and besides, what would be the use of a procession,’ thought she,\\n‘if people had all to lie down upon their faces, so that they couldn’t see it?’ So she\\nstood still where she was, and waited.\\nWhen the procession came opposite to Alice, they all stopped and looked at\\nher, and the Queen said severely ‘Who is this?’ she said it to the Knave of Hearts,\\nwho only bowed and smiled in reply.\\n‘Idiot!’ said the Queen, tossing her head impatiently; and, turning to Alice,\\nshe went on, ‘What’s your name, child?’\\n‘My name is Alice, so please your Majesty,’ said Alice very politely; but she\\nadded, to herself, ‘Why, they’re only a pack of cards, after all. I needn’t be afraid\\nof them!’\\n‘And who are these?’ said the Queen, pointing to the three gardeners who\\nwere lying round the rose-tree; for, you see, as they were lying on their faces'),\n",
       "  Document(metadata={'source': '/home/jovyan/work/data/pdf_alice/alice-in-wonderland.pdf', 'page': 47}, page_content='of them!’\\n‘And who are these?’ said the Queen, pointing to the three gardeners who\\nwere lying round the rose-tree; for, you see, as they were lying on their faces\\nand the pattern on their backs was the same as the rest of the pack, she could not\\ntell whether they were gardeners, or soldiers, or courtiers, or three of her own\\nchildren.\\n‘How should I know?’ said Alice, surprised at her own courage, ‘It’s no busi-\\nness of mine.’'),\n",
       "  Document(metadata={'source': '/home/jovyan/work/data/pdf_alice/alice-in-wonderland.pdf', 'page': 48}, page_content='CHAPTER VIII. THE QUEEN’S CROQUET-GROUND 48\\nThe Queen turned crimson with\\nfury, and, after glaring at her for a mo-\\nment like a wild beast, screamed ‘Off\\nwith her head! Off – ’\\n‘Nonsense!’ said Alice, very\\nloudly and decidedly, and the Queen\\nwas silent.\\nThe King laid his hand upon her\\narm and timidly said ‘Consider, my\\ndear: she is only a child!’\\nThe Queen turned angrily away\\nfrom him and said to the Knave ‘Turn\\nthem over!’\\nThe Knave did so, very carefully,\\nwith one foot.\\n‘Get up!’ said the Queen, in\\na shrill, loud voice, and the three gar-\\ndeners instantly jumped up and began\\nbowing to the King, the Queen, the royal children and everybody else.\\n‘Leave off that!’ screamed the Queen, ‘You make me giddy.’ And then, turn-\\ning to the rose-tree, she went on, ‘What have you been doing here?’\\n‘May it please your Majesty,’ said Two, in a very humble tone, going down on\\none knee as he spoke, ‘we were trying – ’\\n‘I see!’ said the Queen, who had meanwhile been examining the roses, ‘Off'),\n",
       "  Document(metadata={'source': '/home/jovyan/work/data/pdf_alice/alice-in-wonderland.pdf', 'page': 48}, page_content='‘May it please your Majesty,’ said Two, in a very humble tone, going down on\\none knee as he spoke, ‘we were trying – ’\\n‘I see!’ said the Queen, who had meanwhile been examining the roses, ‘Off\\nwith their heads!’ and the procession moved on, three of the soldiers remaining\\nbehind to execute the unfortunate gardeners, who ran to Alice for protection.\\n‘You shan’t be beheaded!’ said Alice, and she put them into a large ﬂower-pot\\nthat stood near. The three soldiers wandered about for a minute or two, looking\\nfor them, and then quietly marched off after the others.\\n‘Are their heads off?’ shouted the Queen.\\n‘Their heads are gone, if it please your Majesty!’ the soldiers shouted in reply.\\n‘That’s right!’ shouted the Queen, ‘Can you play croquet?’\\nThe soldiers were silent, and looked at Alice, as the question was evidently\\nmeant for her.\\n‘Yes!’ shouted Alice.\\n‘Come on, then!’ roared the Queen, and Alice joined the procession wonder-\\ning very much what would happen next.'),\n",
       "  Document(metadata={'source': '/home/jovyan/work/data/pdf_alice/alice-in-wonderland.pdf', 'page': 48}, page_content='meant for her.\\n‘Yes!’ shouted Alice.\\n‘Come on, then!’ roared the Queen, and Alice joined the procession wonder-\\ning very much what would happen next.\\n‘It’s – it’s a very ﬁne day!’ said a timid voice at her side. She was walking\\nby the White Rabbit, who was peeping anxiously into her face.\\n‘Very,’ said Alice, ‘ – where’s the Duchess?’'),\n",
       "  Document(metadata={'source': '/home/jovyan/work/data/pdf_alice/alice-in-wonderland.pdf', 'page': 49}, page_content='CHAPTER VIII. THE QUEEN’S CROQUET-GROUND 49\\n‘Hush! Hush!’ said the Rabbit in a low, hurried tone. He looked anxiously\\nover his shoulder as he spoke, and then raised himself upon tiptoe, put his mouth\\nclose to her ear and whispered ‘She’s under sentence of execution.’\\n‘What for?’ said Alice.\\n‘Did you say “What a pity!”?’ the Rabbit asked.\\n‘No, I didn’t,’ said Alice, ‘I don’t think it’s at all a pity. I said “What for?” ’\\n‘She boxed the Queen’s ears – ’ the Rabbit began. Alice gave a little scream\\nof laughter. ‘Oh, hush!’ the Rabbit whispered in a frightened tone, ‘The Queen\\nwill hear you! You see, she came rather late, and the Queen said – ’\\n‘Get to your places!’ shouted the Queen in a voice of thunder, and people\\nbegan running about in all directions, tumbling up against each other; however,\\nthey got settled down in a minute or two and the game began. Alice thought\\nshe had never seen such a curious croquet-ground in her life; it was all ridges\\nand furrows; the balls were live hedge-'),\n",
       "  Document(metadata={'source': '/home/jovyan/work/data/pdf_alice/alice-in-wonderland.pdf', 'page': 49}, page_content='they got settled down in a minute or two and the game began. Alice thought\\nshe had never seen such a curious croquet-ground in her life; it was all ridges\\nand furrows; the balls were live hedge-\\nhogs, the mallets live ﬂamingoes, and the\\nsoldiers had to double themselves up and\\nto stand on their hands and feet, to make\\nthe arches.\\nThe chief difﬁculty Alice found at\\nﬁrst was in managing her ﬂamingo; she\\nsucceeded in getting its body tucked\\naway, comfortably enough, under her\\narm, with its legs hanging down, but\\ngenerally, just as she had got its neck\\nnicely straightened out, and was going\\nto give the hedgehog a blow with its\\nhead, it would twist itself round and look\\nup in her face, with such a puzzled ex-\\npression that she could not help burst-\\ning out laughing; and when she had got\\nits head down and was going to begin\\nagain, it was very provoking to ﬁnd that\\nthe hedgehog had unrolled itself and was\\nin the act of crawling away; besides all this, there was generally a ridge or furrow'),\n",
       "  Document(metadata={'source': '/home/jovyan/work/data/pdf_alice/alice-in-wonderland.pdf', 'page': 49}, page_content='again, it was very provoking to ﬁnd that\\nthe hedgehog had unrolled itself and was\\nin the act of crawling away; besides all this, there was generally a ridge or furrow\\nin the way wherever she wanted to send the hedgehog to, and, as the doubled-up\\nsoldiers were always getting up and walking off to other parts of the ground, Alice\\nsoon came to the conclusion that it was a very difﬁcult game indeed.\\nThe players all played at once without waiting for turns, quarrelling all the\\nwhile and ﬁghting for the hedgehogs; and in a very short time the Queen was in\\na furious passion and went stamping about and shouting ‘Off with his head!’ or\\n‘Off with her head!’ about once in a minute.'),\n",
       "  Document(metadata={'source': '/home/jovyan/work/data/pdf_alice/alice-in-wonderland.pdf', 'page': 50}, page_content='CHAPTER VIII. THE QUEEN’S CROQUET-GROUND 50\\nAlice began to feel very uneasy; to be sure, she had not as yet had any dispute\\nwith the Queen, but she knew that it might happen any minute, ‘And then,’ thought\\nshe, ‘what would become of me? They’re dreadfully fond of beheading people\\nhere; the great wonder is, that there’s any one left alive!’\\nShe was looking about for some way of escape and wondering whether she\\ncould get away without being seen, when she noticed a curious appearance in the\\nair; it puzzled her very much at ﬁrst, but, after watching it a minute or two, she\\nmade it out to be a grin and she said to herself ‘It’s the Cheshire Cat; now I shall\\nhave somebody to talk to.’\\n‘How are you getting on?’ said the Cat, as soon as there was mouth enough\\nfor it to speak with.\\nAlice waited till the eyes appeared, and then nodded. ‘It’s no use speaking\\nto it,’ she thought, ‘till its ears have come, or at least one of them.’ In another'),\n",
       "  Document(metadata={'source': '/home/jovyan/work/data/pdf_alice/alice-in-wonderland.pdf', 'page': 50}, page_content='for it to speak with.\\nAlice waited till the eyes appeared, and then nodded. ‘It’s no use speaking\\nto it,’ she thought, ‘till its ears have come, or at least one of them.’ In another\\nminute the whole head appeared, and then Alice put down her ﬂamingo, and be-\\ngan an account of the game, feeling very glad she had someone to listen to her.\\nThe Cat seemed to think that there was enough of it now in sight, and no more of\\nit appeared.\\n‘I don’t think they play at all fairly,’ Alice began, in rather a complaining\\ntone, ‘and they all quarrel so dreadfully one can’t hear oneself speak – and they\\ndon’t seem to have any rules in particular; at least, if there are, nobody attends\\nto them – and you’ve no idea how confusing it is all the things being alive; for\\ninstance, there’s the arch I’ve got to go through next walking about at the other\\nend of the ground – and I should have croqueted the Queen’s hedgehog just now,\\nonly it ran away when it saw mine coming!’'),\n",
       "  Document(metadata={'source': '/home/jovyan/work/data/pdf_alice/alice-in-wonderland.pdf', 'page': 50}, page_content='end of the ground – and I should have croqueted the Queen’s hedgehog just now,\\nonly it ran away when it saw mine coming!’\\n‘How do you like the Queen?’ said the Cat in a low voice.\\n‘Not at all,’ said Alice, ‘she’s so extremely – ’ Just then she noticed that the\\nQueen was close behind her, listening; so she went on, ‘ – likely to win, that it’s\\nhardly worth while ﬁnishing the game.’\\nThe Queen smiled and passed on.\\n‘Whoare you talking to?’ said the King, going up to Alice and looking at the\\nCat’s head with great curiosity.\\n‘It’s a friend of mine – a Cheshire Cat,’ said Alice, ‘allow me to introduce it.’\\n‘I don’t like the look of it at all,’ said the King, ‘however, it may kiss my hand\\nif it likes.’\\n‘I’d rather not,’ the Cat remarked.\\n‘Don’t be impertinent,’ said the King, ‘and don’t look at me like that!’ He got\\nbehind Alice as he spoke.\\n‘A cat may look at a king,’ said Alice, ‘I’ve read that in some book, but I don’t\\nremember where.’'),\n",
       "  Document(metadata={'source': '/home/jovyan/work/data/pdf_alice/alice-in-wonderland.pdf', 'page': 51}, page_content='CHAPTER VIII. THE QUEEN’S CROQUET-GROUND 51\\n‘Well, it must be removed,’ said the King very decidedly and he called the\\nQueen, who was passing at the moment, ‘My dear! I wish you would have this cat\\nremoved!’\\nThe Queen had only one way of settling all difﬁculties, great or small. ‘Off\\nwith his head!’ she said without even looking round.\\n‘I’ll fetch the executioner myself,’ said the King eagerly and he hurried off.\\nAlice thought she might as well go back and see how the game was going on,\\nas she heard the Queen’s voice in the distance, screaming with passion. She had\\nalready heard her sentence three of the players to be executed for having missed\\ntheir turns and she did not like the look of things at all, as the game was in such\\nconfusion that she never knew whether it was her turn or not. So she went in\\nsearch of her hedgehog.\\nThe hedgehog was engaged in a ﬁght with another hedgehog, which seemed to\\nAlice an excellent opportunity for croqueting one of them with the other; the only'),\n",
       "  Document(metadata={'source': '/home/jovyan/work/data/pdf_alice/alice-in-wonderland.pdf', 'page': 51}, page_content='search of her hedgehog.\\nThe hedgehog was engaged in a ﬁght with another hedgehog, which seemed to\\nAlice an excellent opportunity for croqueting one of them with the other; the only\\ndifﬁculty was, that her ﬂamingo was gone across to the other side of the garden,\\nwhere Alice could see it trying in a helpless sort of way to ﬂy up into a tree.\\nBy the time she had caught the ﬂamingo and brought it back, the ﬁght was\\nover, and both the hedgehogs were out of sight; ‘But it doesn’t matter much,’\\nthought Alice, ‘as all the arches are gone from this side of the ground.’ So she\\ntucked it away under her arm, that\\nit might not escape again, and went\\nback for a little more conversation\\nwith her friend.\\nWhen she got back to the Cheshire\\nCat, she was surprised to ﬁnd quite\\na large crowd collected round it; there\\nwas a dispute going on between the\\nexecutioner, the King and the Queen,\\nwho were all talking at once, while all\\nthe rest were quite silent, and looked\\nvery uncomfortable.'),\n",
       "  Document(metadata={'source': '/home/jovyan/work/data/pdf_alice/alice-in-wonderland.pdf', 'page': 51}, page_content='was a dispute going on between the\\nexecutioner, the King and the Queen,\\nwho were all talking at once, while all\\nthe rest were quite silent, and looked\\nvery uncomfortable.\\nThe moment Alice appeared, she\\nwas appealed to by all three to settle\\nthe question, and they repeated their\\narguments to her, though, as they all\\nspoke at once, she found it very hard\\nindeed to make out exactly what they\\nsaid.\\nThe executioner’s argument was, that you couldn’t cut off a head unless there\\nwas a body to cut it off from; that he had never had to do such a thing before and\\nhe wasn’t going to begin at his time of life.'),\n",
       "  Document(metadata={'source': '/home/jovyan/work/data/pdf_alice/alice-in-wonderland.pdf', 'page': 52}, page_content='CHAPTER VIII. THE QUEEN’S CROQUET-GROUND 52\\nThe King’s argument was, that anything that had a head could be beheaded\\nand that you weren’t to talk nonsense.\\nThe Queen’s argument was, that if something wasn’t done about it in less than\\nno time she’d have everybody executed, all round. (It was this last remark that\\nhad made the whole party look so grave and anxious.)\\nAlice could think of nothing else to say but ‘It belongs to the Duchess; you’d\\nbetter ask her about it.’\\n‘She’s in prison,’ the Queen said to the executioner, ‘fetch her here.’ And the\\nexecutioner went off like an arrow.\\nThe Cat’s head began fading away the moment he was gone, and, by the time\\nhe had come back with the Duchess, it had entirely disappeared; so the King and\\nthe executioner ran wildly up and down looking for it, while the rest of the party\\nwent back to the game.'),\n",
       "  Document(metadata={'source': '/home/jovyan/work/data/pdf_alice/alice-in-wonderland.pdf', 'page': 53}, page_content='Chapter IX\\nThe Mock Turtle’s Story\\n‘You can’t think how glad I am to see\\nyou again, you dear old thing!’ said\\nthe Duchess, as she tucked her arm\\naffectionately into Alice’s and they\\nwalked off together.\\nAlice was very glad to ﬁnd her in\\nsuch a pleasant temper and thought to\\nherself that perhaps it was only the\\npepper that had made her so savage\\nwhen they met in the kitchen.\\n‘WhenI’ma Duchess,’ she said to\\nherself, (not in a very hopeful tone\\nthough), ‘I won’t have any pepper\\nin my kitchen at all . Soup does\\nvery well without – Maybe it’s al-\\nways pepper that makes people hot-\\ntempered,’ she went on, very much\\npleased at having found out a new\\nkind of rule, ‘and vinegar that makes\\nthem sour – and camomile that\\nmakes them bitter – and – and barley-sugar and such things that make children\\nsweet-tempered. I only wish people knew that: then they wouldn’t be so stingy\\nabout it, you know – ’\\nShe had quite forgotten the Duchess by this time and was a little startled when'),\n",
       "  Document(metadata={'source': '/home/jovyan/work/data/pdf_alice/alice-in-wonderland.pdf', 'page': 53}, page_content='sweet-tempered. I only wish people knew that: then they wouldn’t be so stingy\\nabout it, you know – ’\\nShe had quite forgotten the Duchess by this time and was a little startled when\\nshe heard her voice close to her ear. ‘You’re thinking about something, my dear,\\nand that makes you forget to talk. I can’t tell you just now what the moral of that\\nis, but I shall remember it in a bit.’\\n‘Perhaps it hasn’t one,’ Alice ventured to remark.\\n53'),\n",
       "  Document(metadata={'source': '/home/jovyan/work/data/pdf_alice/alice-in-wonderland.pdf', 'page': 54}, page_content='CHAPTER IX. THE MOCK TURTLE’S STORY 54\\n‘Tut, tut, child!’ said the Duchess, ‘Everything’s got a moral, if only you can\\nﬁnd it.’ And she squeezed herself up closer to Alice’s side as she spoke.\\nAlice did not much like keeping so close to her: ﬁrst, because the Duchess was\\nvery ugly; and secondly, because she was exactly the right height to rest her chin\\nupon Alice’s shoulder, and it was an uncomfortably sharp chin. However, she did\\nnot like to be rude, so she bore it as well as she could.\\n‘The game’s going on rather better now,’ she said, by way of keeping up the\\nconversation a little.\\n‘ ’Tis so,’ said the Duchess, ‘and the moral of that is – “Oh, ’tis love, ’tis love,\\nthat makes the world go round!” ’\\n‘Somebody said,’ Alice whispered, ‘that it’s done by everybody minding their\\nown business!’\\n‘Ah, well! It means much the same thing,’ said the Duchess, digging her sharp\\nlittle chin into Alice’s shoulder as she added, ‘and the moral of that is – “Take'),\n",
       "  Document(metadata={'source': '/home/jovyan/work/data/pdf_alice/alice-in-wonderland.pdf', 'page': 54}, page_content='own business!’\\n‘Ah, well! It means much the same thing,’ said the Duchess, digging her sharp\\nlittle chin into Alice’s shoulder as she added, ‘and the moral of that is – “Take\\ncare of the sense and the sounds will take care of themselves.” ’\\n‘How fond she is of ﬁnding morals in things!’ Alice thought to herself.\\n‘I dare say you’re wondering why I don’t put my arm round your waist,’ the\\nDuchess said after a pause, ‘the reason is, that I’m doubtful about the temper of\\nyour ﬂamingo. Shall I try the experiment?’\\n‘He might bite,’ Alice cautiously replied, not feeling at all anxious to have the\\nexperiment tried.\\n‘Very true,’ said the Duchess, ‘ﬂamingoes and mustard both bite. And the\\nmoral of that is – “Birds of a feather ﬂock together.” ’\\n‘Only mustard isn’t a bird,’ Alice remarked.\\n‘Right, as usual,’ said the Duchess, ‘what a clear way you have of putting\\nthings!’\\n‘It’s a mineral, I think,’ said Alice.\\n‘Of course it is,’ said the Duchess, who seemed ready to agree to everything'),\n",
       "  Document(metadata={'source': '/home/jovyan/work/data/pdf_alice/alice-in-wonderland.pdf', 'page': 54}, page_content='‘Right, as usual,’ said the Duchess, ‘what a clear way you have of putting\\nthings!’\\n‘It’s a mineral, I think,’ said Alice.\\n‘Of course it is,’ said the Duchess, who seemed ready to agree to everything\\nthat Alice said, ‘there’s a large mustard-mine near here. And the moral of that\\nis – “The more there is of mine, the less there is of yours.” ’\\n‘Oh, I know!’ exclaimed Alice, who had not attended to this last remark, ‘it’s\\na vegetable. It doesn’t look like one, but it is.’\\n‘I quite agree with you,’ said the Duchess, ‘and the moral of that is – “Be what\\nyou would seem to be” – or if you’d like it put more simply – “Never imagine\\nyourself not to be otherwise than what it might appear to others that what you\\nwere or might have been was not otherwise than what you had been would have\\nappeared to them to be otherwise.” ’\\n‘I think I should understand that better,’ Alice said very politely, ‘if I had it\\nwritten down; but I can’t quite follow it as you say it.’'),\n",
       "  Document(metadata={'source': '/home/jovyan/work/data/pdf_alice/alice-in-wonderland.pdf', 'page': 54}, page_content='appeared to them to be otherwise.” ’\\n‘I think I should understand that better,’ Alice said very politely, ‘if I had it\\nwritten down; but I can’t quite follow it as you say it.’\\n‘That’s nothing to what I could say if I chose,’ the Duchess replied in a pleased\\ntone.'),\n",
       "  Document(metadata={'source': '/home/jovyan/work/data/pdf_alice/alice-in-wonderland.pdf', 'page': 55}, page_content='CHAPTER IX. THE MOCK TURTLE’S STORY 55\\n‘Pray don’t trouble yourself to say it any longer than that,’ said Alice.\\n‘Oh, don’t talk about trouble!’ said the Duchess, ‘I make you a present of\\neverything I’ve said as yet.’\\n‘A cheap sort of present!’ thought Alice, ‘I’m glad they don’t give birthday\\npresents like that!’ But she did not venture to say it out loud.\\n‘Thinking again?’ the Duchess asked with another dig of her sharp little chin.\\n‘I’ve a right to think,’ said Alice sharply, for she was beginning to feel a little\\nworried.\\n‘Just about as much right,’ said the Duchess, ‘as pigs have to ﬂy; and the m – ’\\nBut here, to Alice’s great surprise, the Duchess’s voice died away, even in the\\nmiddle of her favourite word ‘moral,’ and the arm that was linked into hers began\\nto tremble. Alice looked up, and there stood the Queen in front of them, with her\\narms folded, frowning like a thunderstorm.\\n‘A ﬁne day, your Majesty!’ the Duchess began in a low, weak voice.'),\n",
       "  Document(metadata={'source': '/home/jovyan/work/data/pdf_alice/alice-in-wonderland.pdf', 'page': 55}, page_content='to tremble. Alice looked up, and there stood the Queen in front of them, with her\\narms folded, frowning like a thunderstorm.\\n‘A ﬁne day, your Majesty!’ the Duchess began in a low, weak voice.\\n‘Now, I give you fair warning,’ shouted the Queen, stamping on the ground as\\nshe spoke, ‘either you or your head must be off, and that in about half no time!\\nTake your choice!’\\nThe Duchess took her choice and was gone in a moment.\\n‘Let’s go on with the game,’ the Queen said to Alice; and Alice was too much\\nfrightened to say a word, but slowly followed her back to the croquet-ground.\\nThe other guests had taken advantage of the Queen’s absence, and were resting\\nin the shade; however, the moment they saw her, they hurried back to the game,\\nthe Queen merely remarking that a moment’s delay would cost them their lives.\\nAll the time they were playing the Queen never left off quarrelling with the\\nother players and shouting ‘Off with his head!’ or ‘Off with her head!’ Those'),\n",
       "  Document(metadata={'source': '/home/jovyan/work/data/pdf_alice/alice-in-wonderland.pdf', 'page': 55}, page_content='All the time they were playing the Queen never left off quarrelling with the\\nother players and shouting ‘Off with his head!’ or ‘Off with her head!’ Those\\nwhom she sentenced were taken into custody by the soldiers, who of course had\\nto leave off being arches to do this, so that by the end of half an hour or so there\\nwere no arches left and all the players, except the King, the Queen, and Alice,\\nwere in custody and under sentence of execution.\\nThen the Queen left off, quite out of breath, and said to Alice, ‘Have you seen\\nthe Mock Turtle yet?’\\n‘No,’ said Alice, ‘I don’t even know what a Mock Turtle is.’\\n‘It’s the thing Mock Turtle Soup is made from,’ said the Queen.\\n‘I never saw one or heard of one,’ said Alice.\\n‘Come on, then,’ said the Queen, ‘and he shall tell you his history,’\\nAs they walked off together, Alice heard the King say in a low voice to the\\ncompany generally, ‘You are all pardoned.’ ‘Come, that’sa good thing!’ she said'),\n",
       "  Document(metadata={'source': '/home/jovyan/work/data/pdf_alice/alice-in-wonderland.pdf', 'page': 55}, page_content='As they walked off together, Alice heard the King say in a low voice to the\\ncompany generally, ‘You are all pardoned.’ ‘Come, that’sa good thing!’ she said\\nto herself, for she had felt quite unhappy at the number of executions the Queen\\nhad ordered.\\nThey very soon came upon a Gryphon, lying fast asleep in the sun. ( if you\\ndon’t know what a Gryphon is, look at the picture.) ‘Up, lazy thing!’ said'),\n",
       "  Document(metadata={'source': '/home/jovyan/work/data/pdf_alice/alice-in-wonderland.pdf', 'page': 56}, page_content='CHAPTER IX. THE MOCK TURTLE’S STORY 56\\nthe Queen, ‘and take this young lady\\nto see the Mock Turtle and to hear his\\nhistory. I must go back and see after\\nsome executions I have ordered’; and\\nshe walked off, leaving Alice alone\\nwith the Gryphon. Alice did not quite\\nlike the look of the creature, but on the\\nwhole she thought it would be quite as\\nsafe to stay with it as to go after that\\nsavage Queen; so she waited.\\nThe Gryphon sat up and rubbed its eyes; then it watched the Queen till she\\nwas out of sight; then it chuckled. ‘What fun!’ said the Gryphon, half to itself,\\nhalf to Alice.\\n‘Whatis the fun?’ said Alice.\\n‘Why, she,’ said the Gryphon, ‘It’s all her fancy, that; they never executes\\nnobody, you know. Come on!’\\n‘Everybody says “come on!” here,’ thought Alice, as she went slowly after it,\\n‘I never was so ordered about in all my life, never!’\\nThey had not gone far before they saw the Mock Turtle in the distance, sitting'),\n",
       "  Document(metadata={'source': '/home/jovyan/work/data/pdf_alice/alice-in-wonderland.pdf', 'page': 56}, page_content='‘I never was so ordered about in all my life, never!’\\nThey had not gone far before they saw the Mock Turtle in the distance, sitting\\nsad and lonely on a little ledge of rock, and, as they came nearer, Alice could\\nhear him sighing as if his heart\\nwould break. She pitied him deeply.\\n‘What is his sorrow?’ she asked the\\nGryphon, and the Gryphon answered,\\nvery nearly in the same words as be-\\nfore, ‘It’s all his fancy, that; he hasn’t\\ngot no sorrow, you know. Come on!’\\nSo they went up to the Mock Tur-\\ntle, who looked at them with large\\neyes full of tears, but said nothing.\\n‘This here young lady,’ said the\\nGryphon, ‘she wants for to know your\\nhistory, she do.’\\n‘I’ll tell it her,’ said the Mock Tur-\\ntle in a deep, hollow tone, ‘sit down,\\nboth of you, and don’t speak a word\\ntill I’ve ﬁnished.’\\nSo they sat down, and nobody spoke for some minutes. Alice thought to her-\\nself, ‘I don’t see how he can even ﬁnish, if he doesn’t begin.’ But she waited\\npatiently.'),\n",
       "  Document(metadata={'source': '/home/jovyan/work/data/pdf_alice/alice-in-wonderland.pdf', 'page': 56}, page_content='till I’ve ﬁnished.’\\nSo they sat down, and nobody spoke for some minutes. Alice thought to her-\\nself, ‘I don’t see how he can even ﬁnish, if he doesn’t begin.’ But she waited\\npatiently.\\n‘Once,’ said the Mock Turtle at last, with a deep sigh, ‘I was a real Turtle.’'),\n",
       "  Document(metadata={'source': '/home/jovyan/work/data/pdf_alice/alice-in-wonderland.pdf', 'page': 57}, page_content='CHAPTER IX. THE MOCK TURTLE’S STORY 57\\nThese words were followed by a very long silence, broken only by an occa-\\nsional exclamation of ‘Hjckrrh!’ from the Gryphon and the constant heavy sob-\\nbing of the Mock Turtle. Alice was very nearly getting up and saying, ‘Thank\\nyou, sir, for your interesting story,’ but she could not help thinking there must be\\nmore to come, so she sat still and said nothing.\\n‘When we were little,’ the Mock Turtle went on at last, more calmly, though\\nstill sobbing a little now and then, ‘we went to school in the sea. The master was\\nan old Turtle – we used to call him Tortoise – ’\\n‘Why did you call him Tortoise, if he wasn’t one?’ Alice asked.\\n‘We called him Tortoise because he taught us,’ said the Mock Turtle angrily,\\n‘really you are very dull!’\\n‘You ought to be ashamed of yourself for asking such a simple question,’\\nadded the Gryphon; and then they both sat silent and looked at poor Alice, who'),\n",
       "  Document(metadata={'source': '/home/jovyan/work/data/pdf_alice/alice-in-wonderland.pdf', 'page': 57}, page_content='‘really you are very dull!’\\n‘You ought to be ashamed of yourself for asking such a simple question,’\\nadded the Gryphon; and then they both sat silent and looked at poor Alice, who\\nfelt ready to sink into the earth. At last the Gryphon said to the Mock Turtle,\\n‘Drive on, old fellow! Don’t be all day about it!’ and he went on in these words:\\n‘Yes, we went to school in the sea, though you mayn’t believe it – ’\\n‘I never said I didn’t!’ interrupted Alice.\\n‘You did,’ said the Mock Turtle.\\n‘Hold your tongue!’ added the Gryphon, before Alice could speak again. The\\nMock Turtle went on.\\n‘We had the best of educations – in fact, we went to school every day – ’\\n‘I’ve been to a day-school, too,’ said Alice, ‘you needn’t be so proud as all\\nthat.’\\n‘With extras?’ asked the Mock Turtle a little anxiously.\\n‘Yes,’ said Alice, ‘we learned French and music.’\\n‘And washing?’ said the Mock Turtle.\\n‘Certainly not!’ said Alice indignantly.'),\n",
       "  Document(metadata={'source': '/home/jovyan/work/data/pdf_alice/alice-in-wonderland.pdf', 'page': 57}, page_content='that.’\\n‘With extras?’ asked the Mock Turtle a little anxiously.\\n‘Yes,’ said Alice, ‘we learned French and music.’\\n‘And washing?’ said the Mock Turtle.\\n‘Certainly not!’ said Alice indignantly.\\n‘Ah! then yours wasn’t a really good school,’ said the Mock Turtle in a tone\\nof great relief, ‘Now at ours they had at the end of the bill, “French, music, and\\nwashing – extra.” ’\\n‘You couldn’t have wanted it much,’ said Alice, ‘living at the bottom of the\\nsea.’\\n‘I couldn’t afford to learn it.’ said the Mock Turtle with a sigh, ‘I only took\\nthe regular course.’\\n‘What was that?’ inquired Alice.\\n‘Reeling and Writhing, of course, to begin with,’ the Mock Turtle replied, ‘and\\nthen the different branches of Arithmetic – Ambition, Distraction, Ugliﬁcation,\\nand Derision.’\\n‘I never heard of “Ugliﬁcation,” ’ Alice ventured to say, ‘What is it?’\\nThe Gryphon lifted up both its paws in surprise. ‘What! Never heard of ugli-\\nfying!’ it exclaimed, ‘You know what to beautify is, I suppose?’'),\n",
       "  Document(metadata={'source': '/home/jovyan/work/data/pdf_alice/alice-in-wonderland.pdf', 'page': 58}, page_content='CHAPTER IX. THE MOCK TURTLE’S STORY 58\\n‘Yes,’ said Alice doubtfully, ‘it means – to – make – anything – prettier.’\\n‘Well, then,’ the Gryphon went on, ‘if you don’t know what to uglify is, you\\nare a simpleton.’\\nAlice did not feel encouraged to ask any more questions about it, so she turned\\nto the Mock Turtle and said, ‘What else had you to learn?’\\n‘Well, there was Mystery,’ the Mock Turtle replied, counting off the subjects\\non his ﬂappers, ‘ – Mystery, ancient and modern, with Seaography; then Drawl-\\ning – the Drawling-master was an old conger-eel, that used to come once a week;\\nhe taught us Drawling, Stretching, and Fainting in Coils.’\\n‘What was that like?’ said Alice.\\n‘Well, I can’t show it you myself,’ the Mock Turtle said, ‘I’m too stiff. And\\nthe Gryphon never learnt it.’\\n‘Hadn’t time,’ said the Gryphon, ‘I went to the Classics master, though. He\\nwas an old crab, he was.’\\n‘I never went to him,’ the Mock Turtle said with a sigh, ‘he taught Laughing\\nand Grief, they used to say.’'),\n",
       "  Document(metadata={'source': '/home/jovyan/work/data/pdf_alice/alice-in-wonderland.pdf', 'page': 58}, page_content='was an old crab, he was.’\\n‘I never went to him,’ the Mock Turtle said with a sigh, ‘he taught Laughing\\nand Grief, they used to say.’\\n‘So he did, so he did,’ said the Gryphon, sighing in his turn; and both creatures\\nhid their faces in their paws.\\n‘And how many hours a day did you do lessons?’ said Alice in a hurry to\\nchange the subject.\\n‘Ten hours the ﬁrst day,’ said the Mock Turtle, ‘nine the next, and so on.’\\n‘What a curious plan!’ exclaimed Alice.\\n‘That’s the reason they’re called lessons,’ the Gryphon remarked, ‘because\\nthey lessen from day to day.’\\nThis was quite a new idea to Alice and she thought it over a little before she\\nmade her next remark, ‘Then the eleventh day must have been a holiday?’\\n‘Of course it was,’ said the Mock Turtle.\\n‘And how did you manage on the twelfth?’ Alice went on eagerly.\\n‘That’s enough about lessons,’ the Gryphon interrupted in a very decided tone,\\n‘tell her something about the games now.’'),\n",
       "  Document(metadata={'source': '/home/jovyan/work/data/pdf_alice/alice-in-wonderland.pdf', 'page': 59}, page_content='Chapter X\\nThe Lobster Quadrille\\nThe Mock Turtle sighed deeply, and drew the back of one ﬂapper across his eyes.\\nHe looked at Alice and tried to speak, but for a minute or two sobs choked his\\nvoice. ‘Same as if he had a bone in his throat,’ said the Gryphon; and it set to work\\nshaking him and punching him in the back. At last the Mock Turtle recovered his\\nvoice, and, with tears running down his cheeks, he went on again:\\n‘You may not have lived much under the sea – ’ (‘I haven’t,’ said Alice) – ‘and\\nperhaps you were never even introduced to a lobster – ’ (Alice began to say ‘I once\\ntasted – ’ but checked herself hastily, and said ‘No, never’) ‘ – so you can have no\\nidea what a delightful thing a Lobster Quadrille is!’\\n‘No, indeed,’ said Alice, ‘What sort of a dance is it?’\\n‘Why,’ said the Gryphon, ‘you ﬁrst form into a line along the sea-shore – ’\\n‘Two lines!’ cried the Mock Turtle, ‘Seals, turtles, salmon, and so on; then,\\nwhen you’ve cleared all the jelly-ﬁsh out of the way – ’'),\n",
       "  Document(metadata={'source': '/home/jovyan/work/data/pdf_alice/alice-in-wonderland.pdf', 'page': 59}, page_content='‘Two lines!’ cried the Mock Turtle, ‘Seals, turtles, salmon, and so on; then,\\nwhen you’ve cleared all the jelly-ﬁsh out of the way – ’\\n‘That generally takes some time,’ interrupted the Gryphon.\\n‘ – you advance twice – ’\\n‘Each with a lobster as a partner!’ cried the Gryphon.\\n‘Of course,’ the Mock Turtle said, ‘advance twice, set to partners – ’\\n‘ – change lobsters, and retire in same order,’ continued the Gryphon.\\n‘Then, you know,’ the Mock Turtle went on, ‘you throw the – ’\\n‘The lobsters!’ shouted the Gryphon, with a bound into the air.\\n‘ – as far out to sea as you can – ’\\n‘Swim after them!’ screamed the Gryphon.\\n‘Turn a somersault in the sea!’ cried the Mock Turtle, capering wildly about.\\n‘Change lobsters again!’ yelled the Gryphon at the top of its voice.\\n‘Back to land again and that’s all the ﬁrst ﬁgure,’ said the Mock Turtle, sud-\\ndenly dropping his voice; and the two creatures, who had been jumping about like'),\n",
       "  Document(metadata={'source': '/home/jovyan/work/data/pdf_alice/alice-in-wonderland.pdf', 'page': 59}, page_content='‘Back to land again and that’s all the ﬁrst ﬁgure,’ said the Mock Turtle, sud-\\ndenly dropping his voice; and the two creatures, who had been jumping about like\\nmad things all this time, sat down again very sadly and quietly and looked at Alice.\\n‘It must be a very pretty dance,’ said Alice timidly.\\n59'),\n",
       "  Document(metadata={'source': '/home/jovyan/work/data/pdf_alice/alice-in-wonderland.pdf', 'page': 60}, page_content='CHAPTER X. THE LOBSTER QUADRILLE 60\\n‘Would you like to see a little of it?’ said the Mock Turtle.\\n‘Very much indeed,’ said Alice.\\n‘Come, let’s try the ﬁrst ﬁgure!’ said the Mock Turtle to the Gryphon, ‘We\\ncan do without lobsters, you know. Which shall sing?’\\n‘Oh,you sing,’ said the Gryphon, ‘I’ve forgotten the words.’\\nSo they began solemnly dancing round and round Alice, every now and then\\ntreading on her toes when they passed too close and waving their forepaws to\\nmark the time, while the Mock Turtle sang this, very slowly and sadly:\\n‘ “Will you walk a little faster?” said a whiting to a snail.\\n“There’s a porpoise close behind us and he’s treading on my tail.\\nSee how eagerly the lobsters and the turtles all advance!\\nThey are waiting on the shingle – will you come and join the dance?\\nWill you, won’t you, will you, won’t you, will you join the dance?\\nWill you, won’t you, will you, won’t you, won’t you join the dance?\\n“You can really have no notion how delightful it will be'),\n",
       "  Document(metadata={'source': '/home/jovyan/work/data/pdf_alice/alice-in-wonderland.pdf', 'page': 60}, page_content='Will you, won’t you, will you, won’t you, will you join the dance?\\nWill you, won’t you, will you, won’t you, won’t you join the dance?\\n“You can really have no notion how delightful it will be\\nWhen they take us up and throw us, with the lobsters, out to sea!”\\nBut the snail replied “Too far, too far!” and gave a look askance –\\nSaid he thanked the whiting kindly, but he would not join the dance.\\nWould not, could not, would not, could not, would not join the dance.\\nWould not, could not, would not, could not, could not join the dance.\\n‘ “What matters it how far we go?” his scaly friend replied.\\n“There is another shore, you know, upon the other side.'),\n",
       "  Document(metadata={'source': '/home/jovyan/work/data/pdf_alice/alice-in-wonderland.pdf', 'page': 61}, page_content='CHAPTER X. THE LOBSTER QUADRILLE 61\\nThe further off from England the nearer is to France –\\nThen turn not pale, beloved snail, but come and join the dance.\\nWill you, won’t you, will you, won’t you, will you join the dance?\\nWill you, won’t you, will you, won’t you, won’t you join the dance?” ’\\n‘Thank you, it’s a very interesting dance to watch,’ said Alice, feeling very\\nglad that it was over at last, ‘and I do so like that curious song about the whiting!’\\n‘Oh, as to the whiting,’ said the Mock Turtle, ‘they – you’ve seen them, of\\ncourse?’\\n‘Yes,’ said Alice, ‘I’ve often seen them at dinn – ’ she checked herself hastily.\\n‘I don’t know where Dinn may be,’ said the Mock Turtle, ‘but if you’ve seen\\nthem so often, of course you know what they’re like.’\\n‘I believe so,’ Alice replied thoughtfully, ‘They have their tails in their mouths –\\nand they’re all over crumbs.’\\n‘You’re wrong about the crumbs,’ said the Mock Turtle, ‘crumbs would all'),\n",
       "  Document(metadata={'source': '/home/jovyan/work/data/pdf_alice/alice-in-wonderland.pdf', 'page': 61}, page_content='‘I believe so,’ Alice replied thoughtfully, ‘They have their tails in their mouths –\\nand they’re all over crumbs.’\\n‘You’re wrong about the crumbs,’ said the Mock Turtle, ‘crumbs would all\\nwash off in the sea. But they have their tails in their mouths; and the reason is – ’\\nhere the Mock Turtle yawned and shut his eyes. ‘Tell her about the reason and all\\nthat,’ he said to the Gryphon.\\n‘The reason is,’ said the Gryphon, ‘that they would go with the lobsters to the\\ndance. So they got thrown out to sea. So they had to fall a long way. So they got\\ntheir tails fast in their mouths. So they couldn’t get them out again. That’s all.’\\n‘Thank you,’ said Alice, ‘it’s very interesting. I never knew so much about\\na whiting before.’\\n‘I can tell you more than that, if you like,’ said the Gryphon, ‘Do you know\\nwhy it’s called a whiting?’\\n‘I never thought about it,’ said Alice, ‘Why?’\\n‘It does the boots and shoes .’ the Gryphon replied very solemnly.'),\n",
       "  Document(metadata={'source': '/home/jovyan/work/data/pdf_alice/alice-in-wonderland.pdf', 'page': 61}, page_content='why it’s called a whiting?’\\n‘I never thought about it,’ said Alice, ‘Why?’\\n‘It does the boots and shoes .’ the Gryphon replied very solemnly.\\nAlice was thoroughly puzzled. ‘Does the boots and shoes!’ she repeated in\\na wondering tone.\\n‘Why, what are your shoes done with?’ said the Gryphon, ‘I mean, what\\nmakes them so shiny?’\\nAlice looked down at them and considered a little before she gave her answer.\\n‘They’re done with blacking, I believe.’\\n‘Boots and shoes under the sea,’ the Gryphon went on in a deep voice, ‘are\\ndone with a whiting. Now you know.’\\n‘And what are they made of?’ Alice asked in a tone of great curiosity.\\n‘Soles and eels, of course,’ the Gryphon replied rather impatiently, ‘any shrimp\\ncould have told you that.’\\n‘If I’d been the whiting,’ said Alice, whose thoughts were still running on\\nthe song, ‘I’d have said to the porpoise, “Keep back, please: we don’t want you\\nwith us!” ’'),\n",
       "  Document(metadata={'source': '/home/jovyan/work/data/pdf_alice/alice-in-wonderland.pdf', 'page': 62}, page_content='CHAPTER X. THE LOBSTER QUADRILLE 62\\n‘They were obliged to have him with them,’ the Mock Turtle said, ‘no wise\\nﬁsh would go anywhere without a porpoise.’\\n‘Wouldn’t it really?’ said Alice in a tone of great surprise.\\n‘Of course not,’ said the Mock Turtle, ‘why, if a ﬁsh came to me and told me\\nhe was going a journey, I should say “With what porpoise?” ’\\n‘Don’t you mean “purpose”?’ said Alice.\\n‘I mean what I say,’ the Mock Turtle replied in an offended tone. And the\\nGryphon added ‘Come, let’s hear some of your adventures.’\\n‘I could tell you my adventures – beginning from this morning,’ said Alice\\na little timidly, ‘but it’s no use going back to yesterday, because I was a different\\nperson then.’\\n‘Explain all that,’ said the Mock Turtle.\\n‘No, no! The adventures ﬁrst,’ said the Gryphon in an impatient tone, ‘expla-\\nnations take such a dreadful time.’\\nSo Alice began telling them her adventures from the time when she ﬁrst saw'),\n",
       "  Document(metadata={'source': '/home/jovyan/work/data/pdf_alice/alice-in-wonderland.pdf', 'page': 62}, page_content='‘No, no! The adventures ﬁrst,’ said the Gryphon in an impatient tone, ‘expla-\\nnations take such a dreadful time.’\\nSo Alice began telling them her adventures from the time when she ﬁrst saw\\nthe White Rabbit. She was a little nervous about it just at ﬁrst, the two creatures\\ngot so close to her, one on each side, and opened their eyes and mouths so very\\nwide, but she gained courage as she went on. Her listeners were perfectly quiet\\ntill she got to the part about her repeating ‘Y OU ARE OLD, F ATHER WILLIAM ,’\\nto the Caterpillar and the words all coming different, and then the Mock Turtle\\ndrew a long breath, and said ‘That’s very curious.’\\n‘It’s all about as curious as it can be,’ said the Gryphon.\\n‘It all came different!’ the Mock Turtle repeated thoughtfully, ‘I should like\\nto hear her try and repeat something now. Tell her to begin.’ He looked at the\\nGryphon as if he thought it had some kind of authority over Alice.\\n‘Stand up and repeat “ ’T IS THE VOICE OF THE SLUGGARD ,” ’ said the'),\n",
       "  Document(metadata={'source': '/home/jovyan/work/data/pdf_alice/alice-in-wonderland.pdf', 'page': 62}, page_content='Gryphon as if he thought it had some kind of authority over Alice.\\n‘Stand up and repeat “ ’T IS THE VOICE OF THE SLUGGARD ,” ’ said the\\nGryphon.\\n‘How the creatures order one about, and make one repeat lessons!’ thought\\nAlice, ‘I might as well be at school at once.’ However, she got up, and began to\\nrepeat it, but her head was so full of the Lobster Quadrille, that she hardly knew\\nwhat she was saying and the words came very queer indeed:\\n‘ ’Tis the voice of the Lobster; I heard him declare,\\n“You have baked me too brown, I must sugar my hair.”\\nAs a duck with its eyelids, so he with his nose\\nTrims his belt and his buttons, and turns out his toes.’\\nWhen the sands are all dry, he is gay as a lark,\\nAnd will talk in contemptuous tones of the Shark,\\nBut, when the tide rises and sharks are around,\\nHis voice has a timid and tremulous sound.'),\n",
       "  Document(metadata={'source': '/home/jovyan/work/data/pdf_alice/alice-in-wonderland.pdf', 'page': 63}, page_content='CHAPTER X. THE LOBSTER QUADRILLE 63\\n‘That’s different from what I used to say when\\nI was a child,’ said the Gryphon.\\n‘Well, I never heard it before,’ said the Mock\\nTurtle, ‘but it sounds uncommon nonsense.’\\nAlice said nothing; she had sat down with her\\nface in her hands, wondering if anything would\\never happen in a natural way again.\\n‘I should like to have it explained,’ said the\\nMock Turtle.\\n‘She can’t explain it,’ said the Gryphon\\nhastily, ‘Go on with the next verse.’\\n‘But about his toes?’ the Mock Turtle per-\\nsisted, ‘Howcould he turn them out with his nose,\\nyou know?’\\n‘It’s the ﬁrst position in dancing.’ Alice said;\\nbut was dreadfully puzzled by the whole thing,\\nand longed to change the subject.\\n‘Go on with the next verse,’ the Gryphon repeated impatiently, ‘it begins\\n“I PASSED BY HIS GARDEN .” ’\\nAlice did not dare to disobey, though she felt sure it would all come wrong,\\nand she went on in a trembling voice:\\n‘I passed by his garden and marked, with one eye,'),\n",
       "  Document(metadata={'source': '/home/jovyan/work/data/pdf_alice/alice-in-wonderland.pdf', 'page': 63}, page_content='“I PASSED BY HIS GARDEN .” ’\\nAlice did not dare to disobey, though she felt sure it would all come wrong,\\nand she went on in a trembling voice:\\n‘I passed by his garden and marked, with one eye,\\nHow the Owl and the Panther were sharing a pie – ’\\nThe Panther took pie-crust, and gravy, and meat,\\nWhile the Owl had the dish as its share of the treat.\\nWhen the pie was all ﬁnished, the Owl, as a boon,\\nWas kindly permitted to pocket the spoon;\\nWhile the Panther received knife and fork with a growl,\\nAnd concluded the banquet –\\n‘Whatis the use of repeating all that stuff,’ the Mock Turtle interrupted, ‘if you\\ndon’t explain it as you go on? It’s by far the most confusing thing I ever heard!’\\n‘Yes, I think you’d better leave off,’ said the Gryphon; and Alice was only too\\nglad to do so.\\n‘Shall we try another ﬁgure of the Lobster Quadrille?’ the Gryphon went on,\\n‘Or would you like the Mock Turtle to sing you a song?’\\n‘Oh, a song, please, if the Mock Turtle would be so kind,’ Alice replied, so'),\n",
       "  Document(metadata={'source': '/home/jovyan/work/data/pdf_alice/alice-in-wonderland.pdf', 'page': 63}, page_content='‘Or would you like the Mock Turtle to sing you a song?’\\n‘Oh, a song, please, if the Mock Turtle would be so kind,’ Alice replied, so\\neagerly that the Gryphon said, in a rather offended tone, ‘Hm! No accounting for\\ntastes! Sing her “T URTLE SOUP ,” will you, old fellow?’'),\n",
       "  Document(metadata={'source': '/home/jovyan/work/data/pdf_alice/alice-in-wonderland.pdf', 'page': 64}, page_content='CHAPTER X. THE LOBSTER QUADRILLE 64\\nThe Mock Turtle sighed deeply and began, in a voice sometimes choked with\\nsobs, to sing this:\\n‘Beautiful Soup, so rich and green,\\nWaiting in a hot tureen!\\nWho for such dainties would not stoop?\\nSoup of the evening, beautiful Soup!\\nSoup of the evening, beautiful Soup!\\nBeau – ootiful Soo – oop!\\nBeau – ootiful Soo – oop!\\nSoo – oop of the e – e – evening,\\nBeautiful, beautiful Soup!\\n‘Beautiful Soup! Who cares for ﬁsh,\\nGame, or any other dish?\\nWho would not give all else for two\\nPennyworth only of beautiful Soup?\\nPennyworth only of beautiful Soup?\\nBeau – ootiful Soo – oop!\\nBeau – ootiful Soo – oop!\\nSoo – oop of the e – e – evening,\\nBeautiful, beauti – ful Soup!’\\n‘Chorus again!’ cried the Gryphon, and the Mock Turtle had just begun to\\nrepeat it, when a cry of ‘The trial’s beginning!’ was heard in the distance.\\n‘Come on!’ cried the Gryphon, and, taking Alice by the hand, it hurried off,\\nwithout waiting for the end of the song.'),\n",
       "  Document(metadata={'source': '/home/jovyan/work/data/pdf_alice/alice-in-wonderland.pdf', 'page': 64}, page_content='repeat it, when a cry of ‘The trial’s beginning!’ was heard in the distance.\\n‘Come on!’ cried the Gryphon, and, taking Alice by the hand, it hurried off,\\nwithout waiting for the end of the song.\\n‘What trial is it?’ Alice panted as she ran; but the Gryphon only answered\\n‘Come on!’ and ran the faster, while more and more faintly came, carried on the\\nbreeze that followed them, the melancholy words:\\n‘Soo – oop of the e – e – evening,\\nBeautiful, beautiful Soup!’'),\n",
       "  Document(metadata={'source': '/home/jovyan/work/data/pdf_alice/alice-in-wonderland.pdf', 'page': 65}, page_content='Chapter XI\\nWho Stole the Tarts?\\nThe King and Queen of Hearts were seated\\non their throne when they arrived, with\\na great crowd assembled about them – all\\nsorts of little birds and beasts, as well as the\\nwhole pack of cards; the Knave was stand-\\ning before them, in chains, with a soldier on\\neach side to guard him; and near the King\\nwas the White Rabbit with a trumpet in one\\nhand and a scroll of parchment in the other.\\nIn the very middle of the court was a ta-\\nble, with a large dish of tarts upon it; they\\nlooked so good, that it made Alice quite\\nhungry to look at them – ‘I wish they’d get\\nthe trial done,’ she thought, ‘and hand round\\nthe refreshments!’ But there seemed to be\\nno chance of this, so she began looking at\\neverything about her to pass away the time.\\nAlice had never been in a court of justice\\nbefore, but she had read about them in books and she was quite pleased to ﬁnd\\nthat she knew the name of nearly everything there. ‘That’s the judge,’ she said to'),\n",
       "  Document(metadata={'source': '/home/jovyan/work/data/pdf_alice/alice-in-wonderland.pdf', 'page': 65}, page_content='before, but she had read about them in books and she was quite pleased to ﬁnd\\nthat she knew the name of nearly everything there. ‘That’s the judge,’ she said to\\nherself, ‘because of his great wig.’\\nThe judge, by the way, was the King; and as he wore his crown over the wig,\\n(look at the frontispiece if you want to see how he did it,) he did not look at all\\ncomfortable, and it was certainly not becoming.\\n‘And that’s the jury-box,’ thought Alice, ‘and those twelve creatures,’ (she was\\nobliged to say ‘creatures,’ you see, because some of them were animals and some\\nwere birds,) ‘I suppose they are the jurors.’ She said this last word two or three\\ntimes over to herself, being rather proud of it: for she thought, and rightly too, that\\n65'),\n",
       "  Document(metadata={'source': '/home/jovyan/work/data/pdf_alice/alice-in-wonderland.pdf', 'page': 66}, page_content='CHAPTER XI. WHO STOLE THE TARTS? 66\\nvery few little girls of her age knew the meaning of it at all. However, ‘jury-men’\\nwould have done just as well.\\nThe twelve jurors were all writing very busily on slates. ‘What are they do-\\ning?’ Alice whispered to the Gryphon. ‘They can’t have anything to put down\\nyet, before the trial’s begun.’\\n‘They’re putting down their names,’ the Gryphon whispered in reply, ‘for fear\\nthey should forget them before the end of the trial.’\\n‘Stupid things!’ Alice began in a loud, indignant voice, but she stopped hastily,\\nfor the White Rabbit cried out, ‘Silence in the court!’ and the King put on his\\nspectacles and looked anxiously round to make out who was talking.\\nAlice could see, as well as if she were looking over their shoulders, that all the\\njurors were writing down ‘stupid things!’ on their slates, and she could even make\\nout that one of them didn’t know how to spell ‘stupid,’ and that he had to ask his'),\n",
       "  Document(metadata={'source': '/home/jovyan/work/data/pdf_alice/alice-in-wonderland.pdf', 'page': 66}, page_content='jurors were writing down ‘stupid things!’ on their slates, and she could even make\\nout that one of them didn’t know how to spell ‘stupid,’ and that he had to ask his\\nneighbour to tell him. ‘A nice muddle their slates’ll be in before the trial’s over!’\\nthought Alice.\\nOne of the jurors had a pencil that squeaked. This of course, Alice could not\\nstand, and she went round the court and got behind him, and very soon found an\\nopportunity of taking it away. She did it so quickly that the poor little juror (it was\\nBill, the Lizard) could not make out at all what had become of it; so, after hunting\\nall about for it, he was obliged to write with one ﬁnger for the rest of the day; and\\nthis was of very little use, as it left no mark on the slate.\\n‘Herald, read the accusation!’ said the King.\\nOn this the White Rabbit blew three blasts on the trumpet, and then unrolled\\nthe parchment scroll and read as follows:\\n‘The Queen of Hearts, she made some tarts,\\nAll on a summer day;'),\n",
       "  Document(metadata={'source': '/home/jovyan/work/data/pdf_alice/alice-in-wonderland.pdf', 'page': 66}, page_content='On this the White Rabbit blew three blasts on the trumpet, and then unrolled\\nthe parchment scroll and read as follows:\\n‘The Queen of Hearts, she made some tarts,\\nAll on a summer day;\\nThe Knave of Hearts, he stole those tarts,\\nAnd took them quite away!’\\n‘Consider your verdict,’ the King said to the jury.\\n‘Not yet, not yet!’ the Rabbit hastily interrupted, ‘There’s a great deal to come\\nbefore that!’\\n‘Call the ﬁrst witness,’ said the King; and the White Rabbit blew three blasts\\non the trumpet, and called out, ‘First witness!’\\nThe ﬁrst witness was the Hatter. He came in with a teacup in one hand and\\na piece of bread-and-butter in the other. ‘I beg pardon, your Majesty,’ he began,\\n‘for bringing these in; but I hadn’t quite ﬁnished my tea when I was sent for.’\\n‘You ought to have ﬁnished,’ said the King, ‘When did you begin?’\\nThe Hatter looked at the March Hare, who had followed him into the court,\\narm-in-arm with the Dormouse. ‘Fourteenth of March, I think it was,’ he said.'),\n",
       "  Document(metadata={'source': '/home/jovyan/work/data/pdf_alice/alice-in-wonderland.pdf', 'page': 66}, page_content='The Hatter looked at the March Hare, who had followed him into the court,\\narm-in-arm with the Dormouse. ‘Fourteenth of March, I think it was,’ he said.\\n‘Fifteenth,’ said the March Hare.'),\n",
       "  Document(metadata={'source': '/home/jovyan/work/data/pdf_alice/alice-in-wonderland.pdf', 'page': 67}, page_content='CHAPTER XI. WHO STOLE THE TARTS? 67\\n‘Sixteenth,’ added the Dormouse.\\n‘Write that down,’ the King said\\nto the jury, and the jury eagerly wrote\\ndown all three dates on their slates\\nand then added them up and reduced\\nthe answer to shillings and pence.\\n‘Take off your hat,’ the King said\\nto the Hatter.\\n‘It isn’t mine,’ said the Hatter.\\n‘Stolen!’ the King exclaimed,\\nturning to the jury, who instantly\\nmade a memorandum of the fact.\\n‘I keep them to sell,’ the Hatter\\nadded as an explanation; ‘I’ve none of\\nmy own. I’m a hatter.’\\nHere the Queen put on her spec-\\ntacles and began staring at the Hatter,\\nwho turned pale and ﬁdgeted.\\n‘Give your evidence,’ said the\\nKing, ‘and don’t be nervous, or I’ll\\nhave you executed on the spot.’\\nThis did not seem to encourage the witness at all: he kept shifting from one\\nfoot to the other, looking uneasily at the Queen, and in his confusion he bit a large\\npiece out of his teacup instead of the bread-and-butter.'),\n",
       "  Document(metadata={'source': '/home/jovyan/work/data/pdf_alice/alice-in-wonderland.pdf', 'page': 67}, page_content='foot to the other, looking uneasily at the Queen, and in his confusion he bit a large\\npiece out of his teacup instead of the bread-and-butter.\\nJust at this moment Alice felt a very curious sensation, which puzzled her\\na good deal until she made out what it was: she was beginning to grow larger\\nagain, and she thought at ﬁrst she would get up and leave the court; but on second\\nthoughts she decided to remain where she was as long as there was room for her.\\n‘I wish you wouldn’t squeeze so.’ said the Dormouse, who was sitting next to\\nher, ‘I can hardly breathe.’\\n‘I can’t help it,’ said Alice very meekly, ‘I’m growing.’\\n‘You’ve no right to grow here,’ said the Dormouse.\\n‘Don’t talk nonsense,’ said Alice more boldly, ‘you know you’re growing too.’\\n‘Yes, but I grow at a reasonable pace,’ said the Dormouse, ‘not in that ridicu-\\nlous fashion.’ And he got up very sulkily and crossed over to the other side of the\\ncourt.'),\n",
       "  Document(metadata={'source': '/home/jovyan/work/data/pdf_alice/alice-in-wonderland.pdf', 'page': 67}, page_content='‘Yes, but I grow at a reasonable pace,’ said the Dormouse, ‘not in that ridicu-\\nlous fashion.’ And he got up very sulkily and crossed over to the other side of the\\ncourt.\\nAll this time the Queen had never left off staring at the Hatter, and, just as the\\nDormouse crossed the court, she said to one of the ofﬁcers of the court, ‘Bring me\\nthe list of the singers in the last concert!’ on which the wretched Hatter trembled\\nso, that he shook both his shoes off.'),\n",
       "  Document(metadata={'source': '/home/jovyan/work/data/pdf_alice/alice-in-wonderland.pdf', 'page': 68}, page_content='CHAPTER XI. WHO STOLE THE TARTS? 68\\n‘Give your evidence,’ the King repeated angrily, ‘or I’ll have you executed,\\nwhether you’re nervous or not.’\\n‘I’m a poor man, your Majesty,’ the Hatter began, in a trembling voice, ‘ – and\\nI hadn’t begun my tea – not above a week or so – and what with the bread-and-\\nbutter getting so thin – and the twinkling of the tea – ’\\n‘The twinkling of the what?’ said the King.\\n‘It began with the tea,’ the Hatter replied.\\n‘Of course twinkling begins with a T!’ said the King sharply. ‘Do you take me\\nfor a dunce? Go on!’\\n‘I’m a poor man,’ the Hatter went on, ‘and most things twinkled after that –\\nonly the March Hare said – ’\\n‘I didn’t!’ the March Hare interrupted in a great hurry.\\n‘You did!’ said the Hatter.\\n‘I deny it!’ said the March Hare.\\n‘He denies it,’ said the King, ‘leave out that part.’\\n‘Well, at any rate, the Dormouse said – ’ the Hatter went on, looking anxiously\\nround to see if he would deny it too; but the Dormouse denied nothing, being fast\\nasleep.'),\n",
       "  Document(metadata={'source': '/home/jovyan/work/data/pdf_alice/alice-in-wonderland.pdf', 'page': 68}, page_content='‘Well, at any rate, the Dormouse said – ’ the Hatter went on, looking anxiously\\nround to see if he would deny it too; but the Dormouse denied nothing, being fast\\nasleep.\\n‘After that,’ continued the Hatter, ‘I cut some more bread-and-butter – ’\\n‘But what did the Dormouse say?’ one of the jury asked.\\n‘That I can’t remember,’ said the Hatter.\\n‘Youmust remember,’ remarked the King, ‘or I’ll have you executed.’\\nThe miserable Hatter dropped his teacup and bread-and-butter, and went down\\non one knee. ‘I’m a poor man, your Majesty,’ he began.\\n‘You’re a very poor speaker,’ said the King.\\nHere one of the guinea-pigs cheered, and was immediately suppressed by the\\nofﬁcers of the court. (As that is rather a hard word, I will just explain to you how\\nit was done. They had a large canvas bag, which tied up at the mouth with strings;\\ninto this they slipped the guinea-pig, head ﬁrst, and then sat upon it.)\\n‘I’m glad I’ve seen that done,’ thought Alice, ‘I’ve so often read in the news-'),\n",
       "  Document(metadata={'source': '/home/jovyan/work/data/pdf_alice/alice-in-wonderland.pdf', 'page': 68}, page_content='into this they slipped the guinea-pig, head ﬁrst, and then sat upon it.)\\n‘I’m glad I’ve seen that done,’ thought Alice, ‘I’ve so often read in the news-\\npapers, at the end of trials, “There was some attempts at applause, which was\\nimmediately suppressed by the ofﬁcers of the court,” and I never understood what\\nit meant till now.’\\n‘If that’s all you know about it, you may stand down,’ continued the King.\\n‘I can’t go no lower,’ said the Hatter, ‘I’m on the ﬂoor, as it is.’\\n‘Then you may sit down,’ the King replied.\\nHere the other guinea-pig cheered and was suppressed.\\n‘Come, that ﬁnished the guinea-pigs!’ thought Alice, ‘Now we shall get on\\nbetter.’\\n‘I’d rather ﬁnish my tea,’ said the Hatter, with an anxious look at the Queen,\\nwho was reading the list of singers.'),\n",
       "  Document(metadata={'source': '/home/jovyan/work/data/pdf_alice/alice-in-wonderland.pdf', 'page': 69}, page_content='CHAPTER XI. WHO STOLE THE TARTS? 69\\n‘You may go,’ said the King,\\nand the Hatter hurriedly left the\\ncourt without even waiting to put his\\nshoes on.\\n‘ – and just take his head off out-\\nside,’ the Queen added to one of the\\nofﬁcers; but the Hatter was out of\\nsight before the ofﬁcer could get to\\nthe door.\\n‘Call the next witness!’ said the\\nKing.\\nThe next witness was the Duchess’s cook. She carried the pepper-box in her\\nhand and Alice guessed who it was, even before she got into the court, by the way\\nthe people near the door began sneezing all at once.\\n‘Give your evidence,’ said the King.\\n‘Shan’t,’ said the cook.\\nThe King looked anxiously at the White Rabbit, who said in a low voice, ‘Your\\nMajesty must cross-examine this witness.’\\n‘Well, if I must, I must,’ the King said, with a melancholy air, and, after folding\\nhis arms and frowning at the cook till his eyes were nearly out of sight, he said in\\na deep voice, ‘What are tarts made of?’\\n‘Pepper, mostly,’ said the cook.'),\n",
       "  Document(metadata={'source': '/home/jovyan/work/data/pdf_alice/alice-in-wonderland.pdf', 'page': 69}, page_content='his arms and frowning at the cook till his eyes were nearly out of sight, he said in\\na deep voice, ‘What are tarts made of?’\\n‘Pepper, mostly,’ said the cook.\\n‘Treacle,’ said a sleepy voice behind her.\\n‘Collar that Dormouse,’ the Queen shrieked out, ‘Behead that Dormouse! Turn\\nthat Dormouse out of court! Suppress him! Pinch him! Off with his whiskers!’\\nFor some minutes the whole court was in confusion, getting the Dormouse\\nturned out, and, by the time they had settled down again, the cook had disappeared.\\n‘Never mind!’ said the King, with an air of great relief. ‘Call the next witness.’\\nAnd he added in an undertone to the Queen, ‘Really, my dear, you must cross-\\nexamine the next witness. It quite makes my forehead ache!’\\nAlice watched the White Rabbit as he fumbled over the list, feeling very cu-\\nrious to see what the next witness would be like, ‘ – for they haven’t got much\\nevidence yes,’ she said to herself. Imagine her surprise, when the White Rabbit'),\n",
       "  Document(metadata={'source': '/home/jovyan/work/data/pdf_alice/alice-in-wonderland.pdf', 'page': 69}, page_content='rious to see what the next witness would be like, ‘ – for they haven’t got much\\nevidence yes,’ she said to herself. Imagine her surprise, when the White Rabbit\\nread out, at the top of his shrill little voice, the name ‘Alice!’'),\n",
       "  Document(metadata={'source': '/home/jovyan/work/data/pdf_alice/alice-in-wonderland.pdf', 'page': 70}, page_content='Chapter XII\\nAlice’s Evidence\\n‘Here!’ cried Alice, quite forgetting\\nin the ﬂurry of the moment how large\\nshe had grown in the last few minutes,\\nand she jumped up in such a hurry that\\nshe tipped over the jury-box with the\\nedge of her skirt, upsetting all the ju-\\nrymen on to the heads of the crowd\\nbelow, and there they lay sprawling\\nabout, reminding her very much of\\na globe of goldﬁsh she had acciden-\\ntally upset the week before.\\n‘Oh, I beg your pardon!’ she ex-\\nclaimed in a tone of great dismay\\nand began picking them up again as\\nquickly as she could, for the accident\\nof the goldﬁsh kept running in her\\nhead and she had a vague sort of idea\\nthat they must be collected at once\\nand put back into the jury-box or they would die.\\n‘The trial cannot proceed,’ said the King in a very grave voice, ‘until all the\\njurymen are back in their proper places – all,’ he repeated with great emphasis,\\nlooking hard at Alice as he said do.'),\n",
       "  Document(metadata={'source': '/home/jovyan/work/data/pdf_alice/alice-in-wonderland.pdf', 'page': 70}, page_content='‘The trial cannot proceed,’ said the King in a very grave voice, ‘until all the\\njurymen are back in their proper places – all,’ he repeated with great emphasis,\\nlooking hard at Alice as he said do.\\nAlice looked at the jury-box and saw that, in her haste, she had put the Lizard\\nin head downwards and the poor little thing was waving its tail about in a melan-\\ncholy way, being quite unable to move. She soon got it out again and put it right;\\n‘not that it signiﬁes much,’ she said to herself, ‘I should think it would be quite as\\nmuch use in the trial one way up as the other.’\\n70'),\n",
       "  Document(metadata={'source': '/home/jovyan/work/data/pdf_alice/alice-in-wonderland.pdf', 'page': 71}, page_content='CHAPTER XII. ALICE’S EVIDENCE 71\\nAs soon as the jury had a little recovered from the\\nshock of being upset and their slates and pencils had\\nbeen found and handed back to them, they set to work\\nvery diligently to write out a history of the accident, all\\nexcept the Lizard, who seemed too much overcome to\\ndo anything but sit with its mouth open, gazing up into\\nthe roof of the court.\\n‘What do you know about this business?’ the King\\nsaid to Alice.\\n‘Nothing,’ said Alice.\\n‘Nothingwhatever?’ persisted the King.\\n‘Nothing whatever,’ said Alice.\\n‘That’s very important,’ the King\\nsaid, turning to the jury. They were\\njust beginning to write this down\\non their slates when the White Rab-\\nbit interrupted, ‘ Unimportant, your\\nMajesty means, of course,’ he said in\\na very respectful tone, but frowning and making faces at him as he spoke.\\n‘Unimportant, of course, I meant,’ the King hastily said, and went on to him-\\nself in an undertone, ‘important – unimportant – unimportant – important – ’ as'),\n",
       "  Document(metadata={'source': '/home/jovyan/work/data/pdf_alice/alice-in-wonderland.pdf', 'page': 71}, page_content='‘Unimportant, of course, I meant,’ the King hastily said, and went on to him-\\nself in an undertone, ‘important – unimportant – unimportant – important – ’ as\\nif he were trying which word sounded best.\\nSome of the jury wrote it down ‘important,’ and some ‘unimportant.’ Alice\\ncould see this, as she was near enough to look over their slates; ‘but it doesn’t\\nmatter a bit,’ she thought to herself.\\nAt this moment the King, who had been for some time busily writing in his\\nnote-book, cackled out ‘Silence!’ and read out from his book, ‘Rule Forty-two.\\nAll persons more than a mile high to leave the court .’\\nEverybody looked at Alice.\\n‘I’mnot a mile high,’ said Alice.\\n‘You are,’ said the King.\\n‘Nearly two miles high,’ added the Queen.\\n‘Well, I shan’t go, at any rate,’ said Alice, ‘besides, that’s not a regular rule:\\nyou invented it just now.’\\n‘It’s the oldest rule in the book,’ said the King.\\n‘Then it ought to be Number One,’ said Alice.'),\n",
       "  Document(metadata={'source': '/home/jovyan/work/data/pdf_alice/alice-in-wonderland.pdf', 'page': 71}, page_content='you invented it just now.’\\n‘It’s the oldest rule in the book,’ said the King.\\n‘Then it ought to be Number One,’ said Alice.\\nThe King turned pale, and shut his note-book hastily. ‘Consider your verdict,’\\nhe said to the jury, in a low, trembling voice.\\n‘There’s more evidence to come yet, please your Majesty,’ said the White\\nRabbit, jumping up in a great hurry, ‘this paper has just been picked up.’'),\n",
       "  Document(metadata={'source': '/home/jovyan/work/data/pdf_alice/alice-in-wonderland.pdf', 'page': 72}, page_content='CHAPTER XII. ALICE’S EVIDENCE 72\\n‘What’s in it?’ said the Queen.\\n‘I haven’t opened it yet,’ said the White Rabbit, ‘but it seems to be a letter,\\nwritten by the prisoner to – to somebody.’\\n‘It must have been that,’ said the King, ‘unless it was written to nobody, which\\nisn’t usual, you know.’\\n‘Who is it directed to?’ said one of the jurymen.\\n‘It isn’t directed at all,’ said the White Rabbit, ‘in fact, there’s nothing written\\non the outside.’ He unfolded the paper as he spoke, and added ‘It isn’t a letter,\\nafter all: it’s a set of verses.’\\n‘Are they in the prisoner’s handwriting?’ asked another of the jurymen.\\n‘No, they’re not,’ said the White Rabbit, ‘and that’s the queerest thing about\\nit.’ (The jury all looked puzzled.)\\n‘He must have imitated somebody else’s hand,’ said the King. (The jury all\\nbrightened up again.)\\n‘Please your Majesty,’ said the Knave, ‘I didn’t write it and they can’t prove\\nI did: there’s no name signed at the end.’'),\n",
       "  Document(metadata={'source': '/home/jovyan/work/data/pdf_alice/alice-in-wonderland.pdf', 'page': 72}, page_content='brightened up again.)\\n‘Please your Majesty,’ said the Knave, ‘I didn’t write it and they can’t prove\\nI did: there’s no name signed at the end.’\\n‘If you didn’t sign it,’ said the King, ‘that only makes the matter worse. You\\nmust have meant some mischief or else you’d have signed your name like an\\nhonest man.’\\nThere was a general clapping of hands at this: it was the ﬁrst really clever\\nthing the King had said that day.\\n‘Thatproves his guilt,’ said the Queen.\\n‘It proves nothing of the sort!’ said Alice, ‘Why, you don’t even know what\\nthey’re about!’\\n‘Read them,’ said the King.\\nThe White Rabbit put on his spectacles. ‘Where shall I begin, please your\\nMajesty?’ he asked.\\n‘Begin at the beginning,’ the King said gravely, ‘and go on till you come to the\\nend; then stop.’\\nThese were the verses the White Rabbit read:\\n‘They told me you had been to her,\\nAnd mentioned me to him;\\nShe gave me a good character,\\nBut said I could not swim.\\nHe sent them word I had not gone\\n(We know it to be true);'),\n",
       "  Document(metadata={'source': '/home/jovyan/work/data/pdf_alice/alice-in-wonderland.pdf', 'page': 72}, page_content='‘They told me you had been to her,\\nAnd mentioned me to him;\\nShe gave me a good character,\\nBut said I could not swim.\\nHe sent them word I had not gone\\n(We know it to be true);\\nIf she should push the matter on,\\nWhat would become of you?\\nI gave her one, they gave him two,\\nYou gave us three or more;'),\n",
       "  Document(metadata={'source': '/home/jovyan/work/data/pdf_alice/alice-in-wonderland.pdf', 'page': 73}, page_content='CHAPTER XII. ALICE’S EVIDENCE 73\\nThey all returned from him to you,\\nThough they were mine before.\\nIf I or she should chance to be\\nInvolved in this affair,\\nHe trusts to you to set them free,\\nExactly as we were.\\nMy notion was that you had been\\n(Before she had this ﬁt)\\nAn obstacle that came between\\nHim and ourselves and it.\\nDon’t let him know she liked them best,\\nFor this must ever be\\nA secret kept from all the rest,\\nBetween yourself and me.’\\n‘That’s the most important piece of evidence we’ve heard yet,’ said the King,\\nrubbing his hands, ‘so now let the jury – ’\\n‘If any one of them can explain it,’ said Alice, (she had grown so large in the\\nlast few minutes that she wasn’t a bit afraid of interrupting him,) ‘I’ll give him\\nsixpence. I don’t believe there’s an atom of meaning in it.’\\nThe jury all wrote down on their slates, ‘ She doesn’t believe there’s an atom\\nof meaning in it,’ but none of them attempted to explain the paper.'),\n",
       "  Document(metadata={'source': '/home/jovyan/work/data/pdf_alice/alice-in-wonderland.pdf', 'page': 73}, page_content='The jury all wrote down on their slates, ‘ She doesn’t believe there’s an atom\\nof meaning in it,’ but none of them attempted to explain the paper.\\n‘If there’s no meaning in it,’ said the King, ‘that saves a world of trouble, you\\nknow, as we needn’t try to ﬁnd any. And yet I don’t know,’ he went on, spreading\\nout the verses on his knee and looking at them with one eye; ‘I seem to see some\\nmeaning in them, after all. – “ Said I could not swim ” – you can’t swim, can you?’\\nhe added, turning to the Knave.\\nThe Knave shook his head sadly. ‘Do I look like it?’ he said. (Which he\\ncertainly did not, being made entirely of cardboard.)\\n‘All right, so far,’ said the King, and he went on muttering over the verses to\\nhimself, ‘ “We know it to be true ” – that’s the jury, of course – “ I gave her one,\\nthey gave him two ” – why, that must be what he did with the tarts, you know – ’\\n‘But, it goes on “ They all returned from him to you ,” ’ said Alice.'),\n",
       "  Document(metadata={'source': '/home/jovyan/work/data/pdf_alice/alice-in-wonderland.pdf', 'page': 73}, page_content='they gave him two ” – why, that must be what he did with the tarts, you know – ’\\n‘But, it goes on “ They all returned from him to you ,” ’ said Alice.\\n‘Why, there they are!’ said the King triumphantly, pointing to the tarts on\\nthe table. ‘Nothing can be clearer than that. Then again – “ Before she had this\\nﬁt ” – you never had ﬁts, my dear, I think?’ he said to the Queen.\\n‘Never!’ said the Queen furiously, throwing an inkstand at the Lizard as she\\nspoke. (The unfortunate little Bill had left off writing on his slate with one ﬁnger,\\nas he found it made no mark; but he now hastily began again, using the ink, that\\nwas trickling down his face as long as it lasted.)'),\n",
       "  Document(metadata={'source': '/home/jovyan/work/data/pdf_alice/alice-in-wonderland.pdf', 'page': 74}, page_content='CHAPTER XII. ALICE’S EVIDENCE 74\\n‘Then the words don’t ﬁt you,’ said the King looking round the court with\\na smile. There was a dead silence.\\n‘It’s a pun!’ the King added in an offended tone and everybody laughed, ‘Let\\nthe jury consider their verdict,’ the King said, for about the twentieth time that\\nday.\\n‘No, no!’ said the Queen, ‘Sentence ﬁrst – verdict afterwards.’\\n‘Stuff and nonsense!’ said Alice loudly, ‘The idea of having the sentence ﬁrst!’\\n‘Hold your tongue!’ said the Queen turning purple.\\n‘I won’t!’ said Alice.\\n‘Off with her head!’ the Queen\\nshouted at the top of her voice. No-\\nbody moved.\\n‘Who cares for you?’ said Alice\\n(she had grown to her full size by this\\ntime). ‘You’re nothing but a pack of\\ncards!’\\nAt this the whole pack rose up into\\nthe air and came ﬂying down upon\\nher; she gave a little scream, half of\\nfright and half of anger, and tried to\\nbeat them off, and found herself lying\\non the bank with her head in the lap\\nof her sister, who was gently brush-'),\n",
       "  Document(metadata={'source': '/home/jovyan/work/data/pdf_alice/alice-in-wonderland.pdf', 'page': 74}, page_content='her; she gave a little scream, half of\\nfright and half of anger, and tried to\\nbeat them off, and found herself lying\\non the bank with her head in the lap\\nof her sister, who was gently brush-\\ning away some dead leaves that had\\nﬂuttered down from the trees upon her\\nface.\\n‘Wake up, Alice dear!’ said her\\nsister, ‘Why, what a long sleep you’ve had!’\\n‘Oh, I’ve had such a curious dream!’ said Alice and she told her sister, as well\\nas she could remember them, all these strange adventures of hers that you have\\njust been reading about; and when she had ﬁnished, her sister kissed her and said,\\n‘It was a curious dream, dear, certainly; but now run in to your tea; it’s getting\\nlate.’ So Alice got up and ran off thinking while she ran, as well she might, what\\na wonderful dream it had been.\\nBut her sister sat still just as she left her, leaning her head on her hand, watch-\\ning the setting sun, and thinking of little Alice and all her wonderful adventures'),\n",
       "  Document(metadata={'source': '/home/jovyan/work/data/pdf_alice/alice-in-wonderland.pdf', 'page': 74}, page_content='a wonderful dream it had been.\\nBut her sister sat still just as she left her, leaning her head on her hand, watch-\\ning the setting sun, and thinking of little Alice and all her wonderful adventures\\ntill she too began dreaming after a fashion and this was her dream:\\nFirst, she dreamed of little Alice herself and once again the tiny hands were\\nclasped upon her knee and the bright eager eyes were looking up into hers – she\\ncould hear the very tones of her voice and see that queer little toss of her head to\\nkeep back the wandering hair that would always get into her eyes – and still as she'),\n",
       "  Document(metadata={'source': '/home/jovyan/work/data/pdf_alice/alice-in-wonderland.pdf', 'page': 75}, page_content='CHAPTER XII. ALICE’S EVIDENCE 75\\nlistened, or seemed to listen, the whole place around her became alive the strange\\ncreatures of her little sister’s dream.\\nThe long grass rustled at her feet as the White Rabbit hurried by – the fright-\\nened Mouse splashed his way through the neighbouring pool – she could hear the\\nrattle of the teacups as the March Hare and his friends shared their never-ending\\nmeal and the shrill voice of the Queen ordering off her unfortunate guests to exe-\\ncution – once more the pig-baby was sneezing on the Duchess’s knee while plates\\nand dishes crashed around it – once more the shriek of the Gryphon, the squeaking\\nof the Lizard’s slate-pencil and the choking of the suppressed guinea-pigs, ﬁlled\\nthe air, mixed up with the distant sobs of the miserable Mock Turtle.\\nSo she sat on, with closed eyes, and half believed herself in Wonderland,\\nthough she knew she had but to open them again and all would change to dull'),\n",
       "  Document(metadata={'source': '/home/jovyan/work/data/pdf_alice/alice-in-wonderland.pdf', 'page': 75}, page_content='So she sat on, with closed eyes, and half believed herself in Wonderland,\\nthough she knew she had but to open them again and all would change to dull\\nreality – the grass would be only rustling in the wind, and the pool rippling to the\\nwaving of the reeds – the rattling teacups would change to tinkling sheep-bells\\nand the Queen’s shrill cries to the voice of the shepherd boy – and the sneeze of\\nthe baby, the shriek of the Gryphon, and all the other queer noises, would change\\n(she knew) to the confused clamour of the busy farm-yard – while the lowing of\\nthe cattle in the distance would take the place of the Mock Turtle’s heavy sobs.\\nLastly, she pictured to herself how this same little sister of hers would, in the\\nafter-time, be herself a grown woman; and how she would keep, through all her\\nriper years, the simple and loving heart of her childhood; and how she would\\ngather about her other little children and make their eyes bright and eager with'),\n",
       "  Document(metadata={'source': '/home/jovyan/work/data/pdf_alice/alice-in-wonderland.pdf', 'page': 75}, page_content='riper years, the simple and loving heart of her childhood; and how she would\\ngather about her other little children and make their eyes bright and eager with\\nmany a strange tale, perhaps even with the dream of Wonderland of long ago; and\\nhow she would feel with all their simple sorrows and ﬁnd a pleasure in all their\\nsimple joys remembering her own child-life and the happy summer days.'),\n",
       "  Document(metadata={'source': '/home/jovyan/work/data/pdf_alice/alice-in-wonderland.pdf', 'page': 76}, page_content='THE END')])"
      ]
     },
     "execution_count": 69,
     "metadata": {},
     "output_type": "execute_result"
    }
   ],
   "source": [
    "test_splits, alice_splits"
   ]
  },
  {
   "cell_type": "code",
   "execution_count": 56,
   "id": "6f276c0f-5bcc-40df-9229-5007db7e7cfa",
   "metadata": {},
   "outputs": [
    {
     "data": {
      "application/vnd.jupyter.widget-view+json": {
       "model_id": "2f423790451f47bfa9bd6a4a87b7f611",
       "version_major": 2,
       "version_minor": 0
      },
      "text/plain": [
       "Processing documents:   0%|          | 0/1 [00:00<?, ?it/s]"
      ]
     },
     "metadata": {},
     "output_type": "display_data"
    },
    {
     "name": "stderr",
     "output_type": "stream",
     "text": [
      "RPC error: [insert_rows], <ParamError: (code=1, message=Field source_name don't match in entities[1])>, <Time:{'RPC start': '2024-11-05 12:30:47.035931', 'RPC error': '2024-11-05 12:30:47.176078'}>\n",
      "Failed to insert batch starting at entity: 0/207\n"
     ]
    },
    {
     "name": "stdout",
     "output_type": "stream",
     "text": [
      "Error processing /home/jovyan/work/data/pdf_alice/alice-in-wonderland.pdf: <ParamError: (code=1, message=Field source_name don't match in entities[1])>\n",
      "Done!\n"
     ]
    }
   ],
   "source": [
    "# # Scan files and load them into the vector DB.\n",
    "# files = get_documents_from_subfolder('pdf_alice')\n",
    "\n",
    "# for file_path in tqdm(files, desc=\"Processing documents\"):\n",
    "#     try:\n",
    "#         loader = PyPDFLoader(file_path)\n",
    "#         docs = loader.load()\n",
    "\n",
    "#         # Convert timestamp to formatted string\n",
    "#         timestamp = file_path.stat().st_mtime\n",
    "#         modified_date = datetime.fromtimestamp(timestamp).strftime('%Y-%m-%d %H:%M:%S')\n",
    "\n",
    "#         # Add metadata to all file chunks\n",
    "#         for doc in docs[:1]:\n",
    "#             doc.metadata = doc.metadata | {\n",
    "#                 'source_name': file_path.name,\n",
    "#                 'modified_at': modified_date,  # Gets file modification time\n",
    "#                 'source_id': file_path.name,\n",
    "#             }\n",
    "\n",
    "#         text_splitter = RecursiveCharacterTextSplitter(chunk_size=1000, chunk_overlap=200)\n",
    "#         splits = text_splitter.split_documents(docs)\n",
    "#         # vector_db.add_documents(documents=splits)\n",
    "\n",
    "#     except Exception as exc:\n",
    "#         print(f\"Error processing {file_path}: {exc}\")  # Optional: for debugging\n",
    "\n",
    "\n",
    "# print('Done!')"
   ]
  },
  {
   "cell_type": "code",
   "execution_count": 41,
   "id": "6527786e-5084-4267-9f40-2f634d4493e5",
   "metadata": {},
   "outputs": [],
   "source": [
    "files = get_documents_from_subfolder('pdf')"
   ]
  },
  {
   "cell_type": "code",
   "execution_count": 42,
   "id": "7b7eee3d-4dc7-46ed-b596-0782005b5690",
   "metadata": {},
   "outputs": [
    {
     "name": "stderr",
     "output_type": "stream",
     "text": [
      "Ignoring wrong pointing object 6 0 (offset 0)\n"
     ]
    }
   ],
   "source": [
    "loader = PyPDFLoader(files[0])\n",
    "docs = loader.load()"
   ]
  },
  {
   "cell_type": "code",
   "execution_count": 43,
   "id": "a25b8000-1d6e-41fb-ae9b-2aaa749a5de9",
   "metadata": {},
   "outputs": [
    {
     "data": {
      "text/plain": [
       "Document(metadata={'source': '/home/jovyan/work/data/pdf/test.pdf', 'page': 0}, page_content='Test text in a pdf.  This is for tes1ng purposes. ')"
      ]
     },
     "execution_count": 43,
     "metadata": {},
     "output_type": "execute_result"
    }
   ],
   "source": [
    "docs[0]"
   ]
  },
  {
   "cell_type": "code",
   "execution_count": 14,
   "id": "315a4bd9-0310-4a1d-90d9-894cf4bcbfeb",
   "metadata": {},
   "outputs": [],
   "source": [
    "del docs[0].metadata['page']"
   ]
  },
  {
   "cell_type": "code",
   "execution_count": 15,
   "id": "f33cac70-5ae3-4f25-8606-8f0ce8f78f2a",
   "metadata": {},
   "outputs": [
    {
     "data": {
      "text/plain": [
       "'ALICE ’S ADVENTURES\\nIN WONDERLAND\\nby Lewis Carroll\\nwith fourty-two illustrations by John Tenniel\\nThis book is in public domain.\\nNo rigths reserved. Free for copy and distribution.\\nThis PDF book is designed and published by PDF REE BOOKS .ORG'"
      ]
     },
     "execution_count": 15,
     "metadata": {},
     "output_type": "execute_result"
    }
   ],
   "source": [
    "docs[0].page_content"
   ]
  },
  {
   "cell_type": "code",
   "execution_count": 20,
   "id": "b0215aaa-062f-498d-80ca-9f54dff5a241",
   "metadata": {},
   "outputs": [],
   "source": [
    "text_splitter = RecursiveCharacterTextSplitter(chunk_size=1000, chunk_overlap=200)\n",
    "splits = text_splitter.split_documents(docs[:1])"
   ]
  },
  {
   "cell_type": "code",
   "execution_count": 21,
   "id": "0c6be1db-7ca9-4f26-8c79-c072c83df94f",
   "metadata": {},
   "outputs": [
    {
     "data": {
      "text/plain": [
       "[Document(metadata={'source': '/home/jovyan/work/data/pdf/alice-in-wonderland.pdf'}, page_content='ALICE ’S ADVENTURES\\nIN WONDERLAND\\nby Lewis Carroll\\nwith fourty-two illustrations by John Tenniel\\nThis book is in public domain.\\nNo rigths reserved. Free for copy and distribution.\\nThis PDF book is designed and published by PDF REE BOOKS .ORG')]"
      ]
     },
     "execution_count": 21,
     "metadata": {},
     "output_type": "execute_result"
    }
   ],
   "source": [
    "splits[:1]"
   ]
  },
  {
   "cell_type": "code",
   "execution_count": 4,
   "id": "d29224d1-3ac4-424b-ae87-ce4b10b834de",
   "metadata": {},
   "outputs": [],
   "source": [
    "# splits[:1]\n",
    "from langchain_core.documents import Document\n",
    "\n",
    "document_1 = Document(\n",
    "    page_content='hello world',\n",
    "    metadata={\"source\": \"tweet\"},\n",
    ")"
   ]
  },
  {
   "cell_type": "code",
   "execution_count": 5,
   "id": "a352c935-19d6-4c33-8a18-9828d5ff28c1",
   "metadata": {},
   "outputs": [
    {
     "data": {
      "text/plain": [
       "Document(metadata={'source': 'tweet'}, page_content='hello world')"
      ]
     },
     "execution_count": 5,
     "metadata": {},
     "output_type": "execute_result"
    }
   ],
   "source": [
    "document_1"
   ]
  },
  {
   "cell_type": "code",
   "execution_count": 6,
   "id": "8e800a52-ed4a-4276-8075-7a44f84e142b",
   "metadata": {},
   "outputs": [
    {
     "data": {
      "text/plain": [
       "[453719138828026432]"
      ]
     },
     "execution_count": 6,
     "metadata": {},
     "output_type": "execute_result"
    }
   ],
   "source": [
    "vector_db.add_documents([document_1])"
   ]
  },
  {
   "cell_type": "code",
   "execution_count": 23,
   "id": "449138dd-6c42-4739-b200-b8b33c94e94c",
   "metadata": {},
   "outputs": [
    {
     "data": {
      "text/plain": [
       "Document(metadata={'source': 'tweet'}, page_content='ALICE ’S ADVENTURES\\nIN WONDERLAND\\nby Lewis Carroll\\nwith fourty-two illustrations by John Tenniel\\nThis book is in public domain.\\nNo rigths reserved. Free for copy and distribution.\\nThis PDF book is designed and published by PDF REE BOOKS .ORG')"
      ]
     },
     "execution_count": 23,
     "metadata": {},
     "output_type": "execute_result"
    }
   ],
   "source": [
    "\n",
    "document_2 = Document(\n",
    "    page_content=splits[0].page_content,\n",
    "    metadata={\"source\": \"tweet\"},\n",
    ")\n",
    "document_2"
   ]
  },
  {
   "cell_type": "code",
   "execution_count": 27,
   "id": "8d958e30-724e-4704-a704-1adac41eab92",
   "metadata": {},
   "outputs": [
    {
     "data": {
      "text/plain": [
       "[453719138828026438]"
      ]
     },
     "execution_count": 27,
     "metadata": {},
     "output_type": "execute_result"
    }
   ],
   "source": [
    "vector_db.add_documents(documents=splits)"
   ]
  },
  {
   "cell_type": "code",
   "execution_count": 26,
   "id": "a8022f63-dfcb-471b-bcd4-980ed2fd7193",
   "metadata": {},
   "outputs": [
    {
     "data": {
      "text/plain": [
       "77"
      ]
     },
     "execution_count": 26,
     "metadata": {},
     "output_type": "execute_result"
    }
   ],
   "source": [
    "len(docs)"
   ]
  },
  {
   "cell_type": "code",
   "execution_count": null,
   "id": "5d0d6319-4913-41b6-8137-1e785f8721d6",
   "metadata": {},
   "outputs": [],
   "source": []
  }
 ],
 "metadata": {
  "kernelspec": {
   "display_name": "Python 3 (ipykernel)",
   "language": "python",
   "name": "python3"
  },
  "language_info": {
   "codemirror_mode": {
    "name": "ipython",
    "version": 3
   },
   "file_extension": ".py",
   "mimetype": "text/x-python",
   "name": "python",
   "nbconvert_exporter": "python",
   "pygments_lexer": "ipython3",
   "version": "3.11.6"
  }
 },
 "nbformat": 4,
 "nbformat_minor": 5
}
