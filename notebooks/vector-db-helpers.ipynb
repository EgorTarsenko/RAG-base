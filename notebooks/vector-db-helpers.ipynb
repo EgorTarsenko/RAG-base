{
 "cells": [
  {
   "cell_type": "markdown",
   "id": "4dd1d618-74f2-4e06-8e4f-703bd6f8bab5",
   "metadata": {},
   "source": [
    "----\n",
    "\n",
    "## Initial Vector DB Setup"
   ]
  },
  {
   "cell_type": "code",
   "execution_count": 1,
   "id": "dc069d34-7dd9-4f72-8e9c-29ba357e42d7",
   "metadata": {},
   "outputs": [],
   "source": [
    "import dotenv\n",
    "import os\n",
    "import sys\n",
    "\n",
    "from datetime import datetime\n",
    "from pathlib import Path"
   ]
  },
  {
   "cell_type": "code",
   "execution_count": 2,
   "id": "c89eb65c",
   "metadata": {},
   "outputs": [],
   "source": [
    "# Load and set environment\n",
    "\n",
    "dotenv.load_dotenv()\n",
    "os.environ['USER_AGENT'] = 'myagent'\n",
    "PROJECT_HOME = Path(os.environ.get('PROJECT_HOME', Path.cwd() / '..')).resolve()\n",
    "sys.path.append(str(PROJECT_HOME))"
   ]
  },
  {
   "cell_type": "code",
   "execution_count": 3,
   "id": "14c0383c",
   "metadata": {},
   "outputs": [],
   "source": [
    "from app.databases.vector import VectorDB\n",
    "\n",
    "vector_db = VectorDB(\n",
    "    # auto_id=True,\n",
    "    # drop_old=True,  # Drop existing values inside the collection\n",
    ")"
   ]
  },
  {
   "cell_type": "markdown",
   "id": "c0fca76a-d745-485d-9007-6c717ff9b405",
   "metadata": {},
   "source": [
    "----\n",
    "\n",
    "## Getting a list of current documents"
   ]
  },
  {
   "cell_type": "code",
   "execution_count": 6,
   "id": "c32720df-2497-44fd-9f46-08270d89d9da",
   "metadata": {},
   "outputs": [],
   "source": [
    "def search_vector_db(string_to_search):\n",
    "    # We can't do an empty search, so we'll just search on \".\".\n",
    "    all_docs = vector_db.similarity_search(string_to_search, k=100)  # k is the number of docs to retrieve\n",
    "    \n",
    "    # Display the documents\n",
    "    for doc in all_docs:\n",
    "        print(f\"ID: {doc.metadata.get('source_id', 'N/A')} | Text: {doc.page_content[:20]}...\")"
   ]
  },
  {
   "cell_type": "code",
   "execution_count": 8,
   "id": "7a9463aa-fb14-4ccf-b9df-a205ea499dd2",
   "metadata": {
    "scrolled": true
   },
   "outputs": [
    {
     "name": "stdout",
     "output_type": "stream",
     "text": [
      "ID: alice-in-wonderland.pdf | Text: THE END...\n",
      "ID: alice-in-wonderland.pdf | Text: ‘We indeed!’ cried t...\n",
      "ID: alice-in-wonderland.pdf | Text: history, Alice had n...\n",
      "ID: alice-in-wonderland.pdf | Text: ‘Back to land again ...\n",
      "ID: alice-in-wonderland.pdf | Text: perhaps he can’t hel...\n",
      "ID: alice-in-wonderland.pdf | Text: CHAPTER VII. A MAD T...\n",
      "ID: alice-in-wonderland.pdf | Text: them out of their wi...\n",
      "ID: alice-in-wonderland.pdf | Text: ﬂowers and the blade...\n",
      "ID: alice-in-wonderland.pdf | Text: for it to speak with...\n",
      "ID: alice-in-wonderland.pdf | Text: CHAPTER VIII. THE QU...\n",
      "ID: alice-in-wonderland.pdf | Text: CHAPTER II. THE POOL...\n",
      "ID: alice-in-wonderland.pdf | Text: CHAPTER VII. A MAD T...\n",
      "ID: alice-in-wonderland.pdf | Text: CHAPTER XII. ALICE’S...\n",
      "ID: alice-in-wonderland.pdf | Text: CHAPTER II. THE POOL...\n",
      "ID: alice-in-wonderland.pdf | Text: CHAPTER I. DOWN THE ...\n",
      "ID: alice-in-wonderland.pdf | Text: CHAPTER VI. PIG AND ...\n",
      "ID: alice-in-wonderland.pdf | Text: So she sat on, with ...\n",
      "ID: alice-in-wonderland.pdf | Text: CHAPTER VI. PIG AND ...\n",
      "ID: alice-in-wonderland.pdf | Text: CHAPTER II. THE POOL...\n",
      "ID: alice-in-wonderland.pdf | Text: to her in an angry t...\n",
      "ID: alice-in-wonderland.pdf | Text: her knowledge, as th...\n",
      "ID: alice-in-wonderland.pdf | Text: “I PASSED BY HIS GAR...\n",
      "ID: alice-in-wonderland.pdf | Text: surd for her to carr...\n",
      "ID: alice-in-wonderland.pdf | Text: way into that lovely...\n",
      "ID: alice-in-wonderland.pdf | Text: CHAPTER VI. PIG AND ...\n",
      "ID: alice-in-wonderland.pdf | Text: Chapter VI\n",
      "Pig and P...\n",
      "ID: alice-in-wonderland.pdf | Text: as to prevent its un...\n",
      "ID: alice-in-wonderland.pdf | Text: be a person of autho...\n",
      "ID: alice-in-wonderland.pdf | Text: CHAPTER IX. THE MOCK...\n",
      "ID: alice-in-wonderland.pdf | Text: its tongue hanging o...\n",
      "ID: alice-in-wonderland.pdf | Text: CHAPTER IV . THE RAB...\n",
      "ID: alice-in-wonderland.pdf | Text: CHAPTER IV . THE RAB...\n",
      "ID: alice-in-wonderland.pdf | Text: she muttered to hers...\n",
      "ID: alice-in-wonderland.pdf | Text: but, on being pinche...\n",
      "ID: alice-in-wonderland.pdf | Text: end of the ground – ...\n",
      "ID: alice-in-wonderland.pdf | Text: opened inwards and A...\n",
      "ID: alice-in-wonderland.pdf | Text: CHAPTER I. DOWN THE ...\n",
      "ID: alice-in-wonderland.pdf | Text: his arms and frownin...\n",
      "ID: alice-in-wonderland.pdf | Text: way.\n",
      "‘I thought it w...\n",
      "ID: alice-in-wonderland.pdf | Text: ‘They told me you ha...\n",
      "ID: alice-in-wonderland.pdf | Text: CHAPTER V . ADVICE F...\n",
      "ID: alice-in-wonderland.pdf | Text: ‘Yes, itis his busin...\n",
      "ID: alice-in-wonderland.pdf | Text: (when she thought it...\n",
      "ID: alice-in-wonderland.pdf | Text: they gave him two ” ...\n",
      "ID: alice-in-wonderland.pdf | Text: CHAPTER VII. A MAD T...\n",
      "ID: alice-in-wonderland.pdf | Text: And faintly strove t...\n",
      "ID: alice-in-wonderland.pdf | Text: ‘Well, then,’ the Ca...\n",
      "ID: alice-in-wonderland.pdf | Text: CHAPTER IV . THE RAB...\n",
      "ID: alice-in-wonderland.pdf | Text: says it kills all th...\n",
      "ID: alice-in-wonderland.pdf | Text: they would not remem...\n",
      "ID: alice-in-wonderland.pdf | Text: CHAPTER V . ADVICE F...\n",
      "ID: alice-in-wonderland.pdf | Text: ‘Would it be of any ...\n",
      "ID: alice-in-wonderland.pdf | Text: turned a corner, ‘Oh...\n",
      "ID: alice-in-wonderland.pdf | Text: CHAPTER VI. PIG AND ...\n",
      "ID: aesops fables_small.txt | Text: ﻿INTRODUCTION...\n",
      "ID: alice-in-wonderland.pdf | Text: far as they would go...\n",
      "ID: alice-in-wonderland.pdf | Text: VII A Mad Tea-Party ...\n",
      "ID: alice-in-wonderland.pdf | Text: ‘And who is Dinah, i...\n",
      "ID: alice-in-wonderland.pdf | Text: found the fan and gl...\n",
      "ID: alice-in-wonderland.pdf | Text: shaped like ears and...\n",
      "ID: alice-in-wonderland.pdf | Text: All the time they we...\n",
      "ID: alice-in-wonderland.pdf | Text: to be found: all she...\n",
      "ID: alice-in-wonderland.pdf | Text: he handed over to th...\n",
      "ID: alice-in-wonderland.pdf | Text: CHAPTER III. A CAUCU...\n",
      "ID: alice-in-wonderland.pdf | Text: ‘But it’s no use now...\n",
      "ID: alice-in-wonderland.pdf | Text: of them!’\n",
      "‘And who a...\n",
      "ID: alice-in-wonderland.pdf | Text: CHAPTER VII. A MAD T...\n",
      "ID: alice-in-wonderland.pdf | Text: ‘I’m afraid I don’t ...\n",
      "ID: alice-in-wonderland.pdf | Text: The Hatter looked at...\n",
      "ID: alice-in-wonderland.pdf | Text: jurors were writing ...\n",
      "ID: alice-in-wonderland.pdf | Text: the baby at her as s...\n",
      "ID: alice-in-wonderland.pdf | Text: Chapter I\n",
      "Down the R...\n",
      "ID: alice-in-wonderland.pdf | Text: CHAPTER VIII. THE QU...\n",
      "ID: alice-in-wonderland.pdf | Text: CHAPTER IX. THE MOCK...\n",
      "ID: alice-in-wonderland.pdf | Text: not open any of them...\n",
      "ID: alice-in-wonderland.pdf | Text: added in a sorrowful...\n",
      "ID: alice-in-wonderland.pdf | Text: ‘Yes, but I grow at ...\n",
      "ID: alice-in-wonderland.pdf | Text: the Rabbit angrily, ...\n",
      "ID: alice-in-wonderland.pdf | Text: CHAPTER VI. PIG AND ...\n",
      "ID: alice-in-wonderland.pdf | Text: that.’\n",
      "‘With extras?...\n",
      "ID: alice-in-wonderland.pdf | Text: CHAPTER VII. A MAD T...\n",
      "ID: alice-in-wonderland.pdf | Text: Chapter V\n",
      "Advice fro...\n",
      "ID: alice-in-wonderland.pdf | Text: ‘No, no! The adventu...\n",
      "ID: alice-in-wonderland.pdf | Text: ‘The trial cannot pr...\n",
      "ID: alice-in-wonderland.pdf | Text: jumped up and bawled...\n",
      "ID: alice-in-wonderland.pdf | Text: rious to see what th...\n",
      "ID: alice-in-wonderland.pdf | Text: till I’ve ﬁnished.’\n",
      "...\n",
      "ID: alice-in-wonderland.pdf | Text: quite dry again, the...\n",
      "ID: alice-in-wonderland.pdf | Text: saying to herself, ‘...\n",
      "ID: alice-in-wonderland.pdf | Text: of these cakes,’ she...\n",
      "ID: alice-in-wonderland.pdf | Text: ‘really you are very...\n",
      "ID: alice-in-wonderland.pdf | Text: CHAPTER I. DOWN THE ...\n",
      "ID: alice-in-wonderland.pdf | Text: into its nest. Alice...\n",
      "ID: alice-in-wonderland.pdf | Text: CHAPTER IV . THE RAB...\n",
      "ID: alice-in-wonderland.pdf | Text: CHAPTER II. THE POOL...\n",
      "ID: alice-in-wonderland.pdf | Text: it would like the na...\n",
      "ID: alice-in-wonderland.pdf | Text: CHAPTER I. DOWN THE ...\n",
      "ID: alice-in-wonderland.pdf | Text: CHAPTER III. A CAUCU...\n",
      "ID: alice-in-wonderland.pdf | Text: Chapter IV\n",
      "The Rabbi...\n",
      "ID: alice-in-wonderland.pdf | Text: foot to the other, l...\n"
     ]
    }
   ],
   "source": [
    "search_vector_db(\".\")"
   ]
  },
  {
   "cell_type": "markdown",
   "id": "00bcd418-55a5-49d5-a3cc-1d2881dc4ddf",
   "metadata": {
    "jp-MarkdownHeadingCollapsed": true
   },
   "source": [
    "----\n",
    "\n",
    "## Adding text to the vector db (Don't do this on its own!)"
   ]
  },
  {
   "cell_type": "code",
   "execution_count": 9,
   "id": "c474ec9c-30f5-47b9-809a-a6a5c6202f10",
   "metadata": {
    "scrolled": true
   },
   "outputs": [],
   "source": [
    "class StoreTextWrap:\n",
    "    def __init__(self):\n",
    "        self.cur_source_id = 1\n",
    "    \n",
    "    def store(self, text, source_name=\"chat\", source_id=None, modified_at=None):\n",
    "        \n",
    "        if not source_id:\n",
    "            source_id = str(self.cur_source_id)\n",
    "            self.cur_source_id += 1\n",
    "\n",
    "        modified_at = modified_at or datetime.now()\n",
    "        \n",
    "        return vector_db.split_and_store_text(text,\n",
    "            metadata={\n",
    "                'source_name':source_name,\n",
    "                'source_id':source_id,\n",
    "                'modified_at':modified_at.isoformat(),\n",
    "            })\n",
    "store_text = StoreTextWrap().store\n",
    "# Use by just calling store_text()."
   ]
  },
  {
   "cell_type": "code",
   "execution_count": 11,
   "id": "c8955bab-2370-4fb6-8fcb-541505923233",
   "metadata": {},
   "outputs": [
    {
     "data": {
      "text/plain": [
       "[453742060807679821]"
      ]
     },
     "execution_count": 11,
     "metadata": {},
     "output_type": "execute_result"
    }
   ],
   "source": [
    "await store_text(\"The best headphones in the world are the Boise QC Edan version\")"
   ]
  },
  {
   "cell_type": "markdown",
   "id": "902f694e-8155-4941-ac30-1d843719be06",
   "metadata": {},
   "source": [
    "----\n",
    "\n",
    "## Deleting text from the db"
   ]
  },
  {
   "cell_type": "code",
   "execution_count": null,
   "id": "8672baa3-aec0-420c-8284-732e902aa2ec",
   "metadata": {},
   "outputs": [],
   "source": [
    "def delete_by_id(aid):\n",
    "    return vector_db.delete_embeddings(aid)"
   ]
  },
  {
   "cell_type": "code",
   "execution_count": null,
   "id": "99c922aa-7d6c-4b1a-a2f3-5d966992243d",
   "metadata": {},
   "outputs": [],
   "source": [
    "await delete_by_id(1)"
   ]
  },
  {
   "cell_type": "markdown",
   "id": "120212b5-23ec-4e80-ad96-be98435a20d4",
   "metadata": {},
   "source": [
    "## Delete and remake the collection"
   ]
  },
  {
   "cell_type": "code",
   "execution_count": null,
   "id": "75d1a77b-ed00-4795-9787-c6cac41f7547",
   "metadata": {},
   "outputs": [],
   "source": [
    "dir(vector_db)"
   ]
  }
 ],
 "metadata": {
  "kernelspec": {
   "display_name": "Python 3 (ipykernel)",
   "language": "python",
   "name": "python3"
  },
  "language_info": {
   "codemirror_mode": {
    "name": "ipython",
    "version": 3
   },
   "file_extension": ".py",
   "mimetype": "text/x-python",
   "name": "python",
   "nbconvert_exporter": "python",
   "pygments_lexer": "ipython3",
   "version": "3.11.6"
  }
 },
 "nbformat": 4,
 "nbformat_minor": 5
}
