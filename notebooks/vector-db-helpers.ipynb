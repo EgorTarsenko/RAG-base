{
 "cells": [
  {
   "cell_type": "markdown",
   "id": "4dd1d618-74f2-4e06-8e4f-703bd6f8bab5",
   "metadata": {},
   "source": [
    "----\n",
    "\n",
    "## Initial Vector DB Setup"
   ]
  },
  {
   "cell_type": "code",
   "execution_count": null,
   "id": "dc069d34-7dd9-4f72-8e9c-29ba357e42d7",
   "metadata": {},
   "outputs": [],
   "source": [
    "import dotenv\n",
    "import os\n",
    "import pandas as pd\n",
    "import sys\n",
    "\n",
    "from pathlib import Path"
   ]
  },
  {
   "cell_type": "code",
   "execution_count": null,
   "id": "c89eb65c",
   "metadata": {},
   "outputs": [],
   "source": [
    "# Load and set environment\n",
    "\n",
    "dotenv.load_dotenv()\n",
    "os.environ['USER_AGENT'] = 'myagent'\n",
    "PROJECT_HOME = Path(os.environ.get('PROJECT_HOME', Path.cwd() / '..')).resolve()\n",
    "sys.path.append(str(PROJECT_HOME))"
   ]
  },
  {
   "cell_type": "code",
   "execution_count": null,
   "id": "14c0383c",
   "metadata": {},
   "outputs": [],
   "source": [
    "# from app.databases.vector.milvus import Milvus\n",
    "from app.databases.vector import VectorDB\n",
    "\n",
    "vector_db = VectorDB(\n",
    "    # auto_id=True,\n",
    "    # drop_old=True,  # Drop existing values inside the collection\n",
    ")"
   ]
  },
  {
   "cell_type": "markdown",
   "id": "c0fca76a-d745-485d-9007-6c717ff9b405",
   "metadata": {},
   "source": [
    "----\n",
    "\n",
    "## Getting a list of current documents"
   ]
  },
  {
   "cell_type": "code",
   "execution_count": null,
   "id": "c32720df-2497-44fd-9f46-08270d89d9da",
   "metadata": {},
   "outputs": [],
   "source": [
    "def display_docs():\n",
    "    # We can't do an empty search, so we'll just search on \".\".\n",
    "    all_docs = vector_db.similarity_search(\"t\", k=100)  # k is the number of docs to retrieve\n",
    "    \n",
    "    # Display the documents\n",
    "    for doc in all_docs:\n",
    "        print(f\"ID: {doc.metadata.get('source_id', 'N/A')} | Text: {doc.page_content[:20]}...\")\n",
    "        # print(f\"ID: {doc.metadata.get('source_id', 'N/A')}\")"
   ]
  },
  {
   "cell_type": "code",
   "execution_count": null,
   "id": "7a9463aa-fb14-4ccf-b9df-a205ea499dd2",
   "metadata": {
    "scrolled": true
   },
   "outputs": [],
   "source": [
    "display_docs()"
   ]
  },
  {
   "cell_type": "markdown",
   "id": "00bcd418-55a5-49d5-a3cc-1d2881dc4ddf",
   "metadata": {
    "jp-MarkdownHeadingCollapsed": true
   },
   "source": [
    "----\n",
    "\n",
    "## Adding text to the vector db (Don't do this on its own!)"
   ]
  },
  {
   "cell_type": "code",
   "execution_count": null,
   "id": "c474ec9c-30f5-47b9-809a-a6a5c6202f10",
   "metadata": {
    "scrolled": true
   },
   "outputs": [],
   "source": [
    "from datetime import datetime\n",
    "\n",
    "class StoreTextWrap:\n",
    "    def __init__(self):\n",
    "        self.cur_source_id = 1\n",
    "    \n",
    "    def store(self, text, source_name=\"chat\", source_id=None, modified_at=None):\n",
    "        \n",
    "        if not source_id:\n",
    "            source_id = str(self.cur_source_id)\n",
    "            self.cur_source_id += 1\n",
    "\n",
    "        modified_at = modified_at or datetime.now()\n",
    "        \n",
    "        return vector_db.split_and_store_text(text,\n",
    "            metadata={\n",
    "                'source_name':source_name,\n",
    "                'source_id':source_id,\n",
    "                'modified_at':modified_at.isoformat(),\n",
    "            })\n",
    "store_text = StoreTextWrap().store\n",
    "# Use by just calling store_text()."
   ]
  },
  {
   "cell_type": "code",
   "execution_count": null,
   "id": "c8955bab-2370-4fb6-8fcb-541505923233",
   "metadata": {},
   "outputs": [],
   "source": [
    "await store_text(\"I want to try my hand at RAG\")"
   ]
  },
  {
   "cell_type": "markdown",
   "id": "902f694e-8155-4941-ac30-1d843719be06",
   "metadata": {},
   "source": [
    "----\n",
    "\n",
    "## Deleting text from the db"
   ]
  },
  {
   "cell_type": "code",
   "execution_count": null,
   "id": "e58b58b6-b2d7-44af-bc66-b099e90f610a",
   "metadata": {},
   "outputs": [],
   "source": []
  },
  {
   "cell_type": "code",
   "execution_count": null,
   "id": "8672baa3-aec0-420c-8284-732e902aa2ec",
   "metadata": {},
   "outputs": [],
   "source": [
    "def delete_by_id(aid):\n",
    "    return vector_db.delete_embeddings(aid)\n"
   ]
  },
  {
   "cell_type": "code",
   "execution_count": null,
   "id": "99c922aa-7d6c-4b1a-a2f3-5d966992243d",
   "metadata": {},
   "outputs": [],
   "source": [
    "\n",
    "await delete_by_id(1)e"
   ]
  },
  {
   "cell_type": "code",
   "execution_count": null,
   "id": "78dfc90c-853f-46a9-9c97-b701b64d1603",
   "metadata": {},
   "outputs": [],
   "source": []
  },
  {
   "cell_type": "code",
   "execution_count": null,
   "id": "1a84337a-2724-4949-9afe-0a8d9b055855",
   "metadata": {},
   "outputs": [],
   "source": []
  },
  {
   "cell_type": "markdown",
   "id": "120212b5-23ec-4e80-ad96-be98435a20d4",
   "metadata": {},
   "source": [
    "## Delete and remake the collection"
   ]
  },
  {
   "cell_type": "code",
   "execution_count": null,
   "id": "75d1a77b-ed00-4795-9787-c6cac41f7547",
   "metadata": {},
   "outputs": [],
   "source": [
    "dir(vector_db)"
   ]
  },
  {
   "cell_type": "code",
   "execution_count": null,
   "id": "cc989a4b-523b-4bdd-ae46-33ba5a06abf0",
   "metadata": {},
   "outputs": [],
   "source": []
  }
 ],
 "metadata": {
  "kernelspec": {
   "display_name": "Python 3 (ipykernel)",
   "language": "python",
   "name": "python3"
  },
  "language_info": {
   "codemirror_mode": {
    "name": "ipython",
    "version": 3
   },
   "file_extension": ".py",
   "mimetype": "text/x-python",
   "name": "python",
   "nbconvert_exporter": "python",
   "pygments_lexer": "ipython3",
   "version": "3.11.6"
  }
 },
 "nbformat": 4,
 "nbformat_minor": 5
}
